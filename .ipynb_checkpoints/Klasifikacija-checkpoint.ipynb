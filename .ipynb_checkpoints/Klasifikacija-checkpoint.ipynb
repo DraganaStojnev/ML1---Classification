{
 "cells": [
  {
   "cell_type": "code",
   "execution_count": 74,
   "metadata": {},
   "outputs": [],
   "source": [
    "# import sys\n",
    "# !{sys.executable} -m pip install pandas\n",
    "# !{sys.executable} -m pip install numpy\n",
    "# !{sys.executable} -m pip install matplotlib\n",
    "# !{sys.executable} -m pip install sklearn\n",
    "# !{sys.executable} -m pip install scipy"
   ]
  },
  {
   "cell_type": "markdown",
   "metadata": {},
   "source": [
    "# Importovanje potrebnih paketa za rad sa algoritmima nadgledanog učenja"
   ]
  },
  {
   "cell_type": "code",
   "execution_count": 154,
   "metadata": {},
   "outputs": [],
   "source": [
    "import pandas as pd\n",
    "import numpy as np\n",
    "import random\n",
    "import matplotlib.pyplot as plt\n",
    "from sklearn.utils import resample\n",
    "from sklearn.model_selection import train_test_split, KFold, RepeatedKFold\n",
    "from sklearn.linear_model import LogisticRegression, LassoCV, Ridge\n",
    "from sklearn.metrics import confusion_matrix, accuracy_score, f1_score, recall_score, precision_score, classification_report,r2_score, mean_squared_error, roc_curve, auc\n",
    "from sklearn.ensemble import GradientBoostingClassifier, RandomForestClassifier, ExtraTreesClassifier\n",
    "from sklearn.naive_bayes import MultinomialNB\n",
    "from sklearn.preprocessing import StandardScaler\n",
    "from sklearn.neighbors import KNeighborsClassifier\n",
    "from scipy.stats import iqr\n",
    "from sklearn.feature_selection import RFE, SelectFromModel\n",
    "from sklearn.decomposition import PCA\n",
    "from sklearn import tree"
   ]
  },
  {
   "cell_type": "markdown",
   "metadata": {},
   "source": [
    "# Učitavanje dataset-a"
   ]
  },
  {
   "cell_type": "code",
   "execution_count": 155,
   "metadata": {
    "scrolled": true
   },
   "outputs": [
    {
     "data": {
      "text/html": [
       "<div>\n",
       "<style scoped>\n",
       "    .dataframe tbody tr th:only-of-type {\n",
       "        vertical-align: middle;\n",
       "    }\n",
       "\n",
       "    .dataframe tbody tr th {\n",
       "        vertical-align: top;\n",
       "    }\n",
       "\n",
       "    .dataframe thead th {\n",
       "        text-align: right;\n",
       "    }\n",
       "</style>\n",
       "<table border=\"1\" class=\"dataframe\">\n",
       "  <thead>\n",
       "    <tr style=\"text-align: right;\">\n",
       "      <th></th>\n",
       "      <th>word_freq_make</th>\n",
       "      <th>word_freq_address</th>\n",
       "      <th>word_freq_all</th>\n",
       "      <th>word_freq_3d</th>\n",
       "      <th>word_freq_our</th>\n",
       "      <th>word_freq_over</th>\n",
       "      <th>word_freq_remove</th>\n",
       "      <th>word_freq_internet</th>\n",
       "      <th>word_freq_order</th>\n",
       "      <th>word_freq_mail</th>\n",
       "      <th>...</th>\n",
       "      <th>char_freq_;</th>\n",
       "      <th>char_freq_(</th>\n",
       "      <th>char_freq_[</th>\n",
       "      <th>char_freq_!</th>\n",
       "      <th>char_freq_$</th>\n",
       "      <th>char_freq_#</th>\n",
       "      <th>capital_run_length_average</th>\n",
       "      <th>capital_run_length_longest</th>\n",
       "      <th>capital_run_length_total</th>\n",
       "      <th>label_spam</th>\n",
       "    </tr>\n",
       "  </thead>\n",
       "  <tbody>\n",
       "    <tr>\n",
       "      <th>0</th>\n",
       "      <td>0.00</td>\n",
       "      <td>0.64</td>\n",
       "      <td>0.64</td>\n",
       "      <td>0.0</td>\n",
       "      <td>0.32</td>\n",
       "      <td>0.00</td>\n",
       "      <td>0.00</td>\n",
       "      <td>0.00</td>\n",
       "      <td>0.00</td>\n",
       "      <td>0.00</td>\n",
       "      <td>...</td>\n",
       "      <td>0.00</td>\n",
       "      <td>0.000</td>\n",
       "      <td>0.0</td>\n",
       "      <td>0.778</td>\n",
       "      <td>0.000</td>\n",
       "      <td>0.000</td>\n",
       "      <td>3.756</td>\n",
       "      <td>61</td>\n",
       "      <td>278</td>\n",
       "      <td>1</td>\n",
       "    </tr>\n",
       "    <tr>\n",
       "      <th>1</th>\n",
       "      <td>0.21</td>\n",
       "      <td>0.28</td>\n",
       "      <td>0.50</td>\n",
       "      <td>0.0</td>\n",
       "      <td>0.14</td>\n",
       "      <td>0.28</td>\n",
       "      <td>0.21</td>\n",
       "      <td>0.07</td>\n",
       "      <td>0.00</td>\n",
       "      <td>0.94</td>\n",
       "      <td>...</td>\n",
       "      <td>0.00</td>\n",
       "      <td>0.132</td>\n",
       "      <td>0.0</td>\n",
       "      <td>0.372</td>\n",
       "      <td>0.180</td>\n",
       "      <td>0.048</td>\n",
       "      <td>5.114</td>\n",
       "      <td>101</td>\n",
       "      <td>1028</td>\n",
       "      <td>1</td>\n",
       "    </tr>\n",
       "    <tr>\n",
       "      <th>2</th>\n",
       "      <td>0.06</td>\n",
       "      <td>0.00</td>\n",
       "      <td>0.71</td>\n",
       "      <td>0.0</td>\n",
       "      <td>1.23</td>\n",
       "      <td>0.19</td>\n",
       "      <td>0.19</td>\n",
       "      <td>0.12</td>\n",
       "      <td>0.64</td>\n",
       "      <td>0.25</td>\n",
       "      <td>...</td>\n",
       "      <td>0.01</td>\n",
       "      <td>0.143</td>\n",
       "      <td>0.0</td>\n",
       "      <td>0.276</td>\n",
       "      <td>0.184</td>\n",
       "      <td>0.010</td>\n",
       "      <td>9.821</td>\n",
       "      <td>485</td>\n",
       "      <td>2259</td>\n",
       "      <td>1</td>\n",
       "    </tr>\n",
       "    <tr>\n",
       "      <th>3</th>\n",
       "      <td>0.00</td>\n",
       "      <td>0.00</td>\n",
       "      <td>0.00</td>\n",
       "      <td>0.0</td>\n",
       "      <td>0.63</td>\n",
       "      <td>0.00</td>\n",
       "      <td>0.31</td>\n",
       "      <td>0.63</td>\n",
       "      <td>0.31</td>\n",
       "      <td>0.63</td>\n",
       "      <td>...</td>\n",
       "      <td>0.00</td>\n",
       "      <td>0.137</td>\n",
       "      <td>0.0</td>\n",
       "      <td>0.137</td>\n",
       "      <td>0.000</td>\n",
       "      <td>0.000</td>\n",
       "      <td>3.537</td>\n",
       "      <td>40</td>\n",
       "      <td>191</td>\n",
       "      <td>1</td>\n",
       "    </tr>\n",
       "    <tr>\n",
       "      <th>4</th>\n",
       "      <td>0.00</td>\n",
       "      <td>0.00</td>\n",
       "      <td>0.00</td>\n",
       "      <td>0.0</td>\n",
       "      <td>0.63</td>\n",
       "      <td>0.00</td>\n",
       "      <td>0.31</td>\n",
       "      <td>0.63</td>\n",
       "      <td>0.31</td>\n",
       "      <td>0.63</td>\n",
       "      <td>...</td>\n",
       "      <td>0.00</td>\n",
       "      <td>0.135</td>\n",
       "      <td>0.0</td>\n",
       "      <td>0.135</td>\n",
       "      <td>0.000</td>\n",
       "      <td>0.000</td>\n",
       "      <td>3.537</td>\n",
       "      <td>40</td>\n",
       "      <td>191</td>\n",
       "      <td>1</td>\n",
       "    </tr>\n",
       "  </tbody>\n",
       "</table>\n",
       "<p>5 rows × 58 columns</p>\n",
       "</div>"
      ],
      "text/plain": [
       "   word_freq_make  word_freq_address  word_freq_all  word_freq_3d  \\\n",
       "0            0.00               0.64           0.64           0.0   \n",
       "1            0.21               0.28           0.50           0.0   \n",
       "2            0.06               0.00           0.71           0.0   \n",
       "3            0.00               0.00           0.00           0.0   \n",
       "4            0.00               0.00           0.00           0.0   \n",
       "\n",
       "   word_freq_our  word_freq_over  word_freq_remove  word_freq_internet  \\\n",
       "0           0.32            0.00              0.00                0.00   \n",
       "1           0.14            0.28              0.21                0.07   \n",
       "2           1.23            0.19              0.19                0.12   \n",
       "3           0.63            0.00              0.31                0.63   \n",
       "4           0.63            0.00              0.31                0.63   \n",
       "\n",
       "   word_freq_order  word_freq_mail  ...  char_freq_;  char_freq_(  \\\n",
       "0             0.00            0.00  ...         0.00        0.000   \n",
       "1             0.00            0.94  ...         0.00        0.132   \n",
       "2             0.64            0.25  ...         0.01        0.143   \n",
       "3             0.31            0.63  ...         0.00        0.137   \n",
       "4             0.31            0.63  ...         0.00        0.135   \n",
       "\n",
       "   char_freq_[  char_freq_!  char_freq_$  char_freq_#  \\\n",
       "0          0.0        0.778        0.000        0.000   \n",
       "1          0.0        0.372        0.180        0.048   \n",
       "2          0.0        0.276        0.184        0.010   \n",
       "3          0.0        0.137        0.000        0.000   \n",
       "4          0.0        0.135        0.000        0.000   \n",
       "\n",
       "   capital_run_length_average  capital_run_length_longest  \\\n",
       "0                       3.756                          61   \n",
       "1                       5.114                         101   \n",
       "2                       9.821                         485   \n",
       "3                       3.537                          40   \n",
       "4                       3.537                          40   \n",
       "\n",
       "   capital_run_length_total  label_spam  \n",
       "0                       278           1  \n",
       "1                      1028           1  \n",
       "2                      2259           1  \n",
       "3                       191           1  \n",
       "4                       191           1  \n",
       "\n",
       "[5 rows x 58 columns]"
      ]
     },
     "execution_count": 155,
     "metadata": {},
     "output_type": "execute_result"
    }
   ],
   "source": [
    "dataset = pd.read_csv(\"dataset.csv\")\n",
    "dataset.head()"
   ]
  },
  {
   "cell_type": "code",
   "execution_count": 156,
   "metadata": {},
   "outputs": [
    {
     "data": {
      "text/plain": [
       "(4601, 58)"
      ]
     },
     "execution_count": 156,
     "metadata": {},
     "output_type": "execute_result"
    }
   ],
   "source": [
    "dataset.shape"
   ]
  },
  {
   "cell_type": "markdown",
   "metadata": {},
   "source": [
    "# Sredjivanje dataseta"
   ]
  },
  {
   "cell_type": "markdown",
   "metadata": {},
   "source": [
    "### jedna od tehnika za preprocesiranje dataseta je eliminacija kolona koje nisu od važnosti za samu odluku kasnije, tj ne nose nikakve dodatne informacije. Primer takve kolone bi bio id podatka i njegova eliminacija bi se vršila na sledeći način:"
   ]
  },
  {
   "cell_type": "code",
   "execution_count": 157,
   "metadata": {},
   "outputs": [],
   "source": [
    "#dataset.drop(['id'], axis=1, inplace=True)"
   ]
  },
  {
   "cell_type": "markdown",
   "metadata": {},
   "source": [
    "### sledeća tehnika jeste da se svi podaci pretvore u numeričke. S obzirom da u našem datasetu to nije neophodno uraditi, u nastavku je krpz komentar dat deo koda koji bi ilustrovao ovu tehniku:"
   ]
  },
  {
   "cell_type": "code",
   "execution_count": 158,
   "metadata": {},
   "outputs": [],
   "source": [
    "#dataset['label_spam'] = [1 if b=='S' else 0 for b in dataset.label_spam]"
   ]
  },
  {
   "cell_type": "markdown",
   "metadata": {},
   "source": [
    "### sledeća tehnika bila bi eliminacija duplikata"
   ]
  },
  {
   "cell_type": "code",
   "execution_count": 159,
   "metadata": {},
   "outputs": [
    {
     "data": {
      "text/html": [
       "<div>\n",
       "<style scoped>\n",
       "    .dataframe tbody tr th:only-of-type {\n",
       "        vertical-align: middle;\n",
       "    }\n",
       "\n",
       "    .dataframe tbody tr th {\n",
       "        vertical-align: top;\n",
       "    }\n",
       "\n",
       "    .dataframe thead th {\n",
       "        text-align: right;\n",
       "    }\n",
       "</style>\n",
       "<table border=\"1\" class=\"dataframe\">\n",
       "  <thead>\n",
       "    <tr style=\"text-align: right;\">\n",
       "      <th></th>\n",
       "      <th>word_freq_make</th>\n",
       "      <th>word_freq_address</th>\n",
       "      <th>word_freq_all</th>\n",
       "      <th>word_freq_3d</th>\n",
       "      <th>word_freq_our</th>\n",
       "      <th>word_freq_over</th>\n",
       "      <th>word_freq_remove</th>\n",
       "      <th>word_freq_internet</th>\n",
       "      <th>word_freq_order</th>\n",
       "      <th>word_freq_mail</th>\n",
       "      <th>...</th>\n",
       "      <th>char_freq_;</th>\n",
       "      <th>char_freq_(</th>\n",
       "      <th>char_freq_[</th>\n",
       "      <th>char_freq_!</th>\n",
       "      <th>char_freq_$</th>\n",
       "      <th>char_freq_#</th>\n",
       "      <th>capital_run_length_average</th>\n",
       "      <th>capital_run_length_longest</th>\n",
       "      <th>capital_run_length_total</th>\n",
       "      <th>label_spam</th>\n",
       "    </tr>\n",
       "  </thead>\n",
       "  <tbody>\n",
       "    <tr>\n",
       "      <th>0</th>\n",
       "      <td>0.00</td>\n",
       "      <td>0.64</td>\n",
       "      <td>0.64</td>\n",
       "      <td>0.0</td>\n",
       "      <td>0.32</td>\n",
       "      <td>0.00</td>\n",
       "      <td>0.00</td>\n",
       "      <td>0.00</td>\n",
       "      <td>0.00</td>\n",
       "      <td>0.00</td>\n",
       "      <td>...</td>\n",
       "      <td>0.00</td>\n",
       "      <td>0.000</td>\n",
       "      <td>0.0</td>\n",
       "      <td>0.778</td>\n",
       "      <td>0.000</td>\n",
       "      <td>0.000</td>\n",
       "      <td>3.756</td>\n",
       "      <td>61</td>\n",
       "      <td>278</td>\n",
       "      <td>1</td>\n",
       "    </tr>\n",
       "    <tr>\n",
       "      <th>1</th>\n",
       "      <td>0.21</td>\n",
       "      <td>0.28</td>\n",
       "      <td>0.50</td>\n",
       "      <td>0.0</td>\n",
       "      <td>0.14</td>\n",
       "      <td>0.28</td>\n",
       "      <td>0.21</td>\n",
       "      <td>0.07</td>\n",
       "      <td>0.00</td>\n",
       "      <td>0.94</td>\n",
       "      <td>...</td>\n",
       "      <td>0.00</td>\n",
       "      <td>0.132</td>\n",
       "      <td>0.0</td>\n",
       "      <td>0.372</td>\n",
       "      <td>0.180</td>\n",
       "      <td>0.048</td>\n",
       "      <td>5.114</td>\n",
       "      <td>101</td>\n",
       "      <td>1028</td>\n",
       "      <td>1</td>\n",
       "    </tr>\n",
       "    <tr>\n",
       "      <th>2</th>\n",
       "      <td>0.06</td>\n",
       "      <td>0.00</td>\n",
       "      <td>0.71</td>\n",
       "      <td>0.0</td>\n",
       "      <td>1.23</td>\n",
       "      <td>0.19</td>\n",
       "      <td>0.19</td>\n",
       "      <td>0.12</td>\n",
       "      <td>0.64</td>\n",
       "      <td>0.25</td>\n",
       "      <td>...</td>\n",
       "      <td>0.01</td>\n",
       "      <td>0.143</td>\n",
       "      <td>0.0</td>\n",
       "      <td>0.276</td>\n",
       "      <td>0.184</td>\n",
       "      <td>0.010</td>\n",
       "      <td>9.821</td>\n",
       "      <td>485</td>\n",
       "      <td>2259</td>\n",
       "      <td>1</td>\n",
       "    </tr>\n",
       "    <tr>\n",
       "      <th>3</th>\n",
       "      <td>0.00</td>\n",
       "      <td>0.00</td>\n",
       "      <td>0.00</td>\n",
       "      <td>0.0</td>\n",
       "      <td>0.63</td>\n",
       "      <td>0.00</td>\n",
       "      <td>0.31</td>\n",
       "      <td>0.63</td>\n",
       "      <td>0.31</td>\n",
       "      <td>0.63</td>\n",
       "      <td>...</td>\n",
       "      <td>0.00</td>\n",
       "      <td>0.137</td>\n",
       "      <td>0.0</td>\n",
       "      <td>0.137</td>\n",
       "      <td>0.000</td>\n",
       "      <td>0.000</td>\n",
       "      <td>3.537</td>\n",
       "      <td>40</td>\n",
       "      <td>191</td>\n",
       "      <td>1</td>\n",
       "    </tr>\n",
       "    <tr>\n",
       "      <th>4</th>\n",
       "      <td>0.00</td>\n",
       "      <td>0.00</td>\n",
       "      <td>0.00</td>\n",
       "      <td>0.0</td>\n",
       "      <td>0.63</td>\n",
       "      <td>0.00</td>\n",
       "      <td>0.31</td>\n",
       "      <td>0.63</td>\n",
       "      <td>0.31</td>\n",
       "      <td>0.63</td>\n",
       "      <td>...</td>\n",
       "      <td>0.00</td>\n",
       "      <td>0.135</td>\n",
       "      <td>0.0</td>\n",
       "      <td>0.135</td>\n",
       "      <td>0.000</td>\n",
       "      <td>0.000</td>\n",
       "      <td>3.537</td>\n",
       "      <td>40</td>\n",
       "      <td>191</td>\n",
       "      <td>1</td>\n",
       "    </tr>\n",
       "  </tbody>\n",
       "</table>\n",
       "<p>5 rows × 58 columns</p>\n",
       "</div>"
      ],
      "text/plain": [
       "   word_freq_make  word_freq_address  word_freq_all  word_freq_3d  \\\n",
       "0            0.00               0.64           0.64           0.0   \n",
       "1            0.21               0.28           0.50           0.0   \n",
       "2            0.06               0.00           0.71           0.0   \n",
       "3            0.00               0.00           0.00           0.0   \n",
       "4            0.00               0.00           0.00           0.0   \n",
       "\n",
       "   word_freq_our  word_freq_over  word_freq_remove  word_freq_internet  \\\n",
       "0           0.32            0.00              0.00                0.00   \n",
       "1           0.14            0.28              0.21                0.07   \n",
       "2           1.23            0.19              0.19                0.12   \n",
       "3           0.63            0.00              0.31                0.63   \n",
       "4           0.63            0.00              0.31                0.63   \n",
       "\n",
       "   word_freq_order  word_freq_mail  ...  char_freq_;  char_freq_(  \\\n",
       "0             0.00            0.00  ...         0.00        0.000   \n",
       "1             0.00            0.94  ...         0.00        0.132   \n",
       "2             0.64            0.25  ...         0.01        0.143   \n",
       "3             0.31            0.63  ...         0.00        0.137   \n",
       "4             0.31            0.63  ...         0.00        0.135   \n",
       "\n",
       "   char_freq_[  char_freq_!  char_freq_$  char_freq_#  \\\n",
       "0          0.0        0.778        0.000        0.000   \n",
       "1          0.0        0.372        0.180        0.048   \n",
       "2          0.0        0.276        0.184        0.010   \n",
       "3          0.0        0.137        0.000        0.000   \n",
       "4          0.0        0.135        0.000        0.000   \n",
       "\n",
       "   capital_run_length_average  capital_run_length_longest  \\\n",
       "0                       3.756                          61   \n",
       "1                       5.114                         101   \n",
       "2                       9.821                         485   \n",
       "3                       3.537                          40   \n",
       "4                       3.537                          40   \n",
       "\n",
       "   capital_run_length_total  label_spam  \n",
       "0                       278           1  \n",
       "1                      1028           1  \n",
       "2                      2259           1  \n",
       "3                       191           1  \n",
       "4                       191           1  \n",
       "\n",
       "[5 rows x 58 columns]"
      ]
     },
     "execution_count": 159,
     "metadata": {},
     "output_type": "execute_result"
    }
   ],
   "source": [
    "dataset = dataset.drop_duplicates()\n",
    "dataset.head()"
   ]
  },
  {
   "cell_type": "code",
   "execution_count": 160,
   "metadata": {},
   "outputs": [
    {
     "data": {
      "text/plain": [
       "(4210, 58)"
      ]
     },
     "execution_count": 160,
     "metadata": {},
     "output_type": "execute_result"
    }
   ],
   "source": [
    "dataset.shape"
   ]
  },
  {
   "cell_type": "markdown",
   "metadata": {},
   "source": [
    "### sledeća tehnika je eliminacija vrsta iz dataseta koje nisu potpune, tj imaju NaN vrednosti nekih atributa"
   ]
  },
  {
   "cell_type": "code",
   "execution_count": 161,
   "metadata": {},
   "outputs": [
    {
     "data": {
      "text/html": [
       "<div>\n",
       "<style scoped>\n",
       "    .dataframe tbody tr th:only-of-type {\n",
       "        vertical-align: middle;\n",
       "    }\n",
       "\n",
       "    .dataframe tbody tr th {\n",
       "        vertical-align: top;\n",
       "    }\n",
       "\n",
       "    .dataframe thead th {\n",
       "        text-align: right;\n",
       "    }\n",
       "</style>\n",
       "<table border=\"1\" class=\"dataframe\">\n",
       "  <thead>\n",
       "    <tr style=\"text-align: right;\">\n",
       "      <th></th>\n",
       "      <th>word_freq_make</th>\n",
       "      <th>word_freq_address</th>\n",
       "      <th>word_freq_all</th>\n",
       "      <th>word_freq_3d</th>\n",
       "      <th>word_freq_our</th>\n",
       "      <th>word_freq_over</th>\n",
       "      <th>word_freq_remove</th>\n",
       "      <th>word_freq_internet</th>\n",
       "      <th>word_freq_order</th>\n",
       "      <th>word_freq_mail</th>\n",
       "      <th>...</th>\n",
       "      <th>char_freq_;</th>\n",
       "      <th>char_freq_(</th>\n",
       "      <th>char_freq_[</th>\n",
       "      <th>char_freq_!</th>\n",
       "      <th>char_freq_$</th>\n",
       "      <th>char_freq_#</th>\n",
       "      <th>capital_run_length_average</th>\n",
       "      <th>capital_run_length_longest</th>\n",
       "      <th>capital_run_length_total</th>\n",
       "      <th>label_spam</th>\n",
       "    </tr>\n",
       "  </thead>\n",
       "  <tbody>\n",
       "    <tr>\n",
       "      <th>0</th>\n",
       "      <td>0.00</td>\n",
       "      <td>0.64</td>\n",
       "      <td>0.64</td>\n",
       "      <td>0.0</td>\n",
       "      <td>0.32</td>\n",
       "      <td>0.00</td>\n",
       "      <td>0.00</td>\n",
       "      <td>0.00</td>\n",
       "      <td>0.00</td>\n",
       "      <td>0.00</td>\n",
       "      <td>...</td>\n",
       "      <td>0.00</td>\n",
       "      <td>0.000</td>\n",
       "      <td>0.0</td>\n",
       "      <td>0.778</td>\n",
       "      <td>0.000</td>\n",
       "      <td>0.000</td>\n",
       "      <td>3.756</td>\n",
       "      <td>61</td>\n",
       "      <td>278</td>\n",
       "      <td>1</td>\n",
       "    </tr>\n",
       "    <tr>\n",
       "      <th>1</th>\n",
       "      <td>0.21</td>\n",
       "      <td>0.28</td>\n",
       "      <td>0.50</td>\n",
       "      <td>0.0</td>\n",
       "      <td>0.14</td>\n",
       "      <td>0.28</td>\n",
       "      <td>0.21</td>\n",
       "      <td>0.07</td>\n",
       "      <td>0.00</td>\n",
       "      <td>0.94</td>\n",
       "      <td>...</td>\n",
       "      <td>0.00</td>\n",
       "      <td>0.132</td>\n",
       "      <td>0.0</td>\n",
       "      <td>0.372</td>\n",
       "      <td>0.180</td>\n",
       "      <td>0.048</td>\n",
       "      <td>5.114</td>\n",
       "      <td>101</td>\n",
       "      <td>1028</td>\n",
       "      <td>1</td>\n",
       "    </tr>\n",
       "    <tr>\n",
       "      <th>2</th>\n",
       "      <td>0.06</td>\n",
       "      <td>0.00</td>\n",
       "      <td>0.71</td>\n",
       "      <td>0.0</td>\n",
       "      <td>1.23</td>\n",
       "      <td>0.19</td>\n",
       "      <td>0.19</td>\n",
       "      <td>0.12</td>\n",
       "      <td>0.64</td>\n",
       "      <td>0.25</td>\n",
       "      <td>...</td>\n",
       "      <td>0.01</td>\n",
       "      <td>0.143</td>\n",
       "      <td>0.0</td>\n",
       "      <td>0.276</td>\n",
       "      <td>0.184</td>\n",
       "      <td>0.010</td>\n",
       "      <td>9.821</td>\n",
       "      <td>485</td>\n",
       "      <td>2259</td>\n",
       "      <td>1</td>\n",
       "    </tr>\n",
       "    <tr>\n",
       "      <th>3</th>\n",
       "      <td>0.00</td>\n",
       "      <td>0.00</td>\n",
       "      <td>0.00</td>\n",
       "      <td>0.0</td>\n",
       "      <td>0.63</td>\n",
       "      <td>0.00</td>\n",
       "      <td>0.31</td>\n",
       "      <td>0.63</td>\n",
       "      <td>0.31</td>\n",
       "      <td>0.63</td>\n",
       "      <td>...</td>\n",
       "      <td>0.00</td>\n",
       "      <td>0.137</td>\n",
       "      <td>0.0</td>\n",
       "      <td>0.137</td>\n",
       "      <td>0.000</td>\n",
       "      <td>0.000</td>\n",
       "      <td>3.537</td>\n",
       "      <td>40</td>\n",
       "      <td>191</td>\n",
       "      <td>1</td>\n",
       "    </tr>\n",
       "    <tr>\n",
       "      <th>4</th>\n",
       "      <td>0.00</td>\n",
       "      <td>0.00</td>\n",
       "      <td>0.00</td>\n",
       "      <td>0.0</td>\n",
       "      <td>0.63</td>\n",
       "      <td>0.00</td>\n",
       "      <td>0.31</td>\n",
       "      <td>0.63</td>\n",
       "      <td>0.31</td>\n",
       "      <td>0.63</td>\n",
       "      <td>...</td>\n",
       "      <td>0.00</td>\n",
       "      <td>0.135</td>\n",
       "      <td>0.0</td>\n",
       "      <td>0.135</td>\n",
       "      <td>0.000</td>\n",
       "      <td>0.000</td>\n",
       "      <td>3.537</td>\n",
       "      <td>40</td>\n",
       "      <td>191</td>\n",
       "      <td>1</td>\n",
       "    </tr>\n",
       "  </tbody>\n",
       "</table>\n",
       "<p>5 rows × 58 columns</p>\n",
       "</div>"
      ],
      "text/plain": [
       "   word_freq_make  word_freq_address  word_freq_all  word_freq_3d  \\\n",
       "0            0.00               0.64           0.64           0.0   \n",
       "1            0.21               0.28           0.50           0.0   \n",
       "2            0.06               0.00           0.71           0.0   \n",
       "3            0.00               0.00           0.00           0.0   \n",
       "4            0.00               0.00           0.00           0.0   \n",
       "\n",
       "   word_freq_our  word_freq_over  word_freq_remove  word_freq_internet  \\\n",
       "0           0.32            0.00              0.00                0.00   \n",
       "1           0.14            0.28              0.21                0.07   \n",
       "2           1.23            0.19              0.19                0.12   \n",
       "3           0.63            0.00              0.31                0.63   \n",
       "4           0.63            0.00              0.31                0.63   \n",
       "\n",
       "   word_freq_order  word_freq_mail  ...  char_freq_;  char_freq_(  \\\n",
       "0             0.00            0.00  ...         0.00        0.000   \n",
       "1             0.00            0.94  ...         0.00        0.132   \n",
       "2             0.64            0.25  ...         0.01        0.143   \n",
       "3             0.31            0.63  ...         0.00        0.137   \n",
       "4             0.31            0.63  ...         0.00        0.135   \n",
       "\n",
       "   char_freq_[  char_freq_!  char_freq_$  char_freq_#  \\\n",
       "0          0.0        0.778        0.000        0.000   \n",
       "1          0.0        0.372        0.180        0.048   \n",
       "2          0.0        0.276        0.184        0.010   \n",
       "3          0.0        0.137        0.000        0.000   \n",
       "4          0.0        0.135        0.000        0.000   \n",
       "\n",
       "   capital_run_length_average  capital_run_length_longest  \\\n",
       "0                       3.756                          61   \n",
       "1                       5.114                         101   \n",
       "2                       9.821                         485   \n",
       "3                       3.537                          40   \n",
       "4                       3.537                          40   \n",
       "\n",
       "   capital_run_length_total  label_spam  \n",
       "0                       278           1  \n",
       "1                      1028           1  \n",
       "2                      2259           1  \n",
       "3                       191           1  \n",
       "4                       191           1  \n",
       "\n",
       "[5 rows x 58 columns]"
      ]
     },
     "execution_count": 161,
     "metadata": {},
     "output_type": "execute_result"
    }
   ],
   "source": [
    "dataset.dropna()\n",
    "dataset.head()"
   ]
  },
  {
   "cell_type": "code",
   "execution_count": 162,
   "metadata": {},
   "outputs": [
    {
     "data": {
      "text/plain": [
       "(4210, 58)"
      ]
     },
     "execution_count": 162,
     "metadata": {},
     "output_type": "execute_result"
    }
   ],
   "source": [
    "dataset.shape"
   ]
  },
  {
   "cell_type": "markdown",
   "metadata": {},
   "source": [
    "# Deskriptivna analiza dataset-a\n",
    "### - MEAN"
   ]
  },
  {
   "cell_type": "code",
   "execution_count": 163,
   "metadata": {},
   "outputs": [
    {
     "data": {
      "text/plain": [
       "word_freq_make                  0.104366\n",
       "word_freq_address               0.112656\n",
       "word_freq_all                   0.291473\n",
       "word_freq_3d                    0.063078\n",
       "word_freq_our                   0.325321\n",
       "word_freq_over                  0.096656\n",
       "word_freq_remove                0.117475\n",
       "word_freq_internet              0.108000\n",
       "word_freq_order                 0.091860\n",
       "word_freq_mail                  0.248420\n",
       "word_freq_receive               0.056686\n",
       "word_freq_will                  0.565204\n",
       "word_freq_people                0.097656\n",
       "word_freq_report                0.061211\n",
       "word_freq_addresses             0.044803\n",
       "word_freq_free                  0.253829\n",
       "word_freq_business              0.149154\n",
       "word_freq_email                 0.188755\n",
       "word_freq_you                   1.718368\n",
       "word_freq_credit                0.084962\n",
       "word_freq_your                  0.810040\n",
       "word_freq_font                  0.131587\n",
       "word_freq_000                   0.100622\n",
       "word_freq_money                 0.090969\n",
       "word_freq_hp                    0.573995\n",
       "word_freq_hpl                   0.279330\n",
       "word_freq_george                0.369838\n",
       "word_freq_650                   0.128575\n",
       "word_freq_lab                   0.098382\n",
       "word_freq_labs                  0.103779\n",
       "word_freq_telnet                0.063544\n",
       "word_freq_857                   0.044917\n",
       "word_freq_data                  0.102333\n",
       "word_freq_415                   0.045777\n",
       "word_freq_85                    0.107881\n",
       "word_freq_technology            0.099368\n",
       "word_freq_1999                  0.143482\n",
       "word_freq_parts                 0.014190\n",
       "word_freq_pm                    0.084057\n",
       "word_freq_direct                0.061278\n",
       "word_freq_cs                    0.041432\n",
       "word_freq_meeting               0.141542\n",
       "word_freq_original              0.048772\n",
       "word_freq_project               0.085266\n",
       "word_freq_re                    0.320124\n",
       "word_freq_edu                   0.189375\n",
       "word_freq_table                 0.005786\n",
       "word_freq_conference            0.034746\n",
       "char_freq_;                     0.040403\n",
       "char_freq_(                     0.144048\n",
       "char_freq_[                     0.017376\n",
       "char_freq_!                     0.281136\n",
       "char_freq_$                     0.076057\n",
       "char_freq_#                     0.045798\n",
       "capital_run_length_average      5.383896\n",
       "capital_run_length_longest     52.139905\n",
       "capital_run_length_total      291.181948\n",
       "label_spam                      0.398812\n",
       "dtype: float64"
      ]
     },
     "execution_count": 163,
     "metadata": {},
     "output_type": "execute_result"
    }
   ],
   "source": [
    "#Mean\n",
    "dataset.mean()"
   ]
  },
  {
   "cell_type": "code",
   "execution_count": 164,
   "metadata": {},
   "outputs": [
    {
     "data": {
      "text/plain": [
       "<matplotlib.collections.PathCollection at 0x2ac6a671970>"
      ]
     },
     "execution_count": 164,
     "metadata": {},
     "output_type": "execute_result"
    },
    {
     "data": {
      "image/png": "[encoded data removed]",
      "text/plain": [
       "<Figure size 432x288 with 1 Axes>"
      ]
     },
     "metadata": {
      "needs_background": "light"
     },
     "output_type": "display_data"
    }
   ],
   "source": [
    "y = np.zeros((25))\n",
    "plt.scatter(random.sample(list(dataset['capital_run_length_longest']),25), y)\n",
    "plt.scatter(dataset['capital_run_length_longest'].mean(),0)"
   ]
  },
  {
   "cell_type": "markdown",
   "metadata": {},
   "source": [
    "### - MEDIAN"
   ]
  },
  {
   "cell_type": "code",
   "execution_count": 165,
   "metadata": {},
   "outputs": [
    {
     "data": {
      "text/plain": [
       "word_freq_make                  0.000\n",
       "word_freq_address               0.000\n",
       "word_freq_all                   0.000\n",
       "word_freq_3d                    0.000\n",
       "word_freq_our                   0.000\n",
       "word_freq_over                  0.000\n",
       "word_freq_remove                0.000\n",
       "word_freq_internet              0.000\n",
       "word_freq_order                 0.000\n",
       "word_freq_mail                  0.000\n",
       "word_freq_receive               0.000\n",
       "word_freq_will                  0.190\n",
       "word_freq_people                0.000\n",
       "word_freq_report                0.000\n",
       "word_freq_addresses             0.000\n",
       "word_freq_free                  0.000\n",
       "word_freq_business              0.000\n",
       "word_freq_email                 0.000\n",
       "word_freq_you                   1.360\n",
       "word_freq_credit                0.000\n",
       "word_freq_your                  0.290\n",
       "word_freq_font                  0.000\n",
       "word_freq_000                   0.000\n",
       "word_freq_money                 0.000\n",
       "word_freq_hp                    0.000\n",
       "word_freq_hpl                   0.000\n",
       "word_freq_george                0.000\n",
       "word_freq_650                   0.000\n",
       "word_freq_lab                   0.000\n",
       "word_freq_labs                  0.000\n",
       "word_freq_telnet                0.000\n",
       "word_freq_857                   0.000\n",
       "word_freq_data                  0.000\n",
       "word_freq_415                   0.000\n",
       "word_freq_85                    0.000\n",
       "word_freq_technology            0.000\n",
       "word_freq_1999                  0.000\n",
       "word_freq_parts                 0.000\n",
       "word_freq_pm                    0.000\n",
       "word_freq_direct                0.000\n",
       "word_freq_cs                    0.000\n",
       "word_freq_meeting               0.000\n",
       "word_freq_original              0.000\n",
       "word_freq_project               0.000\n",
       "word_freq_re                    0.000\n",
       "word_freq_edu                   0.000\n",
       "word_freq_table                 0.000\n",
       "word_freq_conference            0.000\n",
       "char_freq_;                     0.000\n",
       "char_freq_(                     0.073\n",
       "char_freq_[                     0.000\n",
       "char_freq_!                     0.016\n",
       "char_freq_$                     0.000\n",
       "char_freq_#                     0.000\n",
       "capital_run_length_average      2.297\n",
       "capital_run_length_longest     15.000\n",
       "capital_run_length_total      101.500\n",
       "label_spam                      0.000\n",
       "dtype: float64"
      ]
     },
     "execution_count": 165,
     "metadata": {},
     "output_type": "execute_result"
    }
   ],
   "source": [
    "# Median\n",
    "dataset.median()"
   ]
  },
  {
   "cell_type": "code",
   "execution_count": 166,
   "metadata": {},
   "outputs": [
    {
     "data": {
      "text/plain": [
       "<matplotlib.collections.PathCollection at 0x2ac6a7767f0>"
      ]
     },
     "execution_count": 166,
     "metadata": {},
     "output_type": "execute_result"
    },
    {
     "data": {
      "image/png": "[encoded data removed]",
      "text/plain": [
       "<Figure size 432x288 with 1 Axes>"
      ]
     },
     "metadata": {
      "needs_background": "light"
     },
     "output_type": "display_data"
    }
   ],
   "source": [
    "y = np.zeros((25))\n",
    "plt.scatter(random.sample(list(dataset['capital_run_length_total']),25), y)\n",
    "plt.scatter(dataset['capital_run_length_total'].median(),0)"
   ]
  },
  {
   "cell_type": "markdown",
   "metadata": {},
   "source": [
    "### - STANDARD DEVIATION "
   ]
  },
  {
   "cell_type": "code",
   "execution_count": 167,
   "metadata": {},
   "outputs": [
    {
     "data": {
      "text/plain": [
       "word_freq_make                  0.300005\n",
       "word_freq_address               0.454260\n",
       "word_freq_all                   0.515719\n",
       "word_freq_3d                    1.352487\n",
       "word_freq_our                   0.687805\n",
       "word_freq_over                  0.276030\n",
       "word_freq_remove                0.397284\n",
       "word_freq_internet              0.410282\n",
       "word_freq_order                 0.282144\n",
       "word_freq_mail                  0.656638\n",
       "word_freq_receive               0.184167\n",
       "word_freq_will                  0.882513\n",
       "word_freq_people                0.309309\n",
       "word_freq_report                0.346066\n",
       "word_freq_addresses             0.242186\n",
       "word_freq_free                  0.797534\n",
       "word_freq_business              0.457669\n",
       "word_freq_email                 0.541133\n",
       "word_freq_you                   1.768760\n",
       "word_freq_credit                0.505583\n",
       "word_freq_your                  1.149352\n",
       "word_freq_font                  1.071258\n",
       "word_freq_000                   0.351336\n",
       "word_freq_money                 0.431723\n",
       "word_freq_hp                    1.676539\n",
       "word_freq_hpl                   0.905553\n",
       "word_freq_george                1.775330\n",
       "word_freq_650                   0.535429\n",
       "word_freq_lab                   0.576796\n",
       "word_freq_labs                  0.439568\n",
       "word_freq_telnet                0.387267\n",
       "word_freq_857                   0.300748\n",
       "word_freq_data                  0.569146\n",
       "word_freq_415                   0.301812\n",
       "word_freq_85                    0.530263\n",
       "word_freq_technology            0.386470\n",
       "word_freq_1999                  0.424508\n",
       "word_freq_parts                 0.230512\n",
       "word_freq_pm                    0.447991\n",
       "word_freq_direct                0.319520\n",
       "word_freq_cs                    0.318177\n",
       "word_freq_meeting               0.793803\n",
       "word_freq_original              0.231871\n",
       "word_freq_project               0.646096\n",
       "word_freq_re                    1.045914\n",
       "word_freq_edu                   0.928308\n",
       "word_freq_table                 0.079170\n",
       "word_freq_conference            0.298521\n",
       "char_freq_;                     0.252533\n",
       "char_freq_(                     0.274256\n",
       "char_freq_[                     0.105731\n",
       "char_freq_!                     0.843321\n",
       "char_freq_$                     0.239708\n",
       "char_freq_#                     0.435925\n",
       "capital_run_length_average     33.147358\n",
       "capital_run_length_longest    199.582168\n",
       "capital_run_length_total      618.654838\n",
       "label_spam                      0.489712\n",
       "dtype: float64"
      ]
     },
     "execution_count": 167,
     "metadata": {},
     "output_type": "execute_result"
    }
   ],
   "source": [
    "#Standard deviation\n",
    "dataset.std()"
   ]
  },
  {
   "cell_type": "markdown",
   "metadata": {},
   "source": [
    "### - VARIANCE "
   ]
  },
  {
   "cell_type": "code",
   "execution_count": 168,
   "metadata": {},
   "outputs": [
    {
     "data": {
      "text/plain": [
       "word_freq_make                     0.090003\n",
       "word_freq_address                  0.206352\n",
       "word_freq_all                      0.265966\n",
       "word_freq_3d                       1.829221\n",
       "word_freq_our                      0.473076\n",
       "word_freq_over                     0.076193\n",
       "word_freq_remove                   0.157834\n",
       "word_freq_internet                 0.168332\n",
       "word_freq_order                    0.079605\n",
       "word_freq_mail                     0.431174\n",
       "word_freq_receive                  0.033917\n",
       "word_freq_will                     0.778829\n",
       "word_freq_people                   0.095672\n",
       "word_freq_report                   0.119761\n",
       "word_freq_addresses                0.058654\n",
       "word_freq_free                     0.636061\n",
       "word_freq_business                 0.209461\n",
       "word_freq_email                    0.292825\n",
       "word_freq_you                      3.128512\n",
       "word_freq_credit                   0.255614\n",
       "word_freq_your                     1.321010\n",
       "word_freq_font                     1.147594\n",
       "word_freq_000                      0.123437\n",
       "word_freq_money                    0.186384\n",
       "word_freq_hp                       2.810782\n",
       "word_freq_hpl                      0.820025\n",
       "word_freq_george                   3.151798\n",
       "word_freq_650                      0.286685\n",
       "word_freq_lab                      0.332694\n",
       "word_freq_labs                     0.193220\n",
       "word_freq_telnet                   0.149976\n",
       "word_freq_857                      0.090449\n",
       "word_freq_data                     0.323927\n",
       "word_freq_415                      0.091091\n",
       "word_freq_85                       0.281179\n",
       "word_freq_technology               0.149359\n",
       "word_freq_1999                     0.180207\n",
       "word_freq_parts                    0.053136\n",
       "word_freq_pm                       0.200696\n",
       "word_freq_direct                   0.102093\n",
       "word_freq_cs                       0.101237\n",
       "word_freq_meeting                  0.630124\n",
       "word_freq_original                 0.053764\n",
       "word_freq_project                  0.417440\n",
       "word_freq_re                       1.093937\n",
       "word_freq_edu                      0.861755\n",
       "word_freq_table                    0.006268\n",
       "word_freq_conference               0.089115\n",
       "char_freq_;                        0.063773\n",
       "char_freq_(                        0.075217\n",
       "char_freq_[                        0.011179\n",
       "char_freq_!                        0.711191\n",
       "char_freq_$                        0.057460\n",
       "char_freq_#                        0.190030\n",
       "capital_run_length_average      1098.747364\n",
       "capital_run_length_longest     39833.041719\n",
       "capital_run_length_total      382733.809130\n",
       "label_spam                         0.239818\n",
       "dtype: float64"
      ]
     },
     "execution_count": 168,
     "metadata": {},
     "output_type": "execute_result"
    }
   ],
   "source": [
    "# Variance\n",
    "dataset.var()"
   ]
  },
  {
   "cell_type": "markdown",
   "metadata": {},
   "source": [
    "### - INTERQUARTILE RANGE"
   ]
  },
  {
   "cell_type": "code",
   "execution_count": 169,
   "metadata": {},
   "outputs": [
    {
     "name": "stdout",
     "output_type": "stream",
     "text": [
      "word_freq_make: 0.0\n",
      "word_freq_address: 0.0\n",
      "word_freq_all: 0.44\n",
      "word_freq_3d: 0.0\n",
      "word_freq_our: 0.41\n",
      "word_freq_over: 0.0\n",
      "word_freq_remove: 0.0\n",
      "word_freq_internet: 0.0\n",
      "word_freq_order: 0.0\n",
      "word_freq_mail: 0.19\n",
      "word_freq_receive: 0.0\n",
      "word_freq_will: 0.83\n",
      "word_freq_people: 0.0\n",
      "word_freq_report: 0.0\n",
      "word_freq_addresses: 0.0\n",
      "word_freq_free: 0.1275\n",
      "word_freq_business: 0.0\n",
      "word_freq_email: 0.0\n",
      "word_freq_you: 2.72\n",
      "word_freq_credit: 0.0\n",
      "word_freq_your: 1.28\n",
      "word_freq_font: 0.0\n",
      "word_freq_000: 0.0\n",
      "word_freq_money: 0.0\n",
      "word_freq_hp: 0.0975\n",
      "word_freq_hpl: 0.0\n",
      "word_freq_george: 0.0\n",
      "word_freq_650: 0.0\n",
      "word_freq_lab: 0.0\n",
      "word_freq_labs: 0.0\n",
      "word_freq_telnet: 0.0\n",
      "word_freq_857: 0.0\n",
      "word_freq_data: 0.0\n",
      "word_freq_415: 0.0\n",
      "word_freq_85: 0.0\n",
      "word_freq_technology: 0.0\n",
      "word_freq_1999: 0.0\n",
      "word_freq_parts: 0.0\n",
      "word_freq_pm: 0.0\n",
      "word_freq_direct: 0.0\n",
      "word_freq_cs: 0.0\n",
      "word_freq_meeting: 0.0\n",
      "word_freq_original: 0.0\n",
      "word_freq_project: 0.0\n",
      "word_freq_re: 0.17\n",
      "word_freq_edu: 0.0\n",
      "word_freq_table: 0.0\n",
      "word_freq_conference: 0.0\n",
      "char_freq_;: 0.0\n",
      "char_freq_(: 0.19399999999999998\n",
      "char_freq_[: 0.0\n",
      "char_freq_!: 0.331\n",
      "char_freq_$: 0.053\n",
      "char_freq_#: 0.0\n",
      "capital_run_length_average: 2.0792499999999996\n",
      "capital_run_length_longest: 37.0\n",
      "capital_run_length_total: 233.75\n",
      "label_spam: 1.0\n"
     ]
    }
   ],
   "source": [
    "# Interquartile Range\n",
    "for column in dataset.columns:\n",
    "    print(column + \": \"+ str(iqr(dataset[column])))"
   ]
  },
  {
   "cell_type": "markdown",
   "metadata": {},
   "source": [
    "### - SKEWNESS"
   ]
  },
  {
   "cell_type": "code",
   "execution_count": 170,
   "metadata": {},
   "outputs": [
    {
     "data": {
      "text/plain": [
       "word_freq_make                 5.869855\n",
       "word_freq_address             13.464664\n",
       "word_freq_all                  2.980623\n",
       "word_freq_3d                  27.209539\n",
       "word_freq_our                  4.696946\n",
       "word_freq_over                 6.122653\n",
       "word_freq_remove               6.808707\n",
       "word_freq_internet             9.734232\n",
       "word_freq_order                5.284306\n",
       "word_freq_mail                 8.568579\n",
       "word_freq_receive              5.078281\n",
       "word_freq_will                 2.828005\n",
       "word_freq_people               6.889952\n",
       "word_freq_report              11.564142\n",
       "word_freq_addresses            7.513375\n",
       "word_freq_free                 9.387745\n",
       "word_freq_business             5.567668\n",
       "word_freq_email                5.453867\n",
       "word_freq_you                  1.524251\n",
       "word_freq_credit              15.430174\n",
       "word_freq_your                 2.245707\n",
       "word_freq_font                 9.541533\n",
       "word_freq_000                  5.859524\n",
       "word_freq_money               15.556682\n",
       "word_freq_hp                   5.638834\n",
       "word_freq_hpl                  6.297471\n",
       "word_freq_george               9.481582\n",
       "word_freq_650                  6.517998\n",
       "word_freq_lab                 11.683591\n",
       "word_freq_labs                 6.380831\n",
       "word_freq_telnet              13.514852\n",
       "word_freq_857                 10.432463\n",
       "word_freq_data                13.069355\n",
       "word_freq_415                 10.339838\n",
       "word_freq_85                  16.001762\n",
       "word_freq_technology           7.358775\n",
       "word_freq_1999                 5.126620\n",
       "word_freq_parts               27.078694\n",
       "word_freq_pm                  11.762303\n",
       "word_freq_direct               9.101847\n",
       "word_freq_cs                  11.468806\n",
       "word_freq_meeting              9.185157\n",
       "word_freq_original             7.408226\n",
       "word_freq_project             18.196824\n",
       "word_freq_re                   8.917866\n",
       "word_freq_edu                 10.077034\n",
       "word_freq_table               19.298485\n",
       "word_freq_conference          18.871757\n",
       "char_freq_;                   13.355885\n",
       "char_freq_(                   14.002666\n",
       "char_freq_[                   21.271982\n",
       "char_freq_!                   18.337278\n",
       "char_freq_$                   10.608970\n",
       "char_freq_#                   31.500180\n",
       "capital_run_length_average    22.760655\n",
       "capital_run_length_longest    31.205495\n",
       "capital_run_length_total       8.801641\n",
       "label_spam                     0.413450\n",
       "dtype: float64"
      ]
     },
     "execution_count": 170,
     "metadata": {},
     "output_type": "execute_result"
    }
   ],
   "source": [
    "# Skewness\n",
    "dataset.skew()"
   ]
  },
  {
   "cell_type": "markdown",
   "metadata": {},
   "source": [
    "### - KURTOSIS"
   ]
  },
  {
   "cell_type": "code",
   "execution_count": 171,
   "metadata": {},
   "outputs": [
    {
     "data": {
      "text/plain": [
       "word_freq_make                  54.351406\n",
       "word_freq_address              306.685973\n",
       "word_freq_all                   12.941447\n",
       "word_freq_3d                   788.370058\n",
       "word_freq_our                   37.064801\n",
       "word_freq_over                  71.603267\n",
       "word_freq_remove                76.381647\n",
       "word_freq_internet             167.550219\n",
       "word_freq_order                 48.011373\n",
       "word_freq_mail                 162.539033\n",
       "word_freq_receive               34.656119\n",
       "word_freq_will                  12.096068\n",
       "word_freq_people                82.596297\n",
       "word_freq_report               219.645155\n",
       "word_freq_addresses             69.493809\n",
       "word_freq_free                 157.691742\n",
       "word_freq_business              43.514184\n",
       "word_freq_email                 48.157461\n",
       "word_freq_you                    4.998066\n",
       "word_freq_credit               424.685771\n",
       "word_freq_your                   8.094203\n",
       "word_freq_font                  99.666089\n",
       "word_freq_000                   49.119948\n",
       "word_freq_money                340.175773\n",
       "word_freq_hp                    43.182446\n",
       "word_freq_hpl                   63.072871\n",
       "word_freq_george               111.099824\n",
       "word_freq_650                   58.669248\n",
       "word_freq_lab                  189.408655\n",
       "word_freq_labs                  49.105349\n",
       "word_freq_telnet               302.369897\n",
       "word_freq_857                  128.295774\n",
       "word_freq_data                 290.736221\n",
       "word_freq_415                  126.437150\n",
       "word_freq_85                   491.541633\n",
       "word_freq_technology            79.988044\n",
       "word_freq_1999                  40.887964\n",
       "word_freq_parts                836.229272\n",
       "word_freq_pm                   205.959198\n",
       "word_freq_direct               101.120159\n",
       "word_freq_cs                   166.261694\n",
       "word_freq_meeting              108.994652\n",
       "word_freq_original              73.795377\n",
       "word_freq_project              449.017717\n",
       "word_freq_re                   122.067523\n",
       "word_freq_edu                  150.119541\n",
       "word_freq_table                431.309247\n",
       "word_freq_conference           492.146945\n",
       "char_freq_;                    200.449787\n",
       "char_freq_(                    404.370138\n",
       "char_freq_[                    664.620378\n",
       "char_freq_!                    579.438464\n",
       "char_freq_$                    188.462692\n",
       "char_freq_#                   1238.321018\n",
       "capital_run_length_average     614.399885\n",
       "capital_run_length_longest    1471.215610\n",
       "capital_run_length_total       146.108428\n",
       "label_spam                      -1.829929\n",
       "dtype: float64"
      ]
     },
     "execution_count": 171,
     "metadata": {},
     "output_type": "execute_result"
    }
   ],
   "source": [
    "# Kurtosis\n",
    "dataset.kurt()"
   ]
  },
  {
   "cell_type": "markdown",
   "metadata": {},
   "source": [
    "# Deskriptivna analiza - pregled "
   ]
  },
  {
   "cell_type": "code",
   "execution_count": 172,
   "metadata": {},
   "outputs": [
    {
     "data": {
      "text/html": [
       "<div>\n",
       "<style scoped>\n",
       "    .dataframe tbody tr th:only-of-type {\n",
       "        vertical-align: middle;\n",
       "    }\n",
       "\n",
       "    .dataframe tbody tr th {\n",
       "        vertical-align: top;\n",
       "    }\n",
       "\n",
       "    .dataframe thead th {\n",
       "        text-align: right;\n",
       "    }\n",
       "</style>\n",
       "<table border=\"1\" class=\"dataframe\">\n",
       "  <thead>\n",
       "    <tr style=\"text-align: right;\">\n",
       "      <th></th>\n",
       "      <th>word_freq_make</th>\n",
       "      <th>word_freq_address</th>\n",
       "      <th>word_freq_all</th>\n",
       "      <th>word_freq_3d</th>\n",
       "      <th>word_freq_our</th>\n",
       "      <th>word_freq_over</th>\n",
       "      <th>word_freq_remove</th>\n",
       "      <th>word_freq_internet</th>\n",
       "      <th>word_freq_order</th>\n",
       "      <th>word_freq_mail</th>\n",
       "      <th>...</th>\n",
       "      <th>char_freq_;</th>\n",
       "      <th>char_freq_(</th>\n",
       "      <th>char_freq_[</th>\n",
       "      <th>char_freq_!</th>\n",
       "      <th>char_freq_$</th>\n",
       "      <th>char_freq_#</th>\n",
       "      <th>capital_run_length_average</th>\n",
       "      <th>capital_run_length_longest</th>\n",
       "      <th>capital_run_length_total</th>\n",
       "      <th>label_spam</th>\n",
       "    </tr>\n",
       "  </thead>\n",
       "  <tbody>\n",
       "    <tr>\n",
       "      <th>count</th>\n",
       "      <td>4210.000000</td>\n",
       "      <td>4210.000000</td>\n",
       "      <td>4210.000000</td>\n",
       "      <td>4210.000000</td>\n",
       "      <td>4210.000000</td>\n",
       "      <td>4210.000000</td>\n",
       "      <td>4210.000000</td>\n",
       "      <td>4210.000000</td>\n",
       "      <td>4210.000000</td>\n",
       "      <td>4210.000000</td>\n",
       "      <td>...</td>\n",
       "      <td>4210.000000</td>\n",
       "      <td>4210.000000</td>\n",
       "      <td>4210.000000</td>\n",
       "      <td>4210.000000</td>\n",
       "      <td>4210.000000</td>\n",
       "      <td>4210.000000</td>\n",
       "      <td>4210.000000</td>\n",
       "      <td>4210.000000</td>\n",
       "      <td>4210.000000</td>\n",
       "      <td>4210.000000</td>\n",
       "    </tr>\n",
       "    <tr>\n",
       "      <th>mean</th>\n",
       "      <td>0.104366</td>\n",
       "      <td>0.112656</td>\n",
       "      <td>0.291473</td>\n",
       "      <td>0.063078</td>\n",
       "      <td>0.325321</td>\n",
       "      <td>0.096656</td>\n",
       "      <td>0.117475</td>\n",
       "      <td>0.108000</td>\n",
       "      <td>0.091860</td>\n",
       "      <td>0.248420</td>\n",
       "      <td>...</td>\n",
       "      <td>0.040403</td>\n",
       "      <td>0.144048</td>\n",
       "      <td>0.017376</td>\n",
       "      <td>0.281136</td>\n",
       "      <td>0.076057</td>\n",
       "      <td>0.045798</td>\n",
       "      <td>5.383896</td>\n",
       "      <td>52.139905</td>\n",
       "      <td>291.181948</td>\n",
       "      <td>0.398812</td>\n",
       "    </tr>\n",
       "    <tr>\n",
       "      <th>std</th>\n",
       "      <td>0.300005</td>\n",
       "      <td>0.454260</td>\n",
       "      <td>0.515719</td>\n",
       "      <td>1.352487</td>\n",
       "      <td>0.687805</td>\n",
       "      <td>0.276030</td>\n",
       "      <td>0.397284</td>\n",
       "      <td>0.410282</td>\n",
       "      <td>0.282144</td>\n",
       "      <td>0.656638</td>\n",
       "      <td>...</td>\n",
       "      <td>0.252533</td>\n",
       "      <td>0.274256</td>\n",
       "      <td>0.105731</td>\n",
       "      <td>0.843321</td>\n",
       "      <td>0.239708</td>\n",
       "      <td>0.435925</td>\n",
       "      <td>33.147358</td>\n",
       "      <td>199.582168</td>\n",
       "      <td>618.654838</td>\n",
       "      <td>0.489712</td>\n",
       "    </tr>\n",
       "    <tr>\n",
       "      <th>min</th>\n",
       "      <td>0.000000</td>\n",
       "      <td>0.000000</td>\n",
       "      <td>0.000000</td>\n",
       "      <td>0.000000</td>\n",
       "      <td>0.000000</td>\n",
       "      <td>0.000000</td>\n",
       "      <td>0.000000</td>\n",
       "      <td>0.000000</td>\n",
       "      <td>0.000000</td>\n",
       "      <td>0.000000</td>\n",
       "      <td>...</td>\n",
       "      <td>0.000000</td>\n",
       "      <td>0.000000</td>\n",
       "      <td>0.000000</td>\n",
       "      <td>0.000000</td>\n",
       "      <td>0.000000</td>\n",
       "      <td>0.000000</td>\n",
       "      <td>1.000000</td>\n",
       "      <td>1.000000</td>\n",
       "      <td>1.000000</td>\n",
       "      <td>0.000000</td>\n",
       "    </tr>\n",
       "    <tr>\n",
       "      <th>25%</th>\n",
       "      <td>0.000000</td>\n",
       "      <td>0.000000</td>\n",
       "      <td>0.000000</td>\n",
       "      <td>0.000000</td>\n",
       "      <td>0.000000</td>\n",
       "      <td>0.000000</td>\n",
       "      <td>0.000000</td>\n",
       "      <td>0.000000</td>\n",
       "      <td>0.000000</td>\n",
       "      <td>0.000000</td>\n",
       "      <td>...</td>\n",
       "      <td>0.000000</td>\n",
       "      <td>0.000000</td>\n",
       "      <td>0.000000</td>\n",
       "      <td>0.000000</td>\n",
       "      <td>0.000000</td>\n",
       "      <td>0.000000</td>\n",
       "      <td>1.627500</td>\n",
       "      <td>7.000000</td>\n",
       "      <td>40.000000</td>\n",
       "      <td>0.000000</td>\n",
       "    </tr>\n",
       "    <tr>\n",
       "      <th>50%</th>\n",
       "      <td>0.000000</td>\n",
       "      <td>0.000000</td>\n",
       "      <td>0.000000</td>\n",
       "      <td>0.000000</td>\n",
       "      <td>0.000000</td>\n",
       "      <td>0.000000</td>\n",
       "      <td>0.000000</td>\n",
       "      <td>0.000000</td>\n",
       "      <td>0.000000</td>\n",
       "      <td>0.000000</td>\n",
       "      <td>...</td>\n",
       "      <td>0.000000</td>\n",
       "      <td>0.073000</td>\n",
       "      <td>0.000000</td>\n",
       "      <td>0.016000</td>\n",
       "      <td>0.000000</td>\n",
       "      <td>0.000000</td>\n",
       "      <td>2.297000</td>\n",
       "      <td>15.000000</td>\n",
       "      <td>101.500000</td>\n",
       "      <td>0.000000</td>\n",
       "    </tr>\n",
       "    <tr>\n",
       "      <th>75%</th>\n",
       "      <td>0.000000</td>\n",
       "      <td>0.000000</td>\n",
       "      <td>0.440000</td>\n",
       "      <td>0.000000</td>\n",
       "      <td>0.410000</td>\n",
       "      <td>0.000000</td>\n",
       "      <td>0.000000</td>\n",
       "      <td>0.000000</td>\n",
       "      <td>0.000000</td>\n",
       "      <td>0.190000</td>\n",
       "      <td>...</td>\n",
       "      <td>0.000000</td>\n",
       "      <td>0.194000</td>\n",
       "      <td>0.000000</td>\n",
       "      <td>0.331000</td>\n",
       "      <td>0.053000</td>\n",
       "      <td>0.000000</td>\n",
       "      <td>3.706750</td>\n",
       "      <td>44.000000</td>\n",
       "      <td>273.750000</td>\n",
       "      <td>1.000000</td>\n",
       "    </tr>\n",
       "    <tr>\n",
       "      <th>max</th>\n",
       "      <td>4.540000</td>\n",
       "      <td>14.280000</td>\n",
       "      <td>5.100000</td>\n",
       "      <td>42.810000</td>\n",
       "      <td>10.000000</td>\n",
       "      <td>5.880000</td>\n",
       "      <td>7.270000</td>\n",
       "      <td>11.110000</td>\n",
       "      <td>5.260000</td>\n",
       "      <td>18.180000</td>\n",
       "      <td>...</td>\n",
       "      <td>4.385000</td>\n",
       "      <td>9.752000</td>\n",
       "      <td>4.081000</td>\n",
       "      <td>32.478000</td>\n",
       "      <td>6.003000</td>\n",
       "      <td>19.829000</td>\n",
       "      <td>1102.500000</td>\n",
       "      <td>9989.000000</td>\n",
       "      <td>15841.000000</td>\n",
       "      <td>1.000000</td>\n",
       "    </tr>\n",
       "  </tbody>\n",
       "</table>\n",
       "<p>8 rows × 58 columns</p>\n",
       "</div>"
      ],
      "text/plain": [
       "       word_freq_make  word_freq_address  word_freq_all  word_freq_3d  \\\n",
       "count     4210.000000        4210.000000    4210.000000   4210.000000   \n",
       "mean         0.104366           0.112656       0.291473      0.063078   \n",
       "std          0.300005           0.454260       0.515719      1.352487   \n",
       "min          0.000000           0.000000       0.000000      0.000000   \n",
       "25%          0.000000           0.000000       0.000000      0.000000   \n",
       "50%          0.000000           0.000000       0.000000      0.000000   \n",
       "75%          0.000000           0.000000       0.440000      0.000000   \n",
       "max          4.540000          14.280000       5.100000     42.810000   \n",
       "\n",
       "       word_freq_our  word_freq_over  word_freq_remove  word_freq_internet  \\\n",
       "count    4210.000000     4210.000000       4210.000000         4210.000000   \n",
       "mean        0.325321        0.096656          0.117475            0.108000   \n",
       "std         0.687805        0.276030          0.397284            0.410282   \n",
       "min         0.000000        0.000000          0.000000            0.000000   \n",
       "25%         0.000000        0.000000          0.000000            0.000000   \n",
       "50%         0.000000        0.000000          0.000000            0.000000   \n",
       "75%         0.410000        0.000000          0.000000            0.000000   \n",
       "max        10.000000        5.880000          7.270000           11.110000   \n",
       "\n",
       "       word_freq_order  word_freq_mail  ...  char_freq_;  char_freq_(  \\\n",
       "count      4210.000000     4210.000000  ...  4210.000000  4210.000000   \n",
       "mean          0.091860        0.248420  ...     0.040403     0.144048   \n",
       "std           0.282144        0.656638  ...     0.252533     0.274256   \n",
       "min           0.000000        0.000000  ...     0.000000     0.000000   \n",
       "25%           0.000000        0.000000  ...     0.000000     0.000000   \n",
       "50%           0.000000        0.000000  ...     0.000000     0.073000   \n",
       "75%           0.000000        0.190000  ...     0.000000     0.194000   \n",
       "max           5.260000       18.180000  ...     4.385000     9.752000   \n",
       "\n",
       "       char_freq_[  char_freq_!  char_freq_$  char_freq_#  \\\n",
       "count  4210.000000  4210.000000  4210.000000  4210.000000   \n",
       "mean      0.017376     0.281136     0.076057     0.045798   \n",
       "std       0.105731     0.843321     0.239708     0.435925   \n",
       "min       0.000000     0.000000     0.000000     0.000000   \n",
       "25%       0.000000     0.000000     0.000000     0.000000   \n",
       "50%       0.000000     0.016000     0.000000     0.000000   \n",
       "75%       0.000000     0.331000     0.053000     0.000000   \n",
       "max       4.081000    32.478000     6.003000    19.829000   \n",
       "\n",
       "       capital_run_length_average  capital_run_length_longest  \\\n",
       "count                 4210.000000                 4210.000000   \n",
       "mean                     5.383896                   52.139905   \n",
       "std                     33.147358                  199.582168   \n",
       "min                      1.000000                    1.000000   \n",
       "25%                      1.627500                    7.000000   \n",
       "50%                      2.297000                   15.000000   \n",
       "75%                      3.706750                   44.000000   \n",
       "max                   1102.500000                 9989.000000   \n",
       "\n",
       "       capital_run_length_total   label_spam  \n",
       "count               4210.000000  4210.000000  \n",
       "mean                 291.181948     0.398812  \n",
       "std                  618.654838     0.489712  \n",
       "min                    1.000000     0.000000  \n",
       "25%                   40.000000     0.000000  \n",
       "50%                  101.500000     0.000000  \n",
       "75%                  273.750000     1.000000  \n",
       "max                15841.000000     1.000000  \n",
       "\n",
       "[8 rows x 58 columns]"
      ]
     },
     "execution_count": 172,
     "metadata": {},
     "output_type": "execute_result"
    }
   ],
   "source": [
    "# Descriptive analysis\n",
    "dataset.describe(include='all')"
   ]
  },
  {
   "cell_type": "code",
   "execution_count": 173,
   "metadata": {},
   "outputs": [
    {
     "data": {
      "image/png": "[encoded data removed]",
      "text/plain": [
       "<Figure size 3600x3600 with 2 Axes>"
      ]
     },
     "metadata": {
      "needs_background": "light"
     },
     "output_type": "display_data"
    }
   ],
   "source": [
    "corr = dataset.corr()\n",
    "fig = plt.figure(figsize=(50,50))\n",
    "ax = fig.add_subplot(111)\n",
    "cax = ax.matshow(corr,cmap='seismic', vmin=-1, vmax=1)\n",
    "fig.colorbar(cax)\n",
    "ticks = np.arange(0,len(dataset.columns),1)\n",
    "ax.set_xticks(ticks)\n",
    "plt.xticks(rotation=90)\n",
    "ax.set_yticks(ticks)\n",
    "ax.set_xticklabels(dataset.columns, fontsize = 28)\n",
    "ax.set_yticklabels(dataset.columns, fontsize = 28)\n",
    "plt.show()"
   ]
  },
  {
   "cell_type": "code",
   "execution_count": 174,
   "metadata": {},
   "outputs": [],
   "source": [
    "upper_tri = corr.where(np.triu(np.ones(corr.shape),k=1).astype(np.bool))\n",
    "#print(upper_tri)"
   ]
  },
  {
   "cell_type": "code",
   "execution_count": 175,
   "metadata": {},
   "outputs": [
    {
     "name": "stdout",
     "output_type": "stream",
     "text": [
      "['word_freq_415']\n"
     ]
    }
   ],
   "source": [
    "to_drop = [column for column in upper_tri.columns if any(upper_tri[column] > 0.95)]\n",
    "print(to_drop)"
   ]
  },
  {
   "cell_type": "code",
   "execution_count": 176,
   "metadata": {},
   "outputs": [
    {
     "data": {
      "text/html": [
       "<div>\n",
       "<style scoped>\n",
       "    .dataframe tbody tr th:only-of-type {\n",
       "        vertical-align: middle;\n",
       "    }\n",
       "\n",
       "    .dataframe tbody tr th {\n",
       "        vertical-align: top;\n",
       "    }\n",
       "\n",
       "    .dataframe thead th {\n",
       "        text-align: right;\n",
       "    }\n",
       "</style>\n",
       "<table border=\"1\" class=\"dataframe\">\n",
       "  <thead>\n",
       "    <tr style=\"text-align: right;\">\n",
       "      <th></th>\n",
       "      <th>word_freq_make</th>\n",
       "      <th>word_freq_address</th>\n",
       "      <th>word_freq_all</th>\n",
       "      <th>word_freq_3d</th>\n",
       "      <th>word_freq_our</th>\n",
       "      <th>word_freq_over</th>\n",
       "      <th>word_freq_remove</th>\n",
       "      <th>word_freq_internet</th>\n",
       "      <th>word_freq_order</th>\n",
       "      <th>word_freq_mail</th>\n",
       "      <th>...</th>\n",
       "      <th>char_freq_;</th>\n",
       "      <th>char_freq_(</th>\n",
       "      <th>char_freq_[</th>\n",
       "      <th>char_freq_!</th>\n",
       "      <th>char_freq_$</th>\n",
       "      <th>char_freq_#</th>\n",
       "      <th>capital_run_length_average</th>\n",
       "      <th>capital_run_length_longest</th>\n",
       "      <th>capital_run_length_total</th>\n",
       "      <th>label_spam</th>\n",
       "    </tr>\n",
       "  </thead>\n",
       "  <tbody>\n",
       "    <tr>\n",
       "      <th>0</th>\n",
       "      <td>0.00</td>\n",
       "      <td>0.64</td>\n",
       "      <td>0.64</td>\n",
       "      <td>0.0</td>\n",
       "      <td>0.32</td>\n",
       "      <td>0.00</td>\n",
       "      <td>0.00</td>\n",
       "      <td>0.00</td>\n",
       "      <td>0.00</td>\n",
       "      <td>0.00</td>\n",
       "      <td>...</td>\n",
       "      <td>0.00</td>\n",
       "      <td>0.000</td>\n",
       "      <td>0.0</td>\n",
       "      <td>0.778</td>\n",
       "      <td>0.000</td>\n",
       "      <td>0.000</td>\n",
       "      <td>3.756</td>\n",
       "      <td>61</td>\n",
       "      <td>278</td>\n",
       "      <td>1</td>\n",
       "    </tr>\n",
       "    <tr>\n",
       "      <th>1</th>\n",
       "      <td>0.21</td>\n",
       "      <td>0.28</td>\n",
       "      <td>0.50</td>\n",
       "      <td>0.0</td>\n",
       "      <td>0.14</td>\n",
       "      <td>0.28</td>\n",
       "      <td>0.21</td>\n",
       "      <td>0.07</td>\n",
       "      <td>0.00</td>\n",
       "      <td>0.94</td>\n",
       "      <td>...</td>\n",
       "      <td>0.00</td>\n",
       "      <td>0.132</td>\n",
       "      <td>0.0</td>\n",
       "      <td>0.372</td>\n",
       "      <td>0.180</td>\n",
       "      <td>0.048</td>\n",
       "      <td>5.114</td>\n",
       "      <td>101</td>\n",
       "      <td>1028</td>\n",
       "      <td>1</td>\n",
       "    </tr>\n",
       "    <tr>\n",
       "      <th>2</th>\n",
       "      <td>0.06</td>\n",
       "      <td>0.00</td>\n",
       "      <td>0.71</td>\n",
       "      <td>0.0</td>\n",
       "      <td>1.23</td>\n",
       "      <td>0.19</td>\n",
       "      <td>0.19</td>\n",
       "      <td>0.12</td>\n",
       "      <td>0.64</td>\n",
       "      <td>0.25</td>\n",
       "      <td>...</td>\n",
       "      <td>0.01</td>\n",
       "      <td>0.143</td>\n",
       "      <td>0.0</td>\n",
       "      <td>0.276</td>\n",
       "      <td>0.184</td>\n",
       "      <td>0.010</td>\n",
       "      <td>9.821</td>\n",
       "      <td>485</td>\n",
       "      <td>2259</td>\n",
       "      <td>1</td>\n",
       "    </tr>\n",
       "    <tr>\n",
       "      <th>3</th>\n",
       "      <td>0.00</td>\n",
       "      <td>0.00</td>\n",
       "      <td>0.00</td>\n",
       "      <td>0.0</td>\n",
       "      <td>0.63</td>\n",
       "      <td>0.00</td>\n",
       "      <td>0.31</td>\n",
       "      <td>0.63</td>\n",
       "      <td>0.31</td>\n",
       "      <td>0.63</td>\n",
       "      <td>...</td>\n",
       "      <td>0.00</td>\n",
       "      <td>0.137</td>\n",
       "      <td>0.0</td>\n",
       "      <td>0.137</td>\n",
       "      <td>0.000</td>\n",
       "      <td>0.000</td>\n",
       "      <td>3.537</td>\n",
       "      <td>40</td>\n",
       "      <td>191</td>\n",
       "      <td>1</td>\n",
       "    </tr>\n",
       "    <tr>\n",
       "      <th>4</th>\n",
       "      <td>0.00</td>\n",
       "      <td>0.00</td>\n",
       "      <td>0.00</td>\n",
       "      <td>0.0</td>\n",
       "      <td>0.63</td>\n",
       "      <td>0.00</td>\n",
       "      <td>0.31</td>\n",
       "      <td>0.63</td>\n",
       "      <td>0.31</td>\n",
       "      <td>0.63</td>\n",
       "      <td>...</td>\n",
       "      <td>0.00</td>\n",
       "      <td>0.135</td>\n",
       "      <td>0.0</td>\n",
       "      <td>0.135</td>\n",
       "      <td>0.000</td>\n",
       "      <td>0.000</td>\n",
       "      <td>3.537</td>\n",
       "      <td>40</td>\n",
       "      <td>191</td>\n",
       "      <td>1</td>\n",
       "    </tr>\n",
       "  </tbody>\n",
       "</table>\n",
       "<p>5 rows × 57 columns</p>\n",
       "</div>"
      ],
      "text/plain": [
       "   word_freq_make  word_freq_address  word_freq_all  word_freq_3d  \\\n",
       "0            0.00               0.64           0.64           0.0   \n",
       "1            0.21               0.28           0.50           0.0   \n",
       "2            0.06               0.00           0.71           0.0   \n",
       "3            0.00               0.00           0.00           0.0   \n",
       "4            0.00               0.00           0.00           0.0   \n",
       "\n",
       "   word_freq_our  word_freq_over  word_freq_remove  word_freq_internet  \\\n",
       "0           0.32            0.00              0.00                0.00   \n",
       "1           0.14            0.28              0.21                0.07   \n",
       "2           1.23            0.19              0.19                0.12   \n",
       "3           0.63            0.00              0.31                0.63   \n",
       "4           0.63            0.00              0.31                0.63   \n",
       "\n",
       "   word_freq_order  word_freq_mail  ...  char_freq_;  char_freq_(  \\\n",
       "0             0.00            0.00  ...         0.00        0.000   \n",
       "1             0.00            0.94  ...         0.00        0.132   \n",
       "2             0.64            0.25  ...         0.01        0.143   \n",
       "3             0.31            0.63  ...         0.00        0.137   \n",
       "4             0.31            0.63  ...         0.00        0.135   \n",
       "\n",
       "   char_freq_[  char_freq_!  char_freq_$  char_freq_#  \\\n",
       "0          0.0        0.778        0.000        0.000   \n",
       "1          0.0        0.372        0.180        0.048   \n",
       "2          0.0        0.276        0.184        0.010   \n",
       "3          0.0        0.137        0.000        0.000   \n",
       "4          0.0        0.135        0.000        0.000   \n",
       "\n",
       "   capital_run_length_average  capital_run_length_longest  \\\n",
       "0                       3.756                          61   \n",
       "1                       5.114                         101   \n",
       "2                       9.821                         485   \n",
       "3                       3.537                          40   \n",
       "4                       3.537                          40   \n",
       "\n",
       "   capital_run_length_total  label_spam  \n",
       "0                       278           1  \n",
       "1                      1028           1  \n",
       "2                      2259           1  \n",
       "3                       191           1  \n",
       "4                       191           1  \n",
       "\n",
       "[5 rows x 57 columns]"
      ]
     },
     "execution_count": 176,
     "metadata": {},
     "output_type": "execute_result"
    }
   ],
   "source": [
    "dataset = dataset.drop(to_drop, axis=1)\n",
    "dataset.head()"
   ]
  },
  {
   "cell_type": "markdown",
   "metadata": {},
   "source": [
    "### Raspodela podataka po klasama (SPAM or NOT SPAM)"
   ]
  },
  {
   "cell_type": "code",
   "execution_count": 177,
   "metadata": {},
   "outputs": [
    {
     "name": "stdout",
     "output_type": "stream",
     "text": [
      "#NOT SPAM:  2531\n",
      "#SPAM:  1679\n"
     ]
    },
    {
     "data": {
      "image/png": "[encoded data removed]",
      "text/plain": [
       "<Figure size 432x288 with 1 Axes>"
      ]
     },
     "metadata": {
      "needs_background": "light"
     },
     "output_type": "display_data"
    }
   ],
   "source": [
    "not_spam_count, spam_count = dataset['label_spam'].value_counts()\n",
    "plt.barh([\"#not_spam\",\"#spam\"], [not_spam_count, spam_count])\n",
    "print(\"#NOT SPAM:  \"+str(not_spam_count))\n",
    "print(\"#SPAM:  \"+ str(spam_count))"
   ]
  },
  {
   "cell_type": "markdown",
   "metadata": {},
   "source": [
    "### Balansiranje dataseta - UNDERSAMPLING\n",
    "#### Izbacivanje random uzoraka iz klase sa većim brojem instanci"
   ]
  },
  {
   "cell_type": "code",
   "execution_count": 178,
   "metadata": {},
   "outputs": [
    {
     "name": "stdout",
     "output_type": "stream",
     "text": [
      "#NOT SPAM:  1679\n",
      "#SPAM:  1679\n"
     ]
    },
    {
     "data": {
      "text/plain": [
       "<BarContainer object of 2 artists>"
      ]
     },
     "execution_count": 178,
     "metadata": {},
     "output_type": "execute_result"
    },
    {
     "data": {
      "image/png": "[encoded data removed]",
      "text/plain": [
       "<Figure size 432x288 with 1 Axes>"
      ]
     },
     "metadata": {
      "needs_background": "light"
     },
     "output_type": "display_data"
    }
   ],
   "source": [
    "#Solving unbalanced dataset \n",
    "#1 undersampling\n",
    "\n",
    "df_majority_US = dataset[dataset.label_spam == 0]\n",
    "df_minority_US = dataset[dataset.label_spam == 1]\n",
    "\n",
    "df_majority_undersampled = resample(df_majority_US, replace = False, n_samples = 1679, random_state = 123)\n",
    "df_undersampled = pd.concat([df_majority_undersampled, df_minority_US])\n",
    "undersampled_not_spam, undersampled_spam = df_undersampled .label_spam.value_counts()\n",
    "print(\"#NOT SPAM:  \"+str(undersampled_not_spam))\n",
    "print(\"#SPAM:  \"+ str(undersampled_spam))\n",
    "plt.barh([\"#not_spam\",\"#spam\"], [undersampled_not_spam, undersampled_spam])"
   ]
  },
  {
   "cell_type": "markdown",
   "metadata": {},
   "source": [
    "### Balansiranje stabla - OVERSAMPLING\n",
    "\n",
    "#### Dodavanje duplikata iz klase sa manjim brojem instanci"
   ]
  },
  {
   "cell_type": "code",
   "execution_count": 179,
   "metadata": {},
   "outputs": [
    {
     "name": "stdout",
     "output_type": "stream",
     "text": [
      "#NOT SPAM:  2531\n",
      "#SPAM:  2531\n"
     ]
    },
    {
     "data": {
      "text/plain": [
       "<BarContainer object of 2 artists>"
      ]
     },
     "execution_count": 179,
     "metadata": {},
     "output_type": "execute_result"
    },
    {
     "data": {
      "image/png": "[encoded data removed]",
      "text/plain": [
       "<Figure size 432x288 with 1 Axes>"
      ]
     },
     "metadata": {
      "needs_background": "light"
     },
     "output_type": "display_data"
    }
   ],
   "source": [
    "#2 oversampling\n",
    "df_majority_OS = dataset[dataset.label_spam==0]\n",
    "df_minority_OS = dataset[dataset.label_spam==1]\n",
    "df_minority_upsampled = resample(df_minority_OS, \n",
    "                                 replace=True,     # sample with replacement\n",
    "                                 n_samples=2531,    # to match majority class\n",
    "                                 random_state=123)\n",
    "df_upsampled = pd.concat([df_majority_OS, df_minority_upsampled])\n",
    "oversampled_not_spam, oversampled_spam = df_upsampled.label_spam.value_counts()\n",
    "print(\"#NOT SPAM:  \"+str(oversampled_not_spam))\n",
    "print(\"#SPAM:  \"+ str(oversampled_spam))\n",
    "plt.barh([\"#not_spam\",\"#spam\"], [oversampled_not_spam, oversampled_spam])"
   ]
  },
  {
   "cell_type": "markdown",
   "metadata": {},
   "source": [
    "# Priprema dataseta za podelu na train i test"
   ]
  },
  {
   "cell_type": "markdown",
   "metadata": {},
   "source": [
    "### bez balansiranja"
   ]
  },
  {
   "cell_type": "code",
   "execution_count": 180,
   "metadata": {},
   "outputs": [],
   "source": [
    "X_imbalanced = dataset.drop(\"label_spam\",axis = 1).values\n",
    "y_imbalanced = dataset[\"label_spam\"].values\n",
    "\n",
    "X_train_imbalanced,X_test_imbalanced, y_train_imbalanced, y_test_imbalanced = train_test_split(X_imbalanced,y_imbalanced,test_size = 0.2, random_state = 1)"
   ]
  },
  {
   "cell_type": "markdown",
   "metadata": {},
   "source": [
    "### undersampling"
   ]
  },
  {
   "cell_type": "code",
   "execution_count": 181,
   "metadata": {},
   "outputs": [],
   "source": [
    "X_undersampled = df_undersampled.drop(\"label_spam\",axis = 1).values\n",
    "y_undersampled = df_undersampled[\"label_spam\"].values\n",
    "\n",
    "X_train_undersampled,X_test_undersampled, y_train_undersampled, y_test_undersampled = train_test_split(X_undersampled,y_undersampled,test_size = 0.2, random_state = 1)"
   ]
  },
  {
   "cell_type": "markdown",
   "metadata": {},
   "source": [
    "### upsampling"
   ]
  },
  {
   "cell_type": "code",
   "execution_count": 182,
   "metadata": {},
   "outputs": [],
   "source": [
    "X_upsampled = df_upsampled.drop(\"label_spam\",axis = 1).values\n",
    "y_upsampled = df_upsampled[\"label_spam\"].values\n",
    "\n",
    "X_train_upsampled,X_test_upsampled, y_train_upsampled, y_test_upsampled = train_test_split(X_upsampled,y_upsampled,test_size = 0.2, random_state = 1)"
   ]
  },
  {
   "cell_type": "markdown",
   "metadata": {},
   "source": [
    "# Algoritmi za predikciju\n",
    "### LOGISTIC REGRESSION"
   ]
  },
  {
   "cell_type": "markdown",
   "metadata": {},
   "source": [
    "### bez balansiranja i cross validacije"
   ]
  },
  {
   "cell_type": "code",
   "execution_count": 183,
   "metadata": {},
   "outputs": [],
   "source": [
    "logistic_regression_model_imbalanced = LogisticRegression(max_iter = 3000)\n",
    "logistic_regression_model_imbalanced.fit(X_train_imbalanced,y_train_imbalanced)\n",
    "prediction_imbalanced = logistic_regression_model_imbalanced.predict(X_test_imbalanced)"
   ]
  },
  {
   "cell_type": "markdown",
   "metadata": {},
   "source": [
    "#### Različite metrike za evaluaciju prediktivnog algoritma"
   ]
  },
  {
   "cell_type": "code",
   "execution_count": 184,
   "metadata": {},
   "outputs": [],
   "source": [
    "conf_matrix_imbalanced = confusion_matrix(y_true=y_test_imbalanced,y_pred=prediction_imbalanced)\n",
    "TP_imbalanced = conf_matrix_imbalanced[1,1]\n",
    "TN_imbalanced = conf_matrix_imbalanced[0,0]\n",
    "FP_imbalanced = conf_matrix_imbalanced[0,1]\n",
    "FN_imbalanced = conf_matrix_imbalanced[1,0]\n",
    "sensitivity_imbalanced = TP_imbalanced/(TP_imbalanced+FN_imbalanced)\n",
    "specificity_imbalanced = TN_imbalanced/(TN_imbalanced+FP_imbalanced)\n",
    "accuracy_imbalanced = accuracy_score(y_test_imbalanced,prediction_imbalanced)*100\n",
    "f1_imbalanced = f1_score(y_test_imbalanced, prediction_imbalanced)\n",
    "precision_imbalanced = precision_score(y_test_imbalanced, prediction_imbalanced)\n",
    "recall_imbalanced = recall_score(y_test_imbalanced, prediction_imbalanced)"
   ]
  },
  {
   "cell_type": "markdown",
   "metadata": {},
   "source": [
    "#### Prikaz dobijenih evaluacionih parametara"
   ]
  },
  {
   "cell_type": "code",
   "execution_count": 185,
   "metadata": {},
   "outputs": [
    {
     "name": "stdout",
     "output_type": "stream",
     "text": [
      "Accuracy:  92.75534441805226\n",
      "F1 Score:  0.9042386185243328\n",
      "Precision:  0.9171974522292994\n",
      "Recall:  0.891640866873065\n",
      "Specificity:  0.9499036608863198\n",
      "Sensitivity:  0.891640866873065\n",
      "True positive:  288\n",
      "False positive:  26\n",
      "True negative:  493\n",
      "False negative:  35\n"
     ]
    }
   ],
   "source": [
    "print(\"Accuracy: \", accuracy_imbalanced)\n",
    "print(\"F1 Score: \", f1_imbalanced)\n",
    "print(\"Precision: \", precision_imbalanced)\n",
    "print(\"Recall: \", recall_imbalanced)\n",
    "print(\"Specificity: \", specificity_imbalanced)\n",
    "print(\"Sensitivity: \", sensitivity_imbalanced)\n",
    "print(\"True positive: \", TP_imbalanced)\n",
    "print(\"False positive: \", FP_imbalanced)\n",
    "print(\"True negative: \", TN_imbalanced)\n",
    "print(\"False negative: \", FN_imbalanced)"
   ]
  },
  {
   "cell_type": "markdown",
   "metadata": {},
   "source": [
    "### Undersampling bez cross validacije"
   ]
  },
  {
   "cell_type": "code",
   "execution_count": 186,
   "metadata": {},
   "outputs": [],
   "source": [
    "logistic_regression_model_undersampled = LogisticRegression(max_iter = 3000)\n",
    "logistic_regression_model_undersampled.fit(X_train_undersampled,y_train_undersampled)\n",
    "prediction_undersampled = logistic_regression_model_undersampled.predict(X_test_undersampled)"
   ]
  },
  {
   "cell_type": "markdown",
   "metadata": {},
   "source": [
    "#### Različite metrike za evaluaciju prediktivnog algoritma"
   ]
  },
  {
   "cell_type": "code",
   "execution_count": 187,
   "metadata": {},
   "outputs": [],
   "source": [
    "conf_matrix_undersampled = confusion_matrix(y_true=y_test_undersampled,y_pred=prediction_undersampled)\n",
    "TP_undersampled = conf_matrix_undersampled[1,1]\n",
    "TN_undersampled = conf_matrix_undersampled[0,0]\n",
    "FP_undersampled = conf_matrix_undersampled[0,1]\n",
    "FN_undersampled = conf_matrix_undersampled[1,0]\n",
    "sensitivity_undersampled = TP_undersampled/(TP_undersampled+FN_undersampled)\n",
    "specificity_undersampled = TN_undersampled/(TN_undersampled+FP_undersampled)\n",
    "accuracy_undersampled = accuracy_score(y_test_undersampled,prediction_undersampled)*100\n",
    "f1_undersampled = f1_score(y_test_undersampled, prediction_undersampled)\n",
    "precision_undersampled = precision_score(y_test_undersampled, prediction_undersampled)\n",
    "recall_undersampled = recall_score(y_test_undersampled, prediction_undersampled)"
   ]
  },
  {
   "cell_type": "markdown",
   "metadata": {},
   "source": [
    "#### Prikaz dobijenih evaluacionih parametara"
   ]
  },
  {
   "cell_type": "code",
   "execution_count": 188,
   "metadata": {},
   "outputs": [
    {
     "name": "stdout",
     "output_type": "stream",
     "text": [
      "Accuracy:  92.85714285714286\n",
      "F1 Score:  0.9263803680981595\n",
      "Precision:  0.9235474006116208\n",
      "Recall:  0.9292307692307692\n",
      "Specificity:  0.9279538904899135\n",
      "Sensitivity:  0.9292307692307692\n",
      "True positive:  302\n",
      "False positive:  25\n",
      "True negative:  322\n",
      "False negative:  23\n"
     ]
    }
   ],
   "source": [
    "print(\"Accuracy: \", accuracy_undersampled)\n",
    "print(\"F1 Score: \", f1_undersampled)\n",
    "print(\"Precision: \", precision_undersampled)\n",
    "print(\"Recall: \", recall_undersampled)\n",
    "print(\"Specificity: \", specificity_undersampled)\n",
    "print(\"Sensitivity: \", sensitivity_undersampled)\n",
    "print(\"True positive: \", TP_undersampled)\n",
    "print(\"False positive: \", FP_undersampled)\n",
    "print(\"True negative: \", TN_undersampled)\n",
    "print(\"False negative: \", FN_undersampled)"
   ]
  },
  {
   "cell_type": "markdown",
   "metadata": {},
   "source": [
    "### upsampling bez cross validacije"
   ]
  },
  {
   "cell_type": "code",
   "execution_count": 189,
   "metadata": {},
   "outputs": [],
   "source": [
    "logistic_regression_model_upsampled = LogisticRegression(max_iter = 3000)\n",
    "logistic_regression_model_upsampled.fit(X_train_upsampled,y_train_upsampled)\n",
    "prediction_upsampled = logistic_regression_model_upsampled.predict(X_test_upsampled)"
   ]
  },
  {
   "cell_type": "markdown",
   "metadata": {},
   "source": [
    "#### Različite metrike za evaluaciju prediktivnog algoritma"
   ]
  },
  {
   "cell_type": "code",
   "execution_count": 190,
   "metadata": {},
   "outputs": [],
   "source": [
    "conf_matrix_upsampled = confusion_matrix(y_true=y_test_upsampled,y_pred=prediction_upsampled)\n",
    "TP_upsampled = conf_matrix_upsampled[1,1]\n",
    "TN_upsampled = conf_matrix_upsampled[0,0]\n",
    "FP_upsampled = conf_matrix_upsampled[0,1]\n",
    "FN_upsampled = conf_matrix_upsampled[1,0]\n",
    "sensitivity_upsampled = TP_upsampled/(TP_upsampled+FN_upsampled)\n",
    "specificity_upsampled = TN_upsampled/(TN_upsampled+FP_upsampled)\n",
    "accuracy_upsampled = accuracy_score(y_test_upsampled,prediction_upsampled)*100\n",
    "f1_upsampled = f1_score(y_test_upsampled, prediction_upsampled)\n",
    "precision_upsampled = precision_score(y_test_upsampled, prediction_upsampled)\n",
    "recall_upsampled = recall_score(y_test_upsampled, prediction_upsampled)"
   ]
  },
  {
   "cell_type": "markdown",
   "metadata": {},
   "source": [
    "#### Prikaz dobijenih evaluacionih parametara"
   ]
  },
  {
   "cell_type": "code",
   "execution_count": 191,
   "metadata": {},
   "outputs": [
    {
     "name": "stdout",
     "output_type": "stream",
     "text": [
      "Accuracy:  92.20138203356368\n",
      "F1 Score:  0.9193054136874362\n",
      "Precision:  0.9278350515463918\n",
      "Recall:  0.9109311740890689\n",
      "Specificity:  0.9325626204238922\n",
      "Sensitivity:  0.9109311740890689\n",
      "True positive:  450\n",
      "False positive:  35\n",
      "True negative:  484\n",
      "False negative:  44\n"
     ]
    }
   ],
   "source": [
    "print(\"Accuracy: \", accuracy_upsampled)\n",
    "print(\"F1 Score: \", f1_upsampled)\n",
    "print(\"Precision: \", precision_upsampled)\n",
    "print(\"Recall: \", recall_upsampled)\n",
    "print(\"Specificity: \", specificity_upsampled)\n",
    "print(\"Sensitivity: \", sensitivity_upsampled)\n",
    "print(\"True positive: \", TP_upsampled)\n",
    "print(\"False positive: \", FP_upsampled)\n",
    "print(\"True negative: \", TN_upsampled)\n",
    "print(\"False negative: \", FN_upsampled)"
   ]
  },
  {
   "cell_type": "markdown",
   "metadata": {},
   "source": [
    "### Vizuelizacija nekih mera postignutih rezultata korišćenjem Logistic Regression prediktivnog algoritma bez cross validacije"
   ]
  },
  {
   "cell_type": "code",
   "execution_count": 192,
   "metadata": {},
   "outputs": [
    {
     "data": {
      "image/png": "[encoded data removed]",
      "text/plain": [
       "<Figure size 936x216 with 3 Axes>"
      ]
     },
     "metadata": {
      "needs_background": "light"
     },
     "output_type": "display_data"
    }
   ],
   "source": [
    "plt.figure(figsize=(13, 3))\n",
    "plt.subplot(131)\n",
    "plt.ylim(90,95)\n",
    "plt.bar(['acc_under', 'acc_up', 'acc_imb'], [accuracy_undersampled, accuracy_upsampled, accuracy_imbalanced])\n",
    "plt.subplot(132)\n",
    "plt.ylim(0.9,0.95)\n",
    "plt.bar(['f1_under', 'f1_up','f1_imb'], [f1_undersampled, f1_upsampled, f1_imbalanced])\n",
    "plt.subplot(133)\n",
    "plt.ylim(0.9,0.95)\n",
    "plt.bar(['prec_under', 'prec_up', 'prec_imb'], [precision_undersampled, precision_upsampled, [precision_imbalanced]])\n",
    "plt.suptitle('Measurement comparison')\n",
    "plt.show()\n"
   ]
  },
  {
   "cell_type": "markdown",
   "metadata": {},
   "source": [
    "# Logistic regression sa cross validacijom"
   ]
  },
  {
   "cell_type": "markdown",
   "metadata": {},
   "source": [
    "## bez balansiranja"
   ]
  },
  {
   "cell_type": "code",
   "execution_count": 193,
   "metadata": {},
   "outputs": [
    {
     "name": "stdout",
     "output_type": "stream",
     "text": [
      "Accuracy:  92.04275534441805\n",
      "F1 Score:  0.9041487839771102\n",
      "Precision:  0.9294117647058824\n",
      "Recall:  0.8802228412256268\n",
      "Specificity:  0.9503105590062112\n",
      "Sensitivity:  0.8802228412256268\n",
      "True positive:  316\n",
      "False positive:  24\n",
      "True negative:  459\n",
      "False negative:  43\n",
      "-------------\n",
      "Accuracy:  91.44893111638956\n",
      "F1 Score:  0.8912386706948641\n",
      "Precision:  0.9076923076923077\n",
      "Recall:  0.8753709198813057\n",
      "Specificity:  0.9405940594059405\n",
      "Sensitivity:  0.8753709198813057\n",
      "True positive:  295\n",
      "False positive:  30\n",
      "True negative:  475\n",
      "False negative:  42\n",
      "-------------\n",
      "Accuracy:  93.34916864608076\n",
      "F1 Score:  0.9105431309904153\n",
      "Precision:  0.9283387622149837\n",
      "Recall:  0.8934169278996865\n",
      "Specificity:  0.9579349904397706\n",
      "Sensitivity:  0.8934169278996865\n",
      "True positive:  285\n",
      "False positive:  22\n",
      "True negative:  501\n",
      "False negative:  34\n",
      "-------------\n",
      "Accuracy:  92.39904988123516\n",
      "F1 Score:  0.9006211180124223\n",
      "Precision:  0.9235668789808917\n",
      "Recall:  0.8787878787878788\n",
      "Specificity:  0.953125\n",
      "Sensitivity:  0.8787878787878788\n",
      "True positive:  290\n",
      "False positive:  24\n",
      "True negative:  488\n",
      "False negative:  40\n",
      "-------------\n",
      "Accuracy:  93.34916864608076\n",
      "F1 Score:  0.9156626506024097\n",
      "Precision:  0.9212121212121213\n",
      "Recall:  0.9101796407185628\n",
      "Specificity:  0.9488188976377953\n",
      "Sensitivity:  0.9101796407185628\n",
      "True positive:  304\n",
      "False positive:  26\n",
      "True negative:  482\n",
      "False negative:  30\n",
      "-------------\n"
     ]
    }
   ],
   "source": [
    "kf = KFold(n_splits=5,random_state = 42, shuffle = True)\n",
    "\n",
    "accuracy_LR_crossVal_imb = []\n",
    "f1_LR_crossVal_imb = []\n",
    "precision_LR_crossVal_imb = []\n",
    "\n",
    "for train_index,test_index in kf.split(X_imbalanced):\n",
    "    X_train_imbalanced,X_test_imbalanced=X_imbalanced[train_index],X_imbalanced[test_index]\n",
    "    y_train_imbalanced,y_test_imbalanced=y_imbalanced[train_index],y_imbalanced[test_index]\n",
    "    \n",
    "    logistic_regression_model_imbalanced = LogisticRegression(max_iter = 3000)\n",
    "    logistic_regression_model_imbalanced.fit(X_train_imbalanced,y_train_imbalanced)\n",
    "    prediction_imbalanced = logistic_regression_model_imbalanced.predict(X_test_imbalanced)\n",
    "    \n",
    "    conf_matrix_imbalanced = confusion_matrix(y_true=y_test_imbalanced,y_pred=prediction_imbalanced)\n",
    "    TP_imbalanced = conf_matrix_imbalanced[1,1]\n",
    "    TN_imbalanced = conf_matrix_imbalanced[0,0]\n",
    "    FP_imbalanced = conf_matrix_imbalanced[0,1]\n",
    "    FN_imbalanced = conf_matrix_imbalanced[1,0]\n",
    "    sensitivity_imbalanced = TP_imbalanced/(TP_imbalanced+FN_imbalanced)\n",
    "    specificity_imbalanced = TN_imbalanced/(TN_imbalanced+FP_imbalanced)\n",
    "    accuracy_imbalanced = accuracy_score(y_test_imbalanced,prediction_imbalanced)*100\n",
    "    f1_imbalanced = f1_score(y_test_imbalanced, prediction_imbalanced)\n",
    "    precision_imbalanced = precision_score(y_test_imbalanced, prediction_imbalanced)\n",
    "    recall_imbalanced = recall_score(y_test_imbalanced, prediction_imbalanced)\n",
    "    \n",
    "    accuracy_LR_crossVal_imb.append(accuracy_imbalanced)\n",
    "    f1_LR_crossVal_imb.append(f1_imbalanced)\n",
    "    precision_LR_crossVal_imb.append(precision_imbalanced)\n",
    "    \n",
    "    print(\"Accuracy: \", accuracy_imbalanced)\n",
    "    print(\"F1 Score: \", f1_imbalanced)\n",
    "    print(\"Precision: \", precision_imbalanced)\n",
    "    print(\"Recall: \", recall_imbalanced)\n",
    "    print(\"Specificity: \", specificity_imbalanced)\n",
    "    print(\"Sensitivity: \", sensitivity_imbalanced)\n",
    "    print(\"True positive: \", TP_imbalanced)\n",
    "    print(\"False positive: \", FP_imbalanced)\n",
    "    print(\"True negative: \", TN_imbalanced)\n",
    "    print(\"False negative: \", FN_imbalanced)\n",
    "    print(\"-------------\")"
   ]
  },
  {
   "cell_type": "markdown",
   "metadata": {},
   "source": [
    "### undersampling"
   ]
  },
  {
   "cell_type": "code",
   "execution_count": 194,
   "metadata": {},
   "outputs": [
    {
     "name": "stdout",
     "output_type": "stream",
     "text": [
      "Accuracy:  92.85714285714286\n",
      "F1 Score:  0.9240506329113924\n",
      "Precision:  0.9211356466876972\n",
      "Recall:  0.926984126984127\n",
      "Specificity:  0.9299719887955182\n",
      "Sensitivity:  0.926984126984127\n",
      "True positive:  292\n",
      "False positive:  25\n",
      "True negative:  332\n",
      "False negative:  23\n",
      "-------------\n",
      "Accuracy:  92.11309523809523\n",
      "F1 Score:  0.9217134416543575\n",
      "Precision:  0.9230769230769231\n",
      "Recall:  0.9203539823008849\n",
      "Specificity:  0.9219219219219219\n",
      "Sensitivity:  0.9203539823008849\n",
      "True positive:  312\n",
      "False positive:  26\n",
      "True negative:  307\n",
      "False negative:  27\n",
      "-------------\n",
      "Accuracy:  93.00595238095238\n",
      "F1 Score:  0.930576070901034\n",
      "Precision:  0.9459459459459459\n",
      "Recall:  0.9156976744186046\n",
      "Specificity:  0.9451219512195121\n",
      "Sensitivity:  0.9156976744186046\n",
      "True positive:  315\n",
      "False positive:  18\n",
      "True negative:  310\n",
      "False negative:  29\n",
      "-------------\n",
      "Accuracy:  91.95230998509687\n",
      "F1 Score:  0.9191616766467067\n",
      "Precision:  0.941717791411043\n",
      "Recall:  0.8976608187134503\n",
      "Specificity:  0.9422492401215805\n",
      "Sensitivity:  0.8976608187134503\n",
      "True positive:  307\n",
      "False positive:  19\n",
      "True negative:  310\n",
      "False negative:  35\n",
      "-------------\n",
      "Accuracy:  93.59165424739196\n",
      "F1 Score:  0.9364844903988183\n",
      "Precision:  0.9378698224852071\n",
      "Recall:  0.9351032448377581\n",
      "Specificity:  0.9367469879518072\n",
      "Sensitivity:  0.9351032448377581\n",
      "True positive:  317\n",
      "False positive:  21\n",
      "True negative:  311\n",
      "False negative:  22\n",
      "-------------\n"
     ]
    }
   ],
   "source": [
    "kf = KFold(n_splits=5,random_state = 42, shuffle = True)\n",
    "\n",
    "accuracy_LR_crossVal_under = []\n",
    "f1_LR_crossVal_under = []\n",
    "precision_LR_crossVal_under = []\n",
    "\n",
    "for train_index,test_index in kf.split(X_undersampled):\n",
    "    X_train_undersampled,X_test_undersampled=X_undersampled[train_index],X_undersampled[test_index]\n",
    "    y_train_undersampled,y_test_undersampled=y_undersampled[train_index],y_undersampled[test_index]\n",
    "    \n",
    "    logistic_regression_model_undersampled = LogisticRegression(max_iter = 3000)\n",
    "    logistic_regression_model_undersampled.fit(X_train_undersampled,y_train_undersampled)\n",
    "    prediction_undersampled = logistic_regression_model_undersampled.predict(X_test_undersampled)\n",
    "    \n",
    "    conf_matrix_undersampled = confusion_matrix(y_true=y_test_undersampled,y_pred=prediction_undersampled)\n",
    "    TP_undersampled = conf_matrix_undersampled[1,1]\n",
    "    TN_undersampled = conf_matrix_undersampled[0,0]\n",
    "    FP_undersampled = conf_matrix_undersampled[0,1]\n",
    "    FN_undersampled = conf_matrix_undersampled[1,0]\n",
    "    sensitivity_undersampled = TP_undersampled/(TP_undersampled+FN_undersampled)\n",
    "    specificity_undersampled = TN_undersampled/(TN_undersampled+FP_undersampled)\n",
    "    accuracy_undersampled = accuracy_score(y_test_undersampled,prediction_undersampled)*100\n",
    "    f1_undersampled = f1_score(y_test_undersampled, prediction_undersampled)\n",
    "    precision_undersampled = precision_score(y_test_undersampled, prediction_undersampled)\n",
    "    recall_undersampled = recall_score(y_test_undersampled, prediction_undersampled)\n",
    "    \n",
    "    accuracy_LR_crossVal_under.append(accuracy_undersampled)\n",
    "    f1_LR_crossVal_under.append(f1_undersampled)\n",
    "    precision_LR_crossVal_under.append(precision_undersampled)\n",
    "    \n",
    "    print(\"Accuracy: \", accuracy_undersampled)\n",
    "    print(\"F1 Score: \", f1_undersampled)\n",
    "    print(\"Precision: \", precision_undersampled)\n",
    "    print(\"Recall: \", recall_undersampled)\n",
    "    print(\"Specificity: \", specificity_undersampled)\n",
    "    print(\"Sensitivity: \", sensitivity_undersampled)\n",
    "    print(\"True positive: \", TP_undersampled)\n",
    "    print(\"False positive: \", FP_undersampled)\n",
    "    print(\"True negative: \", TN_undersampled)\n",
    "    print(\"False negative: \", FN_undersampled)\n",
    "    print(\"-------------\")"
   ]
  },
  {
   "cell_type": "markdown",
   "metadata": {},
   "source": [
    "### upsampling"
   ]
  },
  {
   "cell_type": "code",
   "execution_count": 195,
   "metadata": {},
   "outputs": [
    {
     "name": "stdout",
     "output_type": "stream",
     "text": [
      "Accuracy:  92.8923988153998\n",
      "F1 Score:  0.925\n",
      "Precision:  0.9426751592356688\n",
      "Recall:  0.9079754601226994\n",
      "Specificity:  0.9484732824427481\n",
      "Sensitivity:  0.9079754601226994\n",
      "True positive:  444\n",
      "False positive:  27\n",
      "True negative:  497\n",
      "False negative:  45\n",
      "-------------\n",
      "Accuracy:  92.10266535044423\n",
      "F1 Score:  0.9206349206349207\n",
      "Precision:  0.8974854932301741\n",
      "Recall:  0.945010183299389\n",
      "Specificity:  0.8984674329501916\n",
      "Sensitivity:  0.945010183299389\n",
      "True positive:  464\n",
      "False positive:  53\n",
      "True negative:  469\n",
      "False negative:  27\n",
      "-------------\n",
      "Accuracy:  91.79841897233202\n",
      "F1 Score:  0.9193391642371235\n",
      "Precision:  0.9329388560157791\n",
      "Recall:  0.9061302681992337\n",
      "Specificity:  0.9306122448979591\n",
      "Sensitivity:  0.9061302681992337\n",
      "True positive:  473\n",
      "False positive:  34\n",
      "True negative:  456\n",
      "False negative:  49\n",
      "-------------\n",
      "Accuracy:  94.46640316205533\n",
      "F1 Score:  0.944\n",
      "Precision:  0.9309664694280079\n",
      "Recall:  0.9574036511156186\n",
      "Specificity:  0.9325626204238922\n",
      "Sensitivity:  0.9574036511156186\n",
      "True positive:  472\n",
      "False positive:  35\n",
      "True negative:  484\n",
      "False negative:  21\n",
      "-------------\n",
      "Accuracy:  91.600790513834\n",
      "F1 Score:  0.9189704480457578\n",
      "Precision:  0.9395711500974658\n",
      "Recall:  0.8992537313432836\n",
      "Specificity:  0.9348739495798319\n",
      "Sensitivity:  0.8992537313432836\n",
      "True positive:  482\n",
      "False positive:  31\n",
      "True negative:  445\n",
      "False negative:  54\n",
      "-------------\n"
     ]
    }
   ],
   "source": [
    "kf = KFold(n_splits=5,random_state = 42, shuffle = True)\n",
    "\n",
    "accuracy_LR_crossVal_up = []\n",
    "f1_LR_crossVal_up = []\n",
    "precision_LR_crossVal_up = []\n",
    "\n",
    "for train_index,test_index in kf.split(X_upsampled):\n",
    "    X_train_upsampled,X_test_upsampled=X_upsampled[train_index],X_upsampled[test_index]\n",
    "    y_train_upsampled,y_test_upsampled=y_upsampled[train_index],y_upsampled[test_index]\n",
    "    \n",
    "    logistic_regression_model_upsampled = LogisticRegression(max_iter = 3000)\n",
    "    logistic_regression_model_upsampled.fit(X_train_upsampled,y_train_upsampled)\n",
    "    prediction_upsampled = logistic_regression_model_upsampled.predict(X_test_upsampled)\n",
    "    \n",
    "    conf_matrix_upsampled = confusion_matrix(y_true=y_test_upsampled,y_pred=prediction_upsampled)\n",
    "    TP_upsampled = conf_matrix_upsampled[1,1]\n",
    "    TN_upsampled = conf_matrix_upsampled[0,0]\n",
    "    FP_upsampled = conf_matrix_upsampled[0,1]\n",
    "    FN_upsampled = conf_matrix_upsampled[1,0]\n",
    "    sensitivity_upsampled = TP_upsampled/(TP_upsampled+FN_upsampled)\n",
    "    specificity_upsampled = TN_upsampled/(TN_upsampled+FP_upsampled)\n",
    "    accuracy_upsampled = accuracy_score(y_test_upsampled,prediction_upsampled)*100\n",
    "    f1_upsampled = f1_score(y_test_upsampled, prediction_upsampled)\n",
    "    precision_upsampled = precision_score(y_test_upsampled, prediction_upsampled)\n",
    "    recall_upsampled = recall_score(y_test_upsampled, prediction_upsampled)\n",
    "    \n",
    "    accuracy_LR_crossVal_up.append(accuracy_upsampled)\n",
    "    f1_LR_crossVal_up.append(f1_upsampled)\n",
    "    precision_LR_crossVal_up.append(precision_upsampled)\n",
    "    \n",
    "    print(\"Accuracy: \", accuracy_upsampled)\n",
    "    print(\"F1 Score: \", f1_upsampled)\n",
    "    print(\"Precision: \", precision_upsampled)\n",
    "    print(\"Recall: \", recall_upsampled)\n",
    "    print(\"Specificity: \", specificity_upsampled)\n",
    "    print(\"Sensitivity: \", sensitivity_upsampled)\n",
    "    print(\"True positive: \", TP_upsampled)\n",
    "    print(\"False positive: \", FP_upsampled)\n",
    "    print(\"True negative: \", TN_upsampled)\n",
    "    print(\"False negative: \", FN_upsampled)\n",
    "    print(\"-------------\")"
   ]
  },
  {
   "cell_type": "markdown",
   "metadata": {},
   "source": [
    "### Logistic Regression sa cross validacijom (prikaz rezultata)"
   ]
  },
  {
   "cell_type": "code",
   "execution_count": 196,
   "metadata": {},
   "outputs": [
    {
     "data": {
      "image/png": "[encoded data removed]",
      "text/plain": [
       "<Figure size 936x360 with 3 Axes>"
      ]
     },
     "metadata": {
      "needs_background": "light"
     },
     "output_type": "display_data"
    }
   ],
   "source": [
    "plt.figure(figsize=(13, 5))\n",
    "plt.subplot(131)\n",
    "plt.ylim(90,95)\n",
    "plt.bar(['acc_1', 'acc_2', 'acc_3', 'acc_4', 'acc_5'], [accuracy_LR_crossVal_imb[0], accuracy_LR_crossVal_imb[1], accuracy_LR_crossVal_imb[2],accuracy_LR_crossVal_imb[3],accuracy_LR_crossVal_imb[4]])\n",
    "plt.subplot(132)\n",
    "plt.ylim(0.85,0.95)\n",
    "plt.bar(['f1_1', 'f1_2','f1_3','f1_4','f1_5'], [f1_LR_crossVal_imb[0],f1_LR_crossVal_imb[1],f1_LR_crossVal_imb[2],f1_LR_crossVal_imb[3],f1_LR_crossVal_imb[4]])\n",
    "plt.subplot(133)\n",
    "plt.ylim(0.9,0.95)\n",
    "plt.bar(['prec_1', 'prec_2', 'prec_3','prec_4','prec_5'], [precision_LR_crossVal_imb[0], precision_LR_crossVal_imb[1], precision_LR_crossVal_imb[2],precision_LR_crossVal_imb[3],precision_LR_crossVal_imb[4]])\n",
    "plt.suptitle('Measurement comparison LOGISTIC REGRESSION with CROSS VALIDATION IMBALANCED')\n",
    "plt.show()"
   ]
  },
  {
   "cell_type": "code",
   "execution_count": 197,
   "metadata": {},
   "outputs": [
    {
     "data": {
      "image/png": "[encoded data removed]",
      "text/plain": [
       "<Figure size 936x360 with 3 Axes>"
      ]
     },
     "metadata": {
      "needs_background": "light"
     },
     "output_type": "display_data"
    }
   ],
   "source": [
    "plt.figure(figsize=(13, 5))\n",
    "plt.subplot(131)\n",
    "plt.ylim(90,95)\n",
    "plt.bar(['acc_1', 'acc_2', 'acc_3', 'acc_4', 'acc_5'], [accuracy_LR_crossVal_under[0], accuracy_LR_crossVal_under[1], accuracy_LR_crossVal_under[2],accuracy_LR_crossVal_under[3],accuracy_LR_crossVal_under[4]])\n",
    "plt.subplot(132)\n",
    "plt.ylim(0.85,0.95)\n",
    "plt.bar(['f1_1', 'f1_2','f1_3','f1_4','f1_5'], [f1_LR_crossVal_under[0],f1_LR_crossVal_under[1],f1_LR_crossVal_under[2],f1_LR_crossVal_under[3],f1_LR_crossVal_under[4]])\n",
    "plt.subplot(133)\n",
    "plt.ylim(0.9,0.95)\n",
    "plt.bar(['prec_1', 'prec_2', 'prec_3','prec_4','prec_5'], [precision_LR_crossVal_under[0], precision_LR_crossVal_under[1], precision_LR_crossVal_under[2],precision_LR_crossVal_under[3],precision_LR_crossVal_under[4]])\n",
    "plt.suptitle('Measurement comparison LOGISTIC REGRESSION with CROSS VALIDATION UNDERSAMPLING')\n",
    "plt.show()"
   ]
  },
  {
   "cell_type": "code",
   "execution_count": 198,
   "metadata": {},
   "outputs": [
    {
     "data": {
      "image/png": "[encoded data removed]",
      "text/plain": [
       "<Figure size 936x360 with 3 Axes>"
      ]
     },
     "metadata": {
      "needs_background": "light"
     },
     "output_type": "display_data"
    }
   ],
   "source": [
    "plt.figure(figsize=(13, 5))\n",
    "plt.subplot(131)\n",
    "plt.ylim(90,95)\n",
    "plt.bar(['acc_1', 'acc_2', 'acc_3', 'acc_4', 'acc_5'], [accuracy_LR_crossVal_up[0], accuracy_LR_crossVal_up[1], accuracy_LR_crossVal_up[2],accuracy_LR_crossVal_up[3],accuracy_LR_crossVal_up[4]])\n",
    "plt.subplot(132)\n",
    "plt.ylim(0.85,0.95)\n",
    "plt.bar(['f1_1', 'f1_2','f1_3','f1_4','f1_5'], [f1_LR_crossVal_up[0],f1_LR_crossVal_up[1],f1_LR_crossVal_up[2],f1_LR_crossVal_up[3],f1_LR_crossVal_up[4]])\n",
    "plt.subplot(133)\n",
    "plt.ylim(0.87,0.95)\n",
    "plt.bar(['prec_1', 'prec_2', 'prec_3','prec_4','prec_5'], [precision_LR_crossVal_up[0], precision_LR_crossVal_up[1], precision_LR_crossVal_up[2],precision_LR_crossVal_up[3],precision_LR_crossVal_up[4]])\n",
    "plt.suptitle('Measurement comparison LOGISTIC REGRESSION with CROSS VALIDATION UPSAMPLING')\n",
    "plt.show()"
   ]
  },
  {
   "cell_type": "markdown",
   "metadata": {},
   "source": [
    "## Repeated kfold"
   ]
  },
  {
   "cell_type": "markdown",
   "metadata": {},
   "source": [
    "### bez balansiranja"
   ]
  },
  {
   "cell_type": "code",
   "execution_count": 199,
   "metadata": {},
   "outputs": [
    {
     "name": "stdout",
     "output_type": "stream",
     "text": [
      "Accuracy:  91.0688836104513\n",
      "F1 Score:  0.8882282996432818\n",
      "Precision:  0.9032648125755743\n",
      "Recall:  0.8736842105263158\n",
      "Specificity:  0.936\n",
      "Sensitivity:  0.8736842105263158\n",
      "True positive:  747\n",
      "False positive:  80\n",
      "True negative:  1170\n",
      "False negative:  108\n",
      "-------------\n",
      "Accuracy:  93.0166270783848\n",
      "F1 Score:  0.9100917431192661\n",
      "Precision:  0.9173859432799013\n",
      "Recall:  0.9029126213592233\n",
      "Specificity:  0.9476971116315379\n",
      "Sensitivity:  0.9029126213592233\n",
      "True positive:  744\n",
      "False positive:  67\n",
      "True negative:  1214\n",
      "False negative:  80\n",
      "-------------\n",
      "Accuracy:  92.7790973871734\n",
      "F1 Score:  0.9060568603213844\n",
      "Precision:  0.9255050505050505\n",
      "Recall:  0.887409200968523\n",
      "Specificity:  0.9538702111024238\n",
      "Sensitivity:  0.887409200968523\n",
      "True positive:  733\n",
      "False positive:  59\n",
      "True negative:  1220\n",
      "False negative:  93\n",
      "-------------\n",
      "Accuracy:  91.73396674584323\n",
      "F1 Score:  0.8964285714285715\n",
      "Precision:  0.9105199516324063\n",
      "Recall:  0.8827667057444314\n",
      "Specificity:  0.9408945686900958\n",
      "Sensitivity:  0.8827667057444314\n",
      "True positive:  753\n",
      "False positive:  74\n",
      "True negative:  1178\n",
      "False negative:  100\n",
      "-------------\n"
     ]
    }
   ],
   "source": [
    "kf = RepeatedKFold(n_splits=2, n_repeats=2, random_state=1)\n",
    "\n",
    "accuracy_LR_crossVal_imb = []\n",
    "f1_LR_crossVal_imb = []\n",
    "precision_LR_crossVal_imb = []\n",
    "\n",
    "for train_index,test_index in kf.split(X_imbalanced):\n",
    "    X_train_imbalanced,X_test_imbalanced=X_imbalanced[train_index],X_imbalanced[test_index]\n",
    "    y_train_imbalanced,y_test_imbalanced=y_imbalanced[train_index],y_imbalanced[test_index]\n",
    "    \n",
    "    logistic_regression_model_imbalanced = LogisticRegression(max_iter = 3000)\n",
    "    logistic_regression_model_imbalanced.fit(X_train_imbalanced,y_train_imbalanced)\n",
    "    prediction_imbalanced = logistic_regression_model_imbalanced.predict(X_test_imbalanced)\n",
    "    \n",
    "    conf_matrix_imbalanced = confusion_matrix(y_true=y_test_imbalanced,y_pred=prediction_imbalanced)\n",
    "    TP_imbalanced = conf_matrix_imbalanced[1,1]\n",
    "    TN_imbalanced = conf_matrix_imbalanced[0,0]\n",
    "    FP_imbalanced = conf_matrix_imbalanced[0,1]\n",
    "    FN_imbalanced = conf_matrix_imbalanced[1,0]\n",
    "    sensitivity_imbalanced = TP_imbalanced/(TP_imbalanced+FN_imbalanced)\n",
    "    specificity_imbalanced = TN_imbalanced/(TN_imbalanced+FP_imbalanced)\n",
    "    accuracy_imbalanced = accuracy_score(y_test_imbalanced,prediction_imbalanced)*100\n",
    "    f1_imbalanced = f1_score(y_test_imbalanced, prediction_imbalanced)\n",
    "    precision_imbalanced = precision_score(y_test_imbalanced, prediction_imbalanced)\n",
    "    recall_imbalanced = recall_score(y_test_imbalanced, prediction_imbalanced)\n",
    "    \n",
    "    accuracy_LR_crossVal_imb.append(accuracy_imbalanced)\n",
    "    f1_LR_crossVal_imb.append(f1_imbalanced)\n",
    "    precision_LR_crossVal_imb.append(precision_imbalanced)\n",
    "    \n",
    "    print(\"Accuracy: \", accuracy_imbalanced)\n",
    "    print(\"F1 Score: \", f1_imbalanced)\n",
    "    print(\"Precision: \", precision_imbalanced)\n",
    "    print(\"Recall: \", recall_imbalanced)\n",
    "    print(\"Specificity: \", specificity_imbalanced)\n",
    "    print(\"Sensitivity: \", sensitivity_imbalanced)\n",
    "    print(\"True positive: \", TP_imbalanced)\n",
    "    print(\"False positive: \", FP_imbalanced)\n",
    "    print(\"True negative: \", TN_imbalanced)\n",
    "    print(\"False negative: \", FN_imbalanced)\n",
    "    print(\"-------------\")"
   ]
  },
  {
   "cell_type": "markdown",
   "metadata": {},
   "source": [
    "### undersampling"
   ]
  },
  {
   "cell_type": "code",
   "execution_count": 200,
   "metadata": {},
   "outputs": [
    {
     "name": "stdout",
     "output_type": "stream",
     "text": [
      "Accuracy:  92.13817748659918\n",
      "F1 Score:  0.9200968523002421\n",
      "Precision:  0.9212121212121213\n",
      "Recall:  0.9189842805320435\n",
      "Specificity:  0.9237089201877934\n",
      "Sensitivity:  0.9189842805320435\n",
      "True positive:  760\n",
      "False positive:  65\n",
      "True negative:  787\n",
      "False negative:  67\n",
      "-------------\n",
      "Accuracy:  92.01905896366885\n",
      "F1 Score:  0.9203329369797859\n",
      "Precision:  0.9325301204819277\n",
      "Recall:  0.9084507042253521\n",
      "Specificity:  0.932285368802902\n",
      "Sensitivity:  0.9084507042253521\n",
      "True positive:  774\n",
      "False positive:  56\n",
      "True negative:  771\n",
      "False negative:  78\n",
      "-------------\n",
      "Accuracy:  92.31685527099464\n",
      "F1 Score:  0.9248689574839837\n",
      "Precision:  0.927570093457944\n",
      "Recall:  0.9221835075493612\n",
      "Specificity:  0.9242053789731052\n",
      "Sensitivity:  0.9221835075493612\n",
      "True positive:  794\n",
      "False positive:  62\n",
      "True negative:  756\n",
      "False negative:  67\n",
      "-------------\n",
      "Accuracy:  91.42346634901727\n",
      "F1 Score:  0.9110012360939431\n",
      "Precision:  0.92125\n",
      "Recall:  0.9009779951100244\n",
      "Specificity:  0.926829268292683\n",
      "Sensitivity:  0.9009779951100244\n",
      "True positive:  737\n",
      "False positive:  63\n",
      "True negative:  798\n",
      "False negative:  81\n",
      "-------------\n"
     ]
    }
   ],
   "source": [
    "kf = RepeatedKFold(n_splits=2, n_repeats=2, random_state=1)\n",
    "\n",
    "accuracy_LR_crossVal_under = []\n",
    "f1_LR_crossVal_under = []\n",
    "precision_LR_crossVal_under = []\n",
    "\n",
    "for train_index,test_index in kf.split(X_undersampled):\n",
    "    X_train_undersampled,X_test_undersampled=X_undersampled[train_index],X_undersampled[test_index]\n",
    "    y_train_undersampled,y_test_undersampled=y_undersampled[train_index],y_undersampled[test_index]\n",
    "    \n",
    "    logistic_regression_model_undersampled = LogisticRegression(max_iter = 3000)\n",
    "    logistic_regression_model_undersampled.fit(X_train_undersampled,y_train_undersampled)\n",
    "    prediction_undersampled = logistic_regression_model_undersampled.predict(X_test_undersampled)\n",
    "    \n",
    "    conf_matrix_undersampled = confusion_matrix(y_true=y_test_undersampled,y_pred=prediction_undersampled)\n",
    "    TP_undersampled = conf_matrix_undersampled[1,1]\n",
    "    TN_undersampled = conf_matrix_undersampled[0,0]\n",
    "    FP_undersampled = conf_matrix_undersampled[0,1]\n",
    "    FN_undersampled = conf_matrix_undersampled[1,0]\n",
    "    sensitivity_undersampled = TP_undersampled/(TP_undersampled+FN_undersampled)\n",
    "    specificity_undersampled = TN_undersampled/(TN_undersampled+FP_undersampled)\n",
    "    accuracy_undersampled = accuracy_score(y_test_undersampled,prediction_undersampled)*100\n",
    "    f1_undersampled = f1_score(y_test_undersampled, prediction_undersampled)\n",
    "    precision_undersampled = precision_score(y_test_undersampled, prediction_undersampled)\n",
    "    recall_undersampled = recall_score(y_test_undersampled, prediction_undersampled)\n",
    "    \n",
    "    accuracy_LR_crossVal_under.append(accuracy_undersampled)\n",
    "    f1_LR_crossVal_under.append(f1_undersampled)\n",
    "    precision_LR_crossVal_under.append(precision_undersampled)\n",
    "    \n",
    "    print(\"Accuracy: \", accuracy_undersampled)\n",
    "    print(\"F1 Score: \", f1_undersampled)\n",
    "    print(\"Precision: \", precision_undersampled)\n",
    "    print(\"Recall: \", recall_undersampled)\n",
    "    print(\"Specificity: \", specificity_undersampled)\n",
    "    print(\"Sensitivity: \", sensitivity_undersampled)\n",
    "    print(\"True positive: \", TP_undersampled)\n",
    "    print(\"False positive: \", FP_undersampled)\n",
    "    print(\"True negative: \", TN_undersampled)\n",
    "    print(\"False negative: \", FN_undersampled)\n",
    "    print(\"-------------\")"
   ]
  },
  {
   "cell_type": "markdown",
   "metadata": {},
   "source": [
    "### upsampling"
   ]
  },
  {
   "cell_type": "code",
   "execution_count": 201,
   "metadata": {},
   "outputs": [
    {
     "name": "stdout",
     "output_type": "stream",
     "text": [
      "Accuracy:  92.84867641248519\n",
      "F1 Score:  0.9276867758689572\n",
      "Precision:  0.9265762170790104\n",
      "Recall:  0.9288\n",
      "Specificity:  0.9281811085089774\n",
      "Sensitivity:  0.9288\n",
      "True positive:  1161\n",
      "False positive:  92\n",
      "True negative:  1189\n",
      "False negative:  89\n",
      "-------------\n",
      "Accuracy:  92.61161596207033\n",
      "F1 Score:  0.9262908947575877\n",
      "Precision:  0.9355095541401274\n",
      "Recall:  0.9172521467603435\n",
      "Specificity:  0.9352\n",
      "Sensitivity:  0.9172521467603435\n",
      "True positive:  1175\n",
      "False positive:  81\n",
      "True negative:  1169\n",
      "False negative:  106\n",
      "-------------\n",
      "Accuracy:  92.80916633741604\n",
      "F1 Score:  0.9278922345483361\n",
      "Precision:  0.9264240506329114\n",
      "Recall:  0.9293650793650794\n",
      "Specificity:  0.926829268292683\n",
      "Sensitivity:  0.9293650793650794\n",
      "True positive:  1171\n",
      "False positive:  93\n",
      "True negative:  1178\n",
      "False negative:  89\n",
      "-------------\n",
      "Accuracy:  92.41406558672462\n",
      "F1 Score:  0.9243498817966902\n",
      "Precision:  0.925808997632202\n",
      "Recall:  0.9228953579858379\n",
      "Specificity:  0.9253968253968254\n",
      "Sensitivity:  0.9228953579858379\n",
      "True positive:  1173\n",
      "False positive:  94\n",
      "True negative:  1166\n",
      "False negative:  98\n",
      "-------------\n"
     ]
    }
   ],
   "source": [
    "kf = RepeatedKFold(n_splits=2, n_repeats=2, random_state=1)\n",
    "\n",
    "accuracy_LR_crossVal_up = []\n",
    "f1_LR_crossVal_up = []\n",
    "precision_LR_crossVal_up = []\n",
    "\n",
    "for train_index,test_index in kf.split(X_upsampled):\n",
    "    X_train_upsampled,X_test_upsampled=X_upsampled[train_index],X_upsampled[test_index]\n",
    "    y_train_upsampled,y_test_upsampled=y_upsampled[train_index],y_upsampled[test_index]\n",
    "    \n",
    "    logistic_regression_model_upsampled = LogisticRegression(max_iter = 3000)\n",
    "    logistic_regression_model_upsampled.fit(X_train_upsampled,y_train_upsampled)\n",
    "    prediction_upsampled = logistic_regression_model_upsampled.predict(X_test_upsampled)\n",
    "    \n",
    "    conf_matrix_upsampled = confusion_matrix(y_true=y_test_upsampled,y_pred=prediction_upsampled)\n",
    "    TP_upsampled = conf_matrix_upsampled[1,1]\n",
    "    TN_upsampled = conf_matrix_upsampled[0,0]\n",
    "    FP_upsampled = conf_matrix_upsampled[0,1]\n",
    "    FN_upsampled = conf_matrix_upsampled[1,0]\n",
    "    sensitivity_upsampled = TP_upsampled/(TP_upsampled+FN_upsampled)\n",
    "    specificity_upsampled = TN_upsampled/(TN_upsampled+FP_upsampled)\n",
    "    accuracy_upsampled = accuracy_score(y_test_upsampled,prediction_upsampled)*100\n",
    "    f1_upsampled = f1_score(y_test_upsampled, prediction_upsampled)\n",
    "    precision_upsampled = precision_score(y_test_upsampled, prediction_upsampled)\n",
    "    recall_upsampled = recall_score(y_test_upsampled, prediction_upsampled)\n",
    "    \n",
    "    accuracy_LR_crossVal_up.append(accuracy_upsampled)\n",
    "    f1_LR_crossVal_up.append(f1_upsampled)\n",
    "    precision_LR_crossVal_up.append(precision_upsampled)\n",
    "    \n",
    "    print(\"Accuracy: \", accuracy_upsampled)\n",
    "    print(\"F1 Score: \", f1_upsampled)\n",
    "    print(\"Precision: \", precision_upsampled)\n",
    "    print(\"Recall: \", recall_upsampled)\n",
    "    print(\"Specificity: \", specificity_upsampled)\n",
    "    print(\"Sensitivity: \", sensitivity_upsampled)\n",
    "    print(\"True positive: \", TP_upsampled)\n",
    "    print(\"False positive: \", FP_upsampled)\n",
    "    print(\"True negative: \", TN_upsampled)\n",
    "    print(\"False negative: \", FN_upsampled)\n",
    "    print(\"-------------\")"
   ]
  },
  {
   "cell_type": "code",
   "execution_count": 202,
   "metadata": {},
   "outputs": [
    {
     "data": {
      "image/png": "[encoded data removed]",
      "text/plain": [
       "<Figure size 936x288 with 3 Axes>"
      ]
     },
     "metadata": {
      "needs_background": "light"
     },
     "output_type": "display_data"
    }
   ],
   "source": [
    "plt.figure(figsize=(13, 4))\n",
    "plt.subplot(131)\n",
    "plt.ylim(90,95)\n",
    "plt.bar(['acc_1', 'acc_2', 'acc_3', 'acc_4'], [accuracy_LR_crossVal_imb[0], accuracy_LR_crossVal_imb[1], accuracy_LR_crossVal_imb[2],accuracy_LR_crossVal_imb[3]])\n",
    "plt.subplot(132)\n",
    "plt.ylim(0.85,0.95)\n",
    "plt.bar(['f1_1', 'f1_2','f1_3','f1_4'], [f1_LR_crossVal_imb[0],f1_LR_crossVal_imb[1],f1_LR_crossVal_imb[2],f1_LR_crossVal_imb[3]])\n",
    "plt.subplot(133)\n",
    "plt.ylim(0.9,0.95)\n",
    "plt.bar(['prec_1', 'prec_2', 'prec_3','prec_4'], [precision_LR_crossVal_imb[0], precision_LR_crossVal_imb[1], precision_LR_crossVal_imb[2],precision_LR_crossVal_imb[3]])\n",
    "plt.suptitle('Measurement comparison LOGISTIC REGRESSION with REPEATED K FOLD IMBALANCED')\n",
    "plt.show()"
   ]
  },
  {
   "cell_type": "code",
   "execution_count": 203,
   "metadata": {},
   "outputs": [
    {
     "data": {
      "image/png": "[encoded data removed]",
      "text/plain": [
       "<Figure size 936x288 with 3 Axes>"
      ]
     },
     "metadata": {
      "needs_background": "light"
     },
     "output_type": "display_data"
    }
   ],
   "source": [
    "plt.figure(figsize=(13, 4))\n",
    "plt.subplot(131)\n",
    "plt.ylim(90,95)\n",
    "plt.bar(['acc_1', 'acc_2', 'acc_3', 'acc_4'], [accuracy_LR_crossVal_under[0], accuracy_LR_crossVal_under[1], accuracy_LR_crossVal_under[2],accuracy_LR_crossVal_under[3]])\n",
    "plt.subplot(132)\n",
    "plt.ylim(0.85,0.95)\n",
    "plt.bar(['f1_1', 'f1_2','f1_3','f1_4'], [f1_LR_crossVal_under[0],f1_LR_crossVal_under[1],f1_LR_crossVal_under[2],f1_LR_crossVal_under[3]])\n",
    "plt.subplot(133)\n",
    "plt.ylim(0.9,0.95)\n",
    "plt.bar(['prec_1', 'prec_2', 'prec_3','prec_4'], [precision_LR_crossVal_under[0], precision_LR_crossVal_under[1], precision_LR_crossVal_under[2],precision_LR_crossVal_under[3]])\n",
    "plt.suptitle('Measurement comparison LOGISTIC REGRESSION with REPEATED K FOLD UNDERSAMPLING')\n",
    "plt.show()"
   ]
  },
  {
   "cell_type": "code",
   "execution_count": 204,
   "metadata": {},
   "outputs": [
    {
     "data": {
      "image/png": "[encoded data removed]",
      "text/plain": [
       "<Figure size 936x288 with 3 Axes>"
      ]
     },
     "metadata": {
      "needs_background": "light"
     },
     "output_type": "display_data"
    }
   ],
   "source": [
    "plt.figure(figsize=(13, 4))\n",
    "plt.subplot(131)\n",
    "plt.ylim(90,95)\n",
    "plt.bar(['acc_1', 'acc_2', 'acc_3', 'acc_4'], [accuracy_LR_crossVal_up[0], accuracy_LR_crossVal_up[1], accuracy_LR_crossVal_up[2],accuracy_LR_crossVal_up[3]])\n",
    "plt.subplot(132)\n",
    "plt.ylim(0.85,0.95)\n",
    "plt.bar(['f1_1', 'f1_2','f1_3','f1_4'], [f1_LR_crossVal_up[0],f1_LR_crossVal_up[1],f1_LR_crossVal_up[2],f1_LR_crossVal_up[3]])\n",
    "plt.subplot(133)\n",
    "plt.ylim(0.9,0.95)\n",
    "plt.bar(['prec_1', 'prec_2', 'prec_3','prec_4'], [precision_LR_crossVal_up[0], precision_LR_crossVal_up[1], precision_LR_crossVal_up[2],precision_LR_crossVal_up[3]])\n",
    "plt.suptitle('Measurement comparison LOGISTIC REGRESSION with REPEATED K FOLD UPSAMPLING')\n",
    "plt.show()"
   ]
  },
  {
   "cell_type": "markdown",
   "metadata": {},
   "source": [
    "# GRADIENT BOOST "
   ]
  },
  {
   "cell_type": "markdown",
   "metadata": {},
   "source": [
    "## bez balansiranja"
   ]
  },
  {
   "cell_type": "code",
   "execution_count": 205,
   "metadata": {},
   "outputs": [],
   "source": [
    "X_imbalanced = dataset.drop(\"label_spam\",axis = 1).values\n",
    "y_imbalanced = dataset[\"label_spam\"].values\n",
    "\n",
    "X_train_imbalanced,X_test_imbalanced, y_train_imbalanced, y_test_imbalanced = train_test_split(X_imbalanced,y_imbalanced,test_size = 0.2, random_state = 1)"
   ]
  },
  {
   "cell_type": "code",
   "execution_count": 206,
   "metadata": {},
   "outputs": [],
   "source": [
    "gradient_booster = GradientBoostingClassifier(learning_rate=0.1)\n",
    "params = gradient_booster.get_params()"
   ]
  },
  {
   "cell_type": "code",
   "execution_count": 207,
   "metadata": {},
   "outputs": [],
   "source": [
    "gradient_booster.fit(X_train_imbalanced,y_train_imbalanced)\n",
    "prediction_imbalanced=gradient_booster.predict(X_test_imbalanced)"
   ]
  },
  {
   "cell_type": "code",
   "execution_count": 208,
   "metadata": {},
   "outputs": [],
   "source": [
    "conf_matrix_imbalanced = confusion_matrix(y_true=y_test_imbalanced,y_pred=prediction_imbalanced)\n",
    "TP_imbalanced = conf_matrix_imbalanced[1,1]\n",
    "TN_imbalanced = conf_matrix_imbalanced[0,0]\n",
    "FP_imbalanced = conf_matrix_imbalanced[0,1]\n",
    "FN_imbalanced = conf_matrix_imbalanced[1,0]\n",
    "sensitivity_imbalanced = TP_imbalanced/(TP_imbalanced+FN_imbalanced)\n",
    "specificity_imbalanced = TN_imbalanced/(TN_imbalanced+FP_imbalanced)\n",
    "accuracy_imbalanced = accuracy_score(y_test_imbalanced,prediction_imbalanced)*100\n",
    "f1_imbalanced = f1_score(y_test_imbalanced, prediction_imbalanced)\n",
    "precision_imbalanced = precision_score(y_test_imbalanced, prediction_imbalanced)\n",
    "recall_imbalanced = recall_score(y_test_imbalanced, prediction_imbalanced)\n",
    "    \n"
   ]
  },
  {
   "cell_type": "code",
   "execution_count": 209,
   "metadata": {},
   "outputs": [
    {
     "name": "stdout",
     "output_type": "stream",
     "text": [
      "Accuracy:  93.94299287410927\n",
      "F1 Score:  0.9194312796208531\n",
      "Precision:  0.9387096774193548\n",
      "Recall:  0.9009287925696594\n",
      "Specificity:  0.9633911368015414\n",
      "Sensitivity:  0.9009287925696594\n",
      "True positive:  291\n",
      "False positive:  19\n",
      "True negative:  500\n",
      "False negative:  32\n",
      "-------------\n"
     ]
    }
   ],
   "source": [
    "print(\"Accuracy: \", accuracy_imbalanced)\n",
    "print(\"F1 Score: \", f1_imbalanced)\n",
    "print(\"Precision: \", precision_imbalanced)\n",
    "print(\"Recall: \", recall_imbalanced)\n",
    "print(\"Specificity: \", specificity_imbalanced)\n",
    "print(\"Sensitivity: \", sensitivity_imbalanced)\n",
    "print(\"True positive: \", TP_imbalanced)\n",
    "print(\"False positive: \", FP_imbalanced)\n",
    "print(\"True negative: \", TN_imbalanced)\n",
    "print(\"False negative: \", FN_imbalanced)\n",
    "print(\"-------------\")"
   ]
  },
  {
   "cell_type": "markdown",
   "metadata": {},
   "source": [
    "### undersampling"
   ]
  },
  {
   "cell_type": "code",
   "execution_count": 210,
   "metadata": {},
   "outputs": [],
   "source": [
    "X_undersampled = df_undersampled.drop(\"label_spam\",axis = 1).values\n",
    "y_undersampled = df_undersampled[\"label_spam\"].values\n",
    "X_train_undersampled,X_test_undersampled, y_train_undersampled, y_test_undersampled = train_test_split(X_undersampled,y_undersampled,test_size = 0.2, random_state = 1)"
   ]
  },
  {
   "cell_type": "code",
   "execution_count": 211,
   "metadata": {},
   "outputs": [],
   "source": [
    "gradient_booster = GradientBoostingClassifier(learning_rate=0.1)\n",
    "params = gradient_booster.get_params()"
   ]
  },
  {
   "cell_type": "code",
   "execution_count": 212,
   "metadata": {},
   "outputs": [],
   "source": [
    "gradient_booster.fit(X_train_undersampled,y_train_undersampled)\n",
    "prediction_undersampled=gradient_booster.predict(X_test_undersampled)"
   ]
  },
  {
   "cell_type": "code",
   "execution_count": 213,
   "metadata": {},
   "outputs": [],
   "source": [
    "conf_matrix_undersampled = confusion_matrix(y_true=y_test_undersampled,y_pred=prediction_undersampled)\n",
    "TP_undersampled = conf_matrix_undersampled[1,1]\n",
    "TN_undersampled = conf_matrix_undersampled[0,0]\n",
    "FP_undersampled = conf_matrix_undersampled[0,1]\n",
    "FN_undersampled = conf_matrix_undersampled[1,0]\n",
    "sensitivity_undersampled = TP_undersampled/(TP_undersampled+FN_undersampled)\n",
    "specificity_undersampled = TN_undersampled/(TN_undersampled+FP_undersampled)\n",
    "accuracy_undersampled = accuracy_score(y_test_undersampled,prediction_undersampled)*100\n",
    "f1_undersampled = f1_score(y_test_undersampled, prediction_undersampled)\n",
    "precision_undersampled = precision_score(y_test_undersampled, prediction_undersampled)\n",
    "recall_undersampled = recall_score(y_test_undersampled, prediction_undersampled)"
   ]
  },
  {
   "cell_type": "code",
   "execution_count": 214,
   "metadata": {},
   "outputs": [
    {
     "name": "stdout",
     "output_type": "stream",
     "text": [
      "Accuracy:  94.19642857142857\n",
      "F1 Score:  0.9402756508422665\n",
      "Precision:  0.9359756097560976\n",
      "Recall:  0.9446153846153846\n",
      "Specificity:  0.9394812680115274\n",
      "Sensitivity:  0.9446153846153846\n",
      "True positive:  307\n",
      "False positive:  21\n",
      "True negative:  326\n",
      "False negative:  18\n"
     ]
    }
   ],
   "source": [
    "print(\"Accuracy: \", accuracy_undersampled)\n",
    "print(\"F1 Score: \", f1_undersampled)\n",
    "print(\"Precision: \", precision_undersampled)\n",
    "print(\"Recall: \", recall_undersampled)\n",
    "print(\"Specificity: \", specificity_undersampled)\n",
    "print(\"Sensitivity: \", sensitivity_undersampled)\n",
    "print(\"True positive: \", TP_undersampled)\n",
    "print(\"False positive: \", FP_undersampled)\n",
    "print(\"True negative: \", TN_undersampled)\n",
    "print(\"False negative: \", FN_undersampled)"
   ]
  },
  {
   "cell_type": "markdown",
   "metadata": {},
   "source": [
    "### upsampling"
   ]
  },
  {
   "cell_type": "code",
   "execution_count": 215,
   "metadata": {},
   "outputs": [],
   "source": [
    "X_upsampled = df_upsampled.drop(\"label_spam\",axis = 1).values\n",
    "y_upsampled = df_upsampled[\"label_spam\"].values\n",
    "X_train_upsampled,X_test_upsampled, y_train_upsampled, y_test_upsampled = train_test_split(X_upsampled,y_upsampled,test_size = 0.2, random_state = 1)"
   ]
  },
  {
   "cell_type": "code",
   "execution_count": 216,
   "metadata": {},
   "outputs": [],
   "source": [
    "gradient_booster = GradientBoostingClassifier(learning_rate=0.1)\n",
    "params = gradient_booster.get_params()"
   ]
  },
  {
   "cell_type": "code",
   "execution_count": 217,
   "metadata": {},
   "outputs": [],
   "source": [
    "gradient_booster.fit(X_train_upsampled,y_train_upsampled)\n",
    "prediction_upsampled=gradient_booster.predict(X_test_upsampled)"
   ]
  },
  {
   "cell_type": "code",
   "execution_count": 218,
   "metadata": {},
   "outputs": [],
   "source": [
    "conf_matrix_upsampled = confusion_matrix(y_true=y_test_upsampled,y_pred=prediction_upsampled)\n",
    "TP_upsampled = conf_matrix_upsampled[1,1]\n",
    "TN_upsampled = conf_matrix_upsampled[0,0]\n",
    "FP_upsampled = conf_matrix_upsampled[0,1]\n",
    "FN_upsampled = conf_matrix_upsampled[1,0]\n",
    "sensitivity_upsampled = TP_upsampled/(TP_upsampled+FN_upsampled)\n",
    "specificity_upsampled = TN_upsampled/(TN_upsampled+FP_upsampled)\n",
    "accuracy_upsampled = accuracy_score(y_test_upsampled,prediction_upsampled)*100\n",
    "f1_upsampled = f1_score(y_test_upsampled, prediction_upsampled)\n",
    "precision_upsampled = precision_score(y_test_upsampled, prediction_upsampled)\n",
    "recall_upsampled = recall_score(y_test_upsampled, prediction_upsampled)"
   ]
  },
  {
   "cell_type": "code",
   "execution_count": 219,
   "metadata": {},
   "outputs": [
    {
     "name": "stdout",
     "output_type": "stream",
     "text": [
      "Accuracy:  94.9654491609082\n",
      "F1 Score:  0.9481180061037641\n",
      "Precision:  0.9529652351738241\n",
      "Recall:  0.9433198380566802\n",
      "Specificity:  0.9556840077071291\n",
      "Sensitivity:  0.9433198380566802\n",
      "True positive:  466\n",
      "False positive:  23\n",
      "True negative:  496\n",
      "False negative:  28\n"
     ]
    }
   ],
   "source": [
    "print(\"Accuracy: \", accuracy_upsampled)\n",
    "print(\"F1 Score: \", f1_upsampled)\n",
    "print(\"Precision: \", precision_upsampled)\n",
    "print(\"Recall: \", recall_upsampled)\n",
    "print(\"Specificity: \", specificity_upsampled)\n",
    "print(\"Sensitivity: \", sensitivity_upsampled)\n",
    "print(\"True positive: \", TP_upsampled)\n",
    "print(\"False positive: \", FP_upsampled)\n",
    "print(\"True negative: \", TN_upsampled)\n",
    "print(\"False negative: \", FN_upsampled)"
   ]
  },
  {
   "cell_type": "markdown",
   "metadata": {},
   "source": [
    "## Komparacija mera za Gradient Boost bez cross validacije"
   ]
  },
  {
   "cell_type": "code",
   "execution_count": 220,
   "metadata": {},
   "outputs": [
    {
     "data": {
      "image/png": "[encoded data removed]",
      "text/plain": [
       "<Figure size 936x216 with 3 Axes>"
      ]
     },
     "metadata": {
      "needs_background": "light"
     },
     "output_type": "display_data"
    }
   ],
   "source": [
    "plt.figure(figsize=(13, 3))\n",
    "plt.subplot(131)\n",
    "plt.ylim(90,97)\n",
    "plt.bar(['acc_under', 'acc_up', 'acc_imb'], [accuracy_undersampled, accuracy_upsampled, accuracy_imbalanced])\n",
    "plt.subplot(132)\n",
    "plt.ylim(0.9,0.97)\n",
    "plt.bar(['f1_under', 'f1_up','f1_imb'], [f1_undersampled, f1_upsampled, f1_imbalanced])\n",
    "plt.subplot(133)\n",
    "plt.ylim(0.9,0.97)\n",
    "plt.bar(['prec_under', 'prec_up', 'prec_imb'], [precision_undersampled, precision_upsampled, [precision_imbalanced]])\n",
    "plt.suptitle('Measurement comparison GRADIENT BOOST')\n",
    "plt.show()"
   ]
  },
  {
   "cell_type": "markdown",
   "metadata": {},
   "source": [
    "# Gradient Boost sa cross validacijom"
   ]
  },
  {
   "cell_type": "markdown",
   "metadata": {},
   "source": [
    "## KFold"
   ]
  },
  {
   "cell_type": "markdown",
   "metadata": {},
   "source": [
    "### bez balansiranja"
   ]
  },
  {
   "cell_type": "code",
   "execution_count": 221,
   "metadata": {},
   "outputs": [
    {
     "name": "stdout",
     "output_type": "stream",
     "text": [
      "Accuracy:  94.29928741092637\n",
      "F1 Score:  0.9316239316239316\n",
      "Precision:  0.9533527696793003\n",
      "Recall:  0.9108635097493036\n",
      "Specificity:  0.9668737060041408\n",
      "Sensitivity:  0.9108635097493036\n",
      "True positive:  327\n",
      "False positive:  16\n",
      "True negative:  467\n",
      "False negative:  32\n",
      "-------------\n",
      "Accuracy:  92.87410926365796\n",
      "F1 Score:  0.9085365853658537\n",
      "Precision:  0.9341692789968652\n",
      "Recall:  0.884272997032641\n",
      "Specificity:  0.9584158415841584\n",
      "Sensitivity:  0.884272997032641\n",
      "True positive:  298\n",
      "False positive:  21\n",
      "True negative:  484\n",
      "False negative:  39\n",
      "-------------\n",
      "Accuracy:  95.72446555819477\n",
      "F1 Score:  0.943217665615142\n",
      "Precision:  0.9492063492063492\n",
      "Recall:  0.9373040752351097\n",
      "Specificity:  0.9694072657743786\n",
      "Sensitivity:  0.9373040752351097\n",
      "True positive:  299\n",
      "False positive:  16\n",
      "True negative:  507\n",
      "False negative:  20\n",
      "-------------\n",
      "Accuracy:  93.70546318289786\n",
      "F1 Score:  0.9183359013867489\n",
      "Precision:  0.9341692789968652\n",
      "Recall:  0.9030303030303031\n",
      "Specificity:  0.958984375\n",
      "Sensitivity:  0.9030303030303031\n",
      "True positive:  298\n",
      "False positive:  21\n",
      "True negative:  491\n",
      "False negative:  32\n",
      "-------------\n",
      "Accuracy:  95.84323040380048\n",
      "F1 Score:  0.9472096530920061\n",
      "Precision:  0.9544072948328267\n",
      "Recall:  0.9401197604790419\n",
      "Specificity:  0.9704724409448819\n",
      "Sensitivity:  0.9401197604790419\n",
      "True positive:  314\n",
      "False positive:  15\n",
      "True negative:  493\n",
      "False negative:  20\n",
      "-------------\n"
     ]
    }
   ],
   "source": [
    "X_imbalanced = dataset.drop(\"label_spam\",axis = 1).values\n",
    "y_imbalanced = dataset[\"label_spam\"].values\n",
    "X_train_imbalanced,X_test_imbalanced, y_train_imbalanced, y_test_imbalanced = train_test_split(X_imbalanced,y_imbalanced,test_size = 0.2, random_state = 1)\n",
    "\n",
    "kf = KFold(n_splits=5,random_state = 42, shuffle = True)\n",
    "\n",
    "accuracy_GB_crossVal_imb = []\n",
    "f1_GB_crossVal_imb = []\n",
    "precision_GB_crossVal_imb = []\n",
    "\n",
    "for train_index,test_index in kf.split(X_imbalanced):\n",
    "    X_train_imbalanced,X_test_imbalanced=X_imbalanced[train_index],X_imbalanced[test_index]\n",
    "    y_train_imbalanced,y_test_imbalanced=y_imbalanced[train_index],y_imbalanced[test_index]\n",
    "    \n",
    "    gradient_booster = GradientBoostingClassifier(learning_rate=0.1)\n",
    "    params = gradient_booster.get_params()\n",
    "    \n",
    "    gradient_booster.fit(X_train_imbalanced,y_train_imbalanced)\n",
    "    prediction_imbalanced=gradient_booster.predict(X_test_imbalanced)\n",
    "    \n",
    "    conf_matrix_imbalanced = confusion_matrix(y_true=y_test_imbalanced,y_pred=prediction_imbalanced)\n",
    "    TP_imbalanced = conf_matrix_imbalanced[1,1]\n",
    "    TN_imbalanced = conf_matrix_imbalanced[0,0]\n",
    "    FP_imbalanced = conf_matrix_imbalanced[0,1]\n",
    "    FN_imbalanced = conf_matrix_imbalanced[1,0]\n",
    "    sensitivity_imbalanced = TP_imbalanced/(TP_imbalanced+FN_imbalanced)\n",
    "    specificity_imbalanced = TN_imbalanced/(TN_imbalanced+FP_imbalanced)\n",
    "    accuracy_imbalanced = accuracy_score(y_test_imbalanced,prediction_imbalanced)*100\n",
    "    f1_imbalanced = f1_score(y_test_imbalanced, prediction_imbalanced)\n",
    "    precision_imbalanced = precision_score(y_test_imbalanced, prediction_imbalanced)\n",
    "    recall_imbalanced = recall_score(y_test_imbalanced, prediction_imbalanced)\n",
    "    \n",
    "    accuracy_GB_crossVal_imb.append(accuracy_imbalanced)\n",
    "    f1_GB_crossVal_imb.append(f1_imbalanced)\n",
    "    precision_GB_crossVal_imb.append(precision_imbalanced)\n",
    "    \n",
    "    print(\"Accuracy: \", accuracy_imbalanced)\n",
    "    print(\"F1 Score: \", f1_imbalanced)\n",
    "    print(\"Precision: \", precision_imbalanced)\n",
    "    print(\"Recall: \", recall_imbalanced)\n",
    "    print(\"Specificity: \", specificity_imbalanced)\n",
    "    print(\"Sensitivity: \", sensitivity_imbalanced)\n",
    "    print(\"True positive: \", TP_imbalanced)\n",
    "    print(\"False positive: \", FP_imbalanced)\n",
    "    print(\"True negative: \", TN_imbalanced)\n",
    "    print(\"False negative: \", FN_imbalanced)\n",
    "    print(\"-------------\")"
   ]
  },
  {
   "cell_type": "markdown",
   "metadata": {},
   "source": [
    "### undersampling"
   ]
  },
  {
   "cell_type": "code",
   "execution_count": 222,
   "metadata": {
    "scrolled": true
   },
   "outputs": [
    {
     "name": "stdout",
     "output_type": "stream",
     "text": [
      "Accuracy:  93.15476190476191\n",
      "F1 Score:  0.9253246753246753\n",
      "Precision:  0.946843853820598\n",
      "Recall:  0.9047619047619048\n",
      "Specificity:  0.9551820728291317\n",
      "Sensitivity:  0.9047619047619048\n",
      "True positive:  285\n",
      "False positive:  16\n",
      "True negative:  341\n",
      "False negative:  30\n",
      "-------------\n",
      "Accuracy:  93.15476190476191\n",
      "F1 Score:  0.9313432835820896\n",
      "Precision:  0.9425981873111783\n",
      "Recall:  0.9203539823008849\n",
      "Specificity:  0.9429429429429429\n",
      "Sensitivity:  0.9203539823008849\n",
      "True positive:  312\n",
      "False positive:  19\n",
      "True negative:  314\n",
      "False negative:  27\n",
      "-------------\n",
      "Accuracy:  94.04761904761905\n",
      "F1 Score:  0.9410029498525074\n",
      "Precision:  0.9550898203592815\n",
      "Recall:  0.9273255813953488\n",
      "Specificity:  0.9542682926829268\n",
      "Sensitivity:  0.9273255813953488\n",
      "True positive:  319\n",
      "False positive:  15\n",
      "True negative:  313\n",
      "False negative:  25\n",
      "-------------\n",
      "Accuracy:  92.84649776453055\n",
      "F1 Score:  0.9294117647058824\n",
      "Precision:  0.9349112426035503\n",
      "Recall:  0.9239766081871345\n",
      "Specificity:  0.9331306990881459\n",
      "Sensitivity:  0.9239766081871345\n",
      "True positive:  316\n",
      "False positive:  22\n",
      "True negative:  307\n",
      "False negative:  26\n",
      "-------------\n",
      "Accuracy:  94.93293591654248\n",
      "F1 Score:  0.9498525073746312\n",
      "Precision:  0.9498525073746312\n",
      "Recall:  0.9498525073746312\n",
      "Specificity:  0.9487951807228916\n",
      "Sensitivity:  0.9498525073746312\n",
      "True positive:  322\n",
      "False positive:  17\n",
      "True negative:  315\n",
      "False negative:  17\n",
      "-------------\n"
     ]
    }
   ],
   "source": [
    "#gradient boost\n",
    "X_undersampled = df_undersampled.drop(\"label_spam\",axis = 1).values\n",
    "y_undersampled = df_undersampled[\"label_spam\"].values\n",
    "X_train_undersampled,X_test_undersampled, y_train_undersampled, y_test_undersampled = train_test_split(X_undersampled,y_undersampled,test_size = 0.2, random_state = 1)\n",
    "\n",
    "kf = KFold(n_splits=5,random_state = 42, shuffle = True)\n",
    "\n",
    "accuracy_GB_crossVal_under = []\n",
    "f1_GB_crossVal_under = []\n",
    "precision_GB_crossVal_under = []\n",
    "\n",
    "for train_index,test_index in kf.split(X_undersampled):\n",
    "    X_train_undersampled,X_test_undersampled=X_undersampled[train_index],X_undersampled[test_index]\n",
    "    y_train_undersampled,y_test_undersampled=y_undersampled[train_index],y_undersampled[test_index]\n",
    "    \n",
    "    gradient_booster = GradientBoostingClassifier(learning_rate=0.1)\n",
    "    params = gradient_booster.get_params()\n",
    "    \n",
    "    gradient_booster.fit(X_train_undersampled,y_train_undersampled)\n",
    "    prediction_undersampled=gradient_booster.predict(X_test_undersampled)\n",
    "    \n",
    "    conf_matrix_undersampled = confusion_matrix(y_true=y_test_undersampled,y_pred=prediction_undersampled)\n",
    "    TP_undersampled = conf_matrix_undersampled[1,1]\n",
    "    TN_undersampled = conf_matrix_undersampled[0,0]\n",
    "    FP_undersampled = conf_matrix_undersampled[0,1]\n",
    "    FN_undersampled = conf_matrix_undersampled[1,0]\n",
    "    sensitivity_undersampled = TP_undersampled/(TP_undersampled+FN_undersampled)\n",
    "    specificity_undersampled = TN_undersampled/(TN_undersampled+FP_undersampled)\n",
    "    accuracy_undersampled = accuracy_score(y_test_undersampled,prediction_undersampled)*100\n",
    "    f1_undersampled = f1_score(y_test_undersampled, prediction_undersampled)\n",
    "    precision_undersampled = precision_score(y_test_undersampled, prediction_undersampled)\n",
    "    recall_undersampled = recall_score(y_test_undersampled, prediction_undersampled)\n",
    "    \n",
    "    accuracy_GB_crossVal_under.append(accuracy_undersampled)\n",
    "    f1_GB_crossVal_under.append(f1_undersampled)\n",
    "    precision_GB_crossVal_under.append(precision_undersampled)\n",
    "    \n",
    "    print(\"Accuracy: \", accuracy_undersampled)\n",
    "    print(\"F1 Score: \", f1_undersampled)\n",
    "    print(\"Precision: \", precision_undersampled)\n",
    "    print(\"Recall: \", recall_undersampled)\n",
    "    print(\"Specificity: \", specificity_undersampled)\n",
    "    print(\"Sensitivity: \", sensitivity_undersampled)\n",
    "    print(\"True positive: \", TP_undersampled)\n",
    "    print(\"False positive: \", FP_undersampled)\n",
    "    print(\"True negative: \", TN_undersampled)\n",
    "    print(\"False negative: \", FN_undersampled)\n",
    "    print(\"-------------\")\n"
   ]
  },
  {
   "cell_type": "markdown",
   "metadata": {},
   "source": [
    "### upsampling"
   ]
  },
  {
   "cell_type": "code",
   "execution_count": 223,
   "metadata": {},
   "outputs": [
    {
     "name": "stdout",
     "output_type": "stream",
     "text": [
      "Accuracy:  95.26159921026654\n",
      "F1 Score:  0.9506172839506172\n",
      "Precision:  0.9565217391304348\n",
      "Recall:  0.9447852760736196\n",
      "Specificity:  0.9599236641221374\n",
      "Sensitivity:  0.9447852760736196\n",
      "True positive:  462\n",
      "False positive:  21\n",
      "True negative:  503\n",
      "False negative:  27\n",
      "-------------\n",
      "Accuracy:  94.1757156959526\n",
      "F1 Score:  0.9404641775983854\n",
      "Precision:  0.932\n",
      "Recall:  0.9490835030549898\n",
      "Specificity:  0.9348659003831418\n",
      "Sensitivity:  0.9490835030549898\n",
      "True positive:  466\n",
      "False positive:  34\n",
      "True negative:  488\n",
      "False negative:  25\n",
      "-------------\n",
      "Accuracy:  95.25691699604744\n",
      "F1 Score:  0.9535783365570599\n",
      "Precision:  0.962890625\n",
      "Recall:  0.9444444444444444\n",
      "Specificity:  0.9612244897959183\n",
      "Sensitivity:  0.9444444444444444\n",
      "True positive:  493\n",
      "False positive:  19\n",
      "True negative:  471\n",
      "False negative:  29\n",
      "-------------\n",
      "Accuracy:  95.55335968379447\n",
      "F1 Score:  0.9544994944388271\n",
      "Precision:  0.9516129032258065\n",
      "Recall:  0.9574036511156186\n",
      "Specificity:  0.953757225433526\n",
      "Sensitivity:  0.9574036511156186\n",
      "True positive:  472\n",
      "False positive:  24\n",
      "True negative:  495\n",
      "False negative:  21\n",
      "-------------\n",
      "Accuracy:  94.56521739130434\n",
      "F1 Score:  0.9485500467726848\n",
      "Precision:  0.9512195121951219\n",
      "Recall:  0.9458955223880597\n",
      "Specificity:  0.9453781512605042\n",
      "Sensitivity:  0.9458955223880597\n",
      "True positive:  507\n",
      "False positive:  26\n",
      "True negative:  450\n",
      "False negative:  29\n",
      "-------------\n"
     ]
    }
   ],
   "source": [
    "X_upsampled = df_upsampled.drop(\"label_spam\",axis = 1).values\n",
    "y_upsampled = df_upsampled[\"label_spam\"].values\n",
    "X_train_upsampled,X_test_upsampled, y_train_upsampled, y_test_upsampled = train_test_split(X_upsampled,y_upsampled,test_size = 0.2, random_state = 1)\n",
    "\n",
    "kf = KFold(n_splits=5,random_state = 42, shuffle = True)\n",
    "\n",
    "accuracy_GB_crossVal_up = []\n",
    "f1_GB_crossVal_up = []\n",
    "precision_GB_crossVal_up = []\n",
    "\n",
    "for train_index,test_index in kf.split(X_upsampled):\n",
    "    X_train_upsampled,X_test_upsampled=X_upsampled[train_index],X_upsampled[test_index]\n",
    "    y_train_upsampled,y_test_upsampled=y_upsampled[train_index],y_upsampled[test_index]\n",
    "    \n",
    "    gradient_booster = GradientBoostingClassifier(learning_rate=0.1)\n",
    "    params = gradient_booster.get_params()\n",
    "    \n",
    "    gradient_booster.fit(X_train_upsampled,y_train_upsampled)\n",
    "    prediction_upsampled=gradient_booster.predict(X_test_upsampled)\n",
    "    \n",
    "    conf_matrix_upsampled = confusion_matrix(y_true=y_test_upsampled,y_pred=prediction_upsampled)\n",
    "    TP_upsampled = conf_matrix_upsampled[1,1]\n",
    "    TN_upsampled = conf_matrix_upsampled[0,0]\n",
    "    FP_upsampled = conf_matrix_upsampled[0,1]\n",
    "    FN_upsampled = conf_matrix_upsampled[1,0]\n",
    "    sensitivity_upsampled = TP_upsampled/(TP_upsampled+FN_upsampled)\n",
    "    specificity_upsampled = TN_upsampled/(TN_upsampled+FP_upsampled)\n",
    "    accuracy_upsampled = accuracy_score(y_test_upsampled,prediction_upsampled)*100\n",
    "    f1_upsampled = f1_score(y_test_upsampled, prediction_upsampled)\n",
    "    precision_upsampled = precision_score(y_test_upsampled, prediction_upsampled)\n",
    "    recall_upsampled = recall_score(y_test_upsampled, prediction_upsampled)\n",
    "    \n",
    "    accuracy_GB_crossVal_up.append(accuracy_upsampled)\n",
    "    f1_GB_crossVal_up.append(f1_upsampled)\n",
    "    precision_GB_crossVal_up.append(precision_upsampled)\n",
    "    \n",
    "    print(\"Accuracy: \", accuracy_upsampled)\n",
    "    print(\"F1 Score: \", f1_upsampled)\n",
    "    print(\"Precision: \", precision_upsampled)\n",
    "    print(\"Recall: \", recall_upsampled)\n",
    "    print(\"Specificity: \", specificity_upsampled)\n",
    "    print(\"Sensitivity: \", sensitivity_upsampled)\n",
    "    print(\"True positive: \", TP_upsampled)\n",
    "    print(\"False positive: \", FP_upsampled)\n",
    "    print(\"True negative: \", TN_upsampled)\n",
    "    print(\"False negative: \", FN_upsampled)\n",
    "    print(\"-------------\")"
   ]
  },
  {
   "cell_type": "markdown",
   "metadata": {},
   "source": [
    "### GRADIENT BOOST sa cross validacijom (prikaz rezultata)"
   ]
  },
  {
   "cell_type": "code",
   "execution_count": 224,
   "metadata": {},
   "outputs": [
    {
     "data": {
      "image/png": "[encoded data removed]",
      "text/plain": [
       "<Figure size 936x360 with 3 Axes>"
      ]
     },
     "metadata": {
      "needs_background": "light"
     },
     "output_type": "display_data"
    }
   ],
   "source": [
    "plt.figure(figsize=(13, 5))\n",
    "plt.subplot(131)\n",
    "plt.ylim(90,97)\n",
    "plt.bar(['acc_1', 'acc_2', 'acc_3', 'acc_4', 'acc_5'], [accuracy_GB_crossVal_imb[0], accuracy_GB_crossVal_imb[1], accuracy_GB_crossVal_imb[2],accuracy_GB_crossVal_imb[3],accuracy_GB_crossVal_imb[4]])\n",
    "plt.subplot(132)\n",
    "plt.ylim(0.85,0.97)\n",
    "plt.bar(['f1_1', 'f1_2','f1_3','f1_4','f1_5'], [f1_GB_crossVal_imb[0],f1_GB_crossVal_imb[1],f1_GB_crossVal_imb[2],f1_GB_crossVal_imb[3],f1_GB_crossVal_imb[4]])\n",
    "plt.subplot(133)\n",
    "plt.ylim(0.9,0.97)\n",
    "plt.bar(['prec_1', 'prec_2', 'prec_3','prec_4','prec_5'], [precision_GB_crossVal_imb[0], precision_GB_crossVal_imb[1], precision_GB_crossVal_imb[2],precision_GB_crossVal_imb[3],precision_GB_crossVal_imb[4]])\n",
    "plt.suptitle('Measurement comparison GRADIENT BOOST with CROSS VALIDATION IMBALANCED')\n",
    "plt.show()"
   ]
  },
  {
   "cell_type": "code",
   "execution_count": 225,
   "metadata": {},
   "outputs": [
    {
     "data": {
      "image/png": "[encoded data removed]",
      "text/plain": [
       "<Figure size 936x360 with 3 Axes>"
      ]
     },
     "metadata": {
      "needs_background": "light"
     },
     "output_type": "display_data"
    }
   ],
   "source": [
    "plt.figure(figsize=(13, 5))\n",
    "plt.subplot(131)\n",
    "plt.ylim(90,97)\n",
    "plt.bar(['acc_1', 'acc_2', 'acc_3', 'acc_4', 'acc_5'], [accuracy_GB_crossVal_under[0], accuracy_GB_crossVal_under[1], accuracy_GB_crossVal_under[2],accuracy_GB_crossVal_under[3],accuracy_GB_crossVal_under[4]])\n",
    "plt.subplot(132)\n",
    "plt.ylim(0.85,0.97)\n",
    "plt.bar(['f1_1', 'f1_2','f1_3','f1_4','f1_5'], [f1_GB_crossVal_under[0],f1_GB_crossVal_under[1],f1_GB_crossVal_under[2],f1_GB_crossVal_under[3],f1_GB_crossVal_under[4]])\n",
    "plt.subplot(133)\n",
    "plt.ylim(0.9,0.97)\n",
    "plt.bar(['prec_1', 'prec_2', 'prec_3','prec_4','prec_5'], [precision_GB_crossVal_under[0], precision_GB_crossVal_under[1], precision_GB_crossVal_under[2],precision_GB_crossVal_under[3],precision_GB_crossVal_under[4]])\n",
    "plt.suptitle('Measurement comparison GRADIENT BOOST with CROSS VALIDATION UNDERSAMPLING')\n",
    "plt.show()"
   ]
  },
  {
   "cell_type": "code",
   "execution_count": 226,
   "metadata": {},
   "outputs": [
    {
     "data": {
      "image/png": "[encoded data removed]",
      "text/plain": [
       "<Figure size 936x360 with 3 Axes>"
      ]
     },
     "metadata": {
      "needs_background": "light"
     },
     "output_type": "display_data"
    }
   ],
   "source": [
    "plt.figure(figsize=(13, 5))\n",
    "plt.subplot(131)\n",
    "plt.ylim(90,97)\n",
    "plt.bar(['acc_1', 'acc_2', 'acc_3', 'acc_4', 'acc_5'], [accuracy_GB_crossVal_up[0], accuracy_GB_crossVal_up[1], accuracy_GB_crossVal_up[2],accuracy_GB_crossVal_up[3],accuracy_GB_crossVal_up[4]])\n",
    "plt.subplot(132)\n",
    "plt.ylim(0.85,0.97)\n",
    "plt.bar(['f1_1', 'f1_2','f1_3','f1_4','f1_5'], [f1_GB_crossVal_up[0],f1_GB_crossVal_up[1],f1_GB_crossVal_up[2],f1_GB_crossVal_up[3],f1_GB_crossVal_up[4]])\n",
    "plt.subplot(133)\n",
    "plt.ylim(0.9,0.97)\n",
    "plt.bar(['prec_1', 'prec_2', 'prec_3','prec_4','prec_5'], [precision_GB_crossVal_up[0], precision_GB_crossVal_up[1], precision_GB_crossVal_up[2],precision_GB_crossVal_up[3],precision_GB_crossVal_up[4]])\n",
    "plt.suptitle('Measurement comparison GRADIENT BOOST with CROSS VALIDATION UPSAMPLING')\n",
    "plt.show()"
   ]
  },
  {
   "cell_type": "markdown",
   "metadata": {},
   "source": [
    "## Repeated KFold"
   ]
  },
  {
   "cell_type": "markdown",
   "metadata": {},
   "source": [
    "### bez balansiranja"
   ]
  },
  {
   "cell_type": "code",
   "execution_count": 227,
   "metadata": {},
   "outputs": [
    {
     "name": "stdout",
     "output_type": "stream",
     "text": [
      "Accuracy:  91.0688836104513\n",
      "F1 Score:  0.8882282996432818\n",
      "Precision:  0.9032648125755743\n",
      "Recall:  0.8736842105263158\n",
      "Specificity:  0.936\n",
      "Sensitivity:  0.8736842105263158\n",
      "True positive:  747\n",
      "False positive:  80\n",
      "True negative:  1170\n",
      "False negative:  108\n",
      "-------------\n",
      "Accuracy:  93.0166270783848\n",
      "F1 Score:  0.9100917431192661\n",
      "Precision:  0.9173859432799013\n",
      "Recall:  0.9029126213592233\n",
      "Specificity:  0.9476971116315379\n",
      "Sensitivity:  0.9029126213592233\n",
      "True positive:  744\n",
      "False positive:  67\n",
      "True negative:  1214\n",
      "False negative:  80\n",
      "-------------\n",
      "Accuracy:  92.7790973871734\n",
      "F1 Score:  0.9060568603213844\n",
      "Precision:  0.9255050505050505\n",
      "Recall:  0.887409200968523\n",
      "Specificity:  0.9538702111024238\n",
      "Sensitivity:  0.887409200968523\n",
      "True positive:  733\n",
      "False positive:  59\n",
      "True negative:  1220\n",
      "False negative:  93\n",
      "-------------\n",
      "Accuracy:  91.73396674584323\n",
      "F1 Score:  0.8964285714285715\n",
      "Precision:  0.9105199516324063\n",
      "Recall:  0.8827667057444314\n",
      "Specificity:  0.9408945686900958\n",
      "Sensitivity:  0.8827667057444314\n",
      "True positive:  753\n",
      "False positive:  74\n",
      "True negative:  1178\n",
      "False negative:  100\n",
      "-------------\n"
     ]
    }
   ],
   "source": [
    "X_imbalanced = dataset.drop(\"label_spam\",axis = 1).values\n",
    "y_imbalanced = dataset[\"label_spam\"].values\n",
    "X_train_imbalanced,X_test_imbalanced, y_train_imbalanced, y_test_imbalanced = train_test_split(X_imbalanced,y_imbalanced,test_size = 0.2, random_state = 1)\n",
    "\n",
    "kf = RepeatedKFold(n_splits=2, n_repeats=2, random_state=1)\n",
    "\n",
    "accuracy_GB_crossVal_imb = []\n",
    "f1_GB_crossVal_imb = []\n",
    "precision_GB_crossVal_imb = []\n",
    "\n",
    "for train_index,test_index in kf.split(X_imbalanced):\n",
    "    X_train_imbalanced,X_test_imbalanced=X_imbalanced[train_index],X_imbalanced[test_index]\n",
    "    y_train_imbalanced,y_test_imbalanced=y_imbalanced[train_index],y_imbalanced[test_index]\n",
    "    \n",
    "    logistic_regression_model_imbalanced = LogisticRegression(max_iter = 3000)\n",
    "    logistic_regression_model_imbalanced.fit(X_train_imbalanced,y_train_imbalanced)\n",
    "    prediction_imbalanced = logistic_regression_model_imbalanced.predict(X_test_imbalanced)\n",
    "    \n",
    "    conf_matrix_imbalanced = confusion_matrix(y_true=y_test_imbalanced,y_pred=prediction_imbalanced)\n",
    "    TP_imbalanced = conf_matrix_imbalanced[1,1]\n",
    "    TN_imbalanced = conf_matrix_imbalanced[0,0]\n",
    "    FP_imbalanced = conf_matrix_imbalanced[0,1]\n",
    "    FN_imbalanced = conf_matrix_imbalanced[1,0]\n",
    "    sensitivity_imbalanced = TP_imbalanced/(TP_imbalanced+FN_imbalanced)\n",
    "    specificity_imbalanced = TN_imbalanced/(TN_imbalanced+FP_imbalanced)\n",
    "    accuracy_imbalanced = accuracy_score(y_test_imbalanced,prediction_imbalanced)*100\n",
    "    f1_imbalanced = f1_score(y_test_imbalanced, prediction_imbalanced)\n",
    "    precision_imbalanced = precision_score(y_test_imbalanced, prediction_imbalanced)\n",
    "    recall_imbalanced = recall_score(y_test_imbalanced, prediction_imbalanced)\n",
    "    \n",
    "    accuracy_GB_crossVal_imb.append(accuracy_imbalanced)\n",
    "    f1_GB_crossVal_imb.append(f1_imbalanced)\n",
    "    precision_GB_crossVal_imb.append(precision_imbalanced)\n",
    "    \n",
    "    print(\"Accuracy: \", accuracy_imbalanced)\n",
    "    print(\"F1 Score: \", f1_imbalanced)\n",
    "    print(\"Precision: \", precision_imbalanced)\n",
    "    print(\"Recall: \", recall_imbalanced)\n",
    "    print(\"Specificity: \", specificity_imbalanced)\n",
    "    print(\"Sensitivity: \", sensitivity_imbalanced)\n",
    "    print(\"True positive: \", TP_imbalanced)\n",
    "    print(\"False positive: \", FP_imbalanced)\n",
    "    print(\"True negative: \", TN_imbalanced)\n",
    "    print(\"False negative: \", FN_imbalanced)\n",
    "    print(\"-------------\")"
   ]
  },
  {
   "cell_type": "markdown",
   "metadata": {},
   "source": [
    "### undersampling"
   ]
  },
  {
   "cell_type": "code",
   "execution_count": 228,
   "metadata": {},
   "outputs": [
    {
     "name": "stdout",
     "output_type": "stream",
     "text": [
      "Accuracy:  92.13817748659918\n",
      "F1 Score:  0.9200968523002421\n",
      "Precision:  0.9212121212121213\n",
      "Recall:  0.9189842805320435\n",
      "Specificity:  0.9237089201877934\n",
      "Sensitivity:  0.9189842805320435\n",
      "True positive:  760\n",
      "False positive:  65\n",
      "True negative:  787\n",
      "False negative:  67\n",
      "-------------\n",
      "Accuracy:  92.01905896366885\n",
      "F1 Score:  0.9203329369797859\n",
      "Precision:  0.9325301204819277\n",
      "Recall:  0.9084507042253521\n",
      "Specificity:  0.932285368802902\n",
      "Sensitivity:  0.9084507042253521\n",
      "True positive:  774\n",
      "False positive:  56\n",
      "True negative:  771\n",
      "False negative:  78\n",
      "-------------\n",
      "Accuracy:  92.31685527099464\n",
      "F1 Score:  0.9248689574839837\n",
      "Precision:  0.927570093457944\n",
      "Recall:  0.9221835075493612\n",
      "Specificity:  0.9242053789731052\n",
      "Sensitivity:  0.9221835075493612\n",
      "True positive:  794\n",
      "False positive:  62\n",
      "True negative:  756\n",
      "False negative:  67\n",
      "-------------\n",
      "Accuracy:  91.42346634901727\n",
      "F1 Score:  0.9110012360939431\n",
      "Precision:  0.92125\n",
      "Recall:  0.9009779951100244\n",
      "Specificity:  0.926829268292683\n",
      "Sensitivity:  0.9009779951100244\n",
      "True positive:  737\n",
      "False positive:  63\n",
      "True negative:  798\n",
      "False negative:  81\n",
      "-------------\n"
     ]
    }
   ],
   "source": [
    "X_undersampled = df_undersampled.drop(\"label_spam\",axis = 1).values\n",
    "y_undersampled = df_undersampled[\"label_spam\"].values\n",
    "X_train_undersampled,X_test_undersampled, y_train_undersampled, y_test_undersampled = train_test_split(X_undersampled,y_undersampled,test_size = 0.2, random_state = 1)\n",
    "\n",
    "kf = RepeatedKFold(n_splits=2, n_repeats=2, random_state=1)\n",
    "\n",
    "accuracy_GB_crossVal_under = []\n",
    "f1_GB_crossVal_under = []\n",
    "precision_GB_crossVal_under = []\n",
    "\n",
    "for train_index,test_index in kf.split(X_undersampled):\n",
    "    X_train_undersampled,X_test_undersampled=X_undersampled[train_index],X_undersampled[test_index]\n",
    "    y_train_undersampled,y_test_undersampled=y_undersampled[train_index],y_undersampled[test_index]\n",
    "    \n",
    "    logistic_regression_model_undersampled = LogisticRegression(max_iter = 3000)\n",
    "    logistic_regression_model_undersampled.fit(X_train_undersampled,y_train_undersampled)\n",
    "    prediction_undersampled = logistic_regression_model_undersampled.predict(X_test_undersampled)\n",
    "    \n",
    "    conf_matrix_undersampled = confusion_matrix(y_true=y_test_undersampled,y_pred=prediction_undersampled)\n",
    "    TP_undersampled = conf_matrix_undersampled[1,1]\n",
    "    TN_undersampled = conf_matrix_undersampled[0,0]\n",
    "    FP_undersampled = conf_matrix_undersampled[0,1]\n",
    "    FN_undersampled = conf_matrix_undersampled[1,0]\n",
    "    sensitivity_undersampled = TP_undersampled/(TP_undersampled+FN_undersampled)\n",
    "    specificity_undersampled = TN_undersampled/(TN_undersampled+FP_undersampled)\n",
    "    accuracy_undersampled = accuracy_score(y_test_undersampled,prediction_undersampled)*100\n",
    "    f1_undersampled = f1_score(y_test_undersampled, prediction_undersampled)\n",
    "    precision_undersampled = precision_score(y_test_undersampled, prediction_undersampled)\n",
    "    recall_undersampled = recall_score(y_test_undersampled, prediction_undersampled)\n",
    "    \n",
    "    accuracy_GB_crossVal_under.append(accuracy_undersampled)\n",
    "    f1_GB_crossVal_under.append(f1_undersampled)\n",
    "    precision_GB_crossVal_under.append(precision_undersampled)\n",
    "    \n",
    "    print(\"Accuracy: \", accuracy_undersampled)\n",
    "    print(\"F1 Score: \", f1_undersampled)\n",
    "    print(\"Precision: \", precision_undersampled)\n",
    "    print(\"Recall: \", recall_undersampled)\n",
    "    print(\"Specificity: \", specificity_undersampled)\n",
    "    print(\"Sensitivity: \", sensitivity_undersampled)\n",
    "    print(\"True positive: \", TP_undersampled)\n",
    "    print(\"False positive: \", FP_undersampled)\n",
    "    print(\"True negative: \", TN_undersampled)\n",
    "    print(\"False negative: \", FN_undersampled)\n",
    "    print(\"-------------\")"
   ]
  },
  {
   "cell_type": "markdown",
   "metadata": {},
   "source": [
    "### upsampling"
   ]
  },
  {
   "cell_type": "code",
   "execution_count": 229,
   "metadata": {},
   "outputs": [
    {
     "name": "stdout",
     "output_type": "stream",
     "text": [
      "Accuracy:  92.84867641248519\n",
      "F1 Score:  0.9276867758689572\n",
      "Precision:  0.9265762170790104\n",
      "Recall:  0.9288\n",
      "Specificity:  0.9281811085089774\n",
      "Sensitivity:  0.9288\n",
      "True positive:  1161\n",
      "False positive:  92\n",
      "True negative:  1189\n",
      "False negative:  89\n",
      "-------------\n",
      "Accuracy:  92.61161596207033\n",
      "F1 Score:  0.9262908947575877\n",
      "Precision:  0.9355095541401274\n",
      "Recall:  0.9172521467603435\n",
      "Specificity:  0.9352\n",
      "Sensitivity:  0.9172521467603435\n",
      "True positive:  1175\n",
      "False positive:  81\n",
      "True negative:  1169\n",
      "False negative:  106\n",
      "-------------\n",
      "Accuracy:  92.80916633741604\n",
      "F1 Score:  0.9278922345483361\n",
      "Precision:  0.9264240506329114\n",
      "Recall:  0.9293650793650794\n",
      "Specificity:  0.926829268292683\n",
      "Sensitivity:  0.9293650793650794\n",
      "True positive:  1171\n",
      "False positive:  93\n",
      "True negative:  1178\n",
      "False negative:  89\n",
      "-------------\n",
      "Accuracy:  92.41406558672462\n",
      "F1 Score:  0.9243498817966902\n",
      "Precision:  0.925808997632202\n",
      "Recall:  0.9228953579858379\n",
      "Specificity:  0.9253968253968254\n",
      "Sensitivity:  0.9228953579858379\n",
      "True positive:  1173\n",
      "False positive:  94\n",
      "True negative:  1166\n",
      "False negative:  98\n",
      "-------------\n"
     ]
    }
   ],
   "source": [
    "X_upsampled = df_upsampled.drop(\"label_spam\",axis = 1).values\n",
    "y_upsampled = df_upsampled[\"label_spam\"].values\n",
    "X_train_upsampled,X_test_upsampled, y_train_upsampled, y_test_upsampled = train_test_split(X_upsampled,y_upsampled,test_size = 0.2, random_state = 1)\n",
    "\n",
    "kf = RepeatedKFold(n_splits=2, n_repeats=2, random_state=1)\n",
    "\n",
    "accuracy_GB_crossVal_up = []\n",
    "f1_GB_crossVal_up = []\n",
    "precision_GB_crossVal_up = []\n",
    "\n",
    "for train_index,test_index in kf.split(X_upsampled):\n",
    "    X_train_upsampled,X_test_upsampled=X_upsampled[train_index],X_upsampled[test_index]\n",
    "    y_train_upsampled,y_test_upsampled=y_upsampled[train_index],y_upsampled[test_index]\n",
    "    \n",
    "    logistic_regression_model_upsampled = LogisticRegression(max_iter = 3000)\n",
    "    logistic_regression_model_upsampled.fit(X_train_upsampled,y_train_upsampled)\n",
    "    prediction_upsampled = logistic_regression_model_upsampled.predict(X_test_upsampled)\n",
    "    \n",
    "    conf_matrix_upsampled = confusion_matrix(y_true=y_test_upsampled,y_pred=prediction_upsampled)\n",
    "    TP_upsampled = conf_matrix_upsampled[1,1]\n",
    "    TN_upsampled = conf_matrix_upsampled[0,0]\n",
    "    FP_upsampled = conf_matrix_upsampled[0,1]\n",
    "    FN_upsampled = conf_matrix_upsampled[1,0]\n",
    "    sensitivity_upsampled = TP_upsampled/(TP_upsampled+FN_upsampled)\n",
    "    specificity_upsampled = TN_upsampled/(TN_upsampled+FP_upsampled)\n",
    "    accuracy_upsampled = accuracy_score(y_test_upsampled,prediction_upsampled)*100\n",
    "    f1_upsampled = f1_score(y_test_upsampled, prediction_upsampled)\n",
    "    precision_upsampled = precision_score(y_test_upsampled, prediction_upsampled)\n",
    "    recall_upsampled = recall_score(y_test_upsampled, prediction_upsampled)\n",
    "    \n",
    "    accuracy_GB_crossVal_up.append(accuracy_upsampled)\n",
    "    f1_GB_crossVal_up.append(f1_upsampled)\n",
    "    precision_GB_crossVal_up.append(precision_upsampled)\n",
    "    \n",
    "    print(\"Accuracy: \", accuracy_upsampled)\n",
    "    print(\"F1 Score: \", f1_upsampled)\n",
    "    print(\"Precision: \", precision_upsampled)\n",
    "    print(\"Recall: \", recall_upsampled)\n",
    "    print(\"Specificity: \", specificity_upsampled)\n",
    "    print(\"Sensitivity: \", sensitivity_upsampled)\n",
    "    print(\"True positive: \", TP_upsampled)\n",
    "    print(\"False positive: \", FP_upsampled)\n",
    "    print(\"True negative: \", TN_upsampled)\n",
    "    print(\"False negative: \", FN_upsampled)\n",
    "    print(\"-------------\")"
   ]
  },
  {
   "cell_type": "markdown",
   "metadata": {},
   "source": [
    "### GRADIENT BOOST sa repeated KFOLD (prikaz rezultata)"
   ]
  },
  {
   "cell_type": "code",
   "execution_count": 230,
   "metadata": {},
   "outputs": [
    {
     "data": {
      "image/png": "[encoded data removed]",
      "text/plain": [
       "<Figure size 936x288 with 3 Axes>"
      ]
     },
     "metadata": {
      "needs_background": "light"
     },
     "output_type": "display_data"
    }
   ],
   "source": [
    "plt.figure(figsize=(13, 4))\n",
    "plt.subplot(131)\n",
    "plt.ylim(90,95)\n",
    "plt.bar(['acc_1', 'acc_2', 'acc_3', 'acc_4'], [accuracy_GB_crossVal_imb[0], accuracy_GB_crossVal_imb[1], accuracy_GB_crossVal_imb[2],accuracy_GB_crossVal_imb[3]])\n",
    "plt.subplot(132)\n",
    "plt.ylim(0.85,0.95)\n",
    "plt.bar(['f1_1', 'f1_2','f1_3','f1_4'], [f1_GB_crossVal_imb[0],f1_GB_crossVal_imb[1],f1_GB_crossVal_imb[2],f1_GB_crossVal_imb[3]])\n",
    "plt.subplot(133)\n",
    "plt.ylim(0.9,0.95)\n",
    "plt.bar(['prec_1', 'prec_2', 'prec_3','prec_4'], [precision_GB_crossVal_imb[0], precision_GB_crossVal_imb[1], precision_GB_crossVal_imb[2],precision_GB_crossVal_imb[3]])\n",
    "plt.suptitle('Measurement comparison GRADIENT BOOST with REPEATED K FOLD IMBALANCED')\n",
    "plt.show()"
   ]
  },
  {
   "cell_type": "code",
   "execution_count": 231,
   "metadata": {},
   "outputs": [
    {
     "data": {
      "image/png": "[encoded data removed]",
      "text/plain": [
       "<Figure size 936x288 with 3 Axes>"
      ]
     },
     "metadata": {
      "needs_background": "light"
     },
     "output_type": "display_data"
    }
   ],
   "source": [
    "plt.figure(figsize=(13, 4))\n",
    "plt.subplot(131)\n",
    "plt.ylim(90,95)\n",
    "plt.bar(['acc_1', 'acc_2', 'acc_3', 'acc_4'], [accuracy_GB_crossVal_under[0], accuracy_GB_crossVal_under[1], accuracy_GB_crossVal_under[2],accuracy_GB_crossVal_under[3]])\n",
    "plt.subplot(132)\n",
    "plt.ylim(0.85,0.95)\n",
    "plt.bar(['f1_1', 'f1_2','f1_3','f1_4'], [f1_GB_crossVal_under[0],f1_GB_crossVal_under[1],f1_GB_crossVal_under[2],f1_GB_crossVal_under[3]])\n",
    "plt.subplot(133)\n",
    "plt.ylim(0.9,0.95)\n",
    "plt.bar(['prec_1', 'prec_2', 'prec_3','prec_4'], [precision_GB_crossVal_under[0], precision_GB_crossVal_under[1], precision_GB_crossVal_under[2],precision_GB_crossVal_under[3]])\n",
    "plt.suptitle('Measurement comparison GRADIENT BOOST with REPEATED K FOLD UNDERSAMPLING')\n",
    "plt.show()"
   ]
  },
  {
   "cell_type": "code",
   "execution_count": 232,
   "metadata": {},
   "outputs": [
    {
     "data": {
      "image/png": "[encoded data removed]",
      "text/plain": [
       "<Figure size 936x288 with 3 Axes>"
      ]
     },
     "metadata": {
      "needs_background": "light"
     },
     "output_type": "display_data"
    }
   ],
   "source": [
    "plt.figure(figsize=(13, 4))\n",
    "plt.subplot(131)\n",
    "plt.ylim(90,95)\n",
    "plt.bar(['acc_1', 'acc_2', 'acc_3', 'acc_4'], [accuracy_GB_crossVal_up[0], accuracy_GB_crossVal_up[1], accuracy_GB_crossVal_up[2],accuracy_GB_crossVal_up[3]])\n",
    "plt.subplot(132)\n",
    "plt.ylim(0.85,0.95)\n",
    "plt.bar(['f1_1', 'f1_2','f1_3','f1_4'], [f1_GB_crossVal_up[0],f1_GB_crossVal_up[1],f1_GB_crossVal_up[2],f1_GB_crossVal_up[3]])\n",
    "plt.subplot(133)\n",
    "plt.ylim(0.9,0.95)\n",
    "plt.bar(['prec_1', 'prec_2', 'prec_3','prec_4'], [precision_GB_crossVal_up[0], precision_GB_crossVal_up[1], precision_GB_crossVal_up[2],precision_GB_crossVal_up[3]])\n",
    "plt.suptitle('Measurement comparison GRADIENT BOOST with REPEATED K FOLD UPSAMPLING')\n",
    "plt.show()"
   ]
  },
  {
   "cell_type": "markdown",
   "metadata": {},
   "source": [
    "### NAIVE BAYES"
   ]
  },
  {
   "cell_type": "code",
   "execution_count": 233,
   "metadata": {},
   "outputs": [],
   "source": [
    "#NaiveBayes\n",
    "X_upsampled = df_upsampled.drop(\"label_spam\",axis = 1).values\n",
    "y_upsampled = df_upsampled[\"label_spam\"].values\n",
    "X_train_upsampled,X_test_upsampled, y_train_upsampled, y_test_upsampled = train_test_split(X_upsampled,y_upsampled,test_size = 0.2, random_state = 1)"
   ]
  },
  {
   "cell_type": "code",
   "execution_count": 234,
   "metadata": {},
   "outputs": [],
   "source": [
    "model = MultinomialNB()\n",
    "model.fit(X_train_upsampled,y_train_upsampled)\n",
    "prediction_upsampled = model.predict(X_test_upsampled)"
   ]
  },
  {
   "cell_type": "code",
   "execution_count": 235,
   "metadata": {},
   "outputs": [],
   "source": [
    "conf_matrix_upsampled = confusion_matrix(y_true=y_test_upsampled,y_pred=prediction_upsampled)\n",
    "TP_upsampled = conf_matrix_upsampled[1,1]\n",
    "TN_upsampled = conf_matrix_upsampled[0,0]\n",
    "FP_upsampled = conf_matrix_upsampled[0,1]\n",
    "FN_upsampled = conf_matrix_upsampled[1,0]\n",
    "sensitivity_upsampled = TP_upsampled/(TP_upsampled+FN_upsampled)\n",
    "specificity_upsampled = TN_upsampled/(TN_upsampled+FP_upsampled)\n",
    "accuracy_upsampled_NB = accuracy_score(y_test_upsampled,prediction_upsampled)*100\n",
    "f1_upsampled_NB = f1_score(y_test_upsampled, prediction_upsampled)\n",
    "precision_upsampled_NB = precision_score(y_test_upsampled, prediction_upsampled)\n",
    "recall_upsampled = recall_score(y_test_upsampled, prediction_upsampled)"
   ]
  },
  {
   "cell_type": "code",
   "execution_count": 236,
   "metadata": {},
   "outputs": [
    {
     "name": "stdout",
     "output_type": "stream",
     "text": [
      "Accuracy:  81.93484698914116\n",
      "F1 Score:  0.8067581837381204\n",
      "Precision:  0.8432671081677704\n",
      "Recall:  0.7732793522267206\n",
      "Specificity:  0.8631984585741811\n",
      "Sensitivity:  0.7732793522267206\n",
      "True positive:  382\n",
      "False positive:  71\n",
      "True negative:  448\n",
      "False negative:  112\n"
     ]
    }
   ],
   "source": [
    "print(\"Accuracy: \", accuracy_upsampled_NB)\n",
    "print(\"F1 Score: \", f1_upsampled_NB)\n",
    "print(\"Precision: \", precision_upsampled_NB)\n",
    "print(\"Recall: \", recall_upsampled)\n",
    "print(\"Specificity: \", specificity_upsampled)\n",
    "print(\"Sensitivity: \", sensitivity_upsampled)\n",
    "print(\"True positive: \", TP_upsampled)\n",
    "print(\"False positive: \", FP_upsampled)\n",
    "print(\"True negative: \", TN_upsampled)\n",
    "print(\"False negative: \", FN_upsampled)"
   ]
  },
  {
   "cell_type": "markdown",
   "metadata": {},
   "source": [
    "### RANDOM FOREST"
   ]
  },
  {
   "cell_type": "code",
   "execution_count": 237,
   "metadata": {},
   "outputs": [],
   "source": [
    "X_upsampled = df_upsampled.drop(\"label_spam\",axis = 1).values\n",
    "y_upsampled = df_upsampled[\"label_spam\"].values\n",
    "X_train_upsampled,X_test_upsampled, y_train_upsampled, y_test_upsampled = train_test_split(X_upsampled,y_upsampled,test_size = 0.2, random_state = 1)"
   ]
  },
  {
   "cell_type": "code",
   "execution_count": 238,
   "metadata": {},
   "outputs": [],
   "source": [
    "#random forest\n",
    "random_forest = RandomForestClassifier(max_depth=25, random_state=0)\n",
    "random_forest.fit(X_train_upsampled,y_train_upsampled)\n",
    "prediction_upsampled = random_forest.predict(X_test_upsampled)"
   ]
  },
  {
   "cell_type": "code",
   "execution_count": 239,
   "metadata": {},
   "outputs": [],
   "source": [
    "conf_matrix_upsampled = confusion_matrix(y_true=y_test_upsampled,y_pred=prediction_upsampled)\n",
    "TP_upsampled = conf_matrix_upsampled[1,1]\n",
    "TN_upsampled = conf_matrix_upsampled[0,0]\n",
    "FP_upsampled = conf_matrix_upsampled[0,1]\n",
    "FN_upsampled = conf_matrix_upsampled[1,0]\n",
    "sensitivity_upsampled = TP_upsampled/(TP_upsampled+FN_upsampled)\n",
    "specificity_upsampled = TN_upsampled/(TN_upsampled+FP_upsampled)\n",
    "accuracy_upsampled_RF = accuracy_score(y_test_upsampled,prediction_upsampled)*100\n",
    "f1_upsampled_RF = f1_score(y_test_upsampled, prediction_upsampled)\n",
    "precision_upsampled_RF = precision_score(y_test_upsampled, prediction_upsampled)\n",
    "recall_upsampled = recall_score(y_test_upsampled, prediction_upsampled)"
   ]
  },
  {
   "cell_type": "code",
   "execution_count": 240,
   "metadata": {},
   "outputs": [
    {
     "name": "stdout",
     "output_type": "stream",
     "text": [
      "Accuracy:  97.72951628825271\n",
      "F1 Score:  0.976976976976977\n",
      "Precision:  0.9663366336633663\n",
      "Recall:  0.9878542510121457\n",
      "Specificity:  0.9672447013487476\n",
      "Sensitivity:  0.9878542510121457\n",
      "True positive:  488\n",
      "False positive:  17\n",
      "True negative:  502\n",
      "False negative:  6\n"
     ]
    }
   ],
   "source": [
    "print(\"Accuracy: \", accuracy_upsampled_RF)\n",
    "print(\"F1 Score: \", f1_upsampled_RF)\n",
    "print(\"Precision: \", precision_upsampled_RF)\n",
    "print(\"Recall: \", recall_upsampled)\n",
    "print(\"Specificity: \", specificity_upsampled)\n",
    "print(\"Sensitivity: \", sensitivity_upsampled)\n",
    "print(\"True positive: \", TP_upsampled)\n",
    "print(\"False positive: \", FP_upsampled)\n",
    "print(\"True negative: \", TN_upsampled)\n",
    "print(\"False negative: \", FN_upsampled)"
   ]
  },
  {
   "cell_type": "code",
   "execution_count": 248,
   "metadata": {},
   "outputs": [],
   "source": [
    "#fn=np.delete(dataset.columns,56)\n",
    "#cn=['S','N']\n",
    "#fig, axes = plt.subplots(nrows = 1,ncols = 1,figsize = (3,3), dpi=800)\n",
    "#tree.plot_tree(random_forest.estimators_[0], feature_names = fn, class_names=cn,filled = True);"
   ]
  },
  {
   "cell_type": "markdown",
   "metadata": {},
   "source": [
    "### k - NEAREST NEIGHBORS"
   ]
  },
  {
   "cell_type": "code",
   "execution_count": 249,
   "metadata": {},
   "outputs": [],
   "source": [
    "#knn\n",
    "X_upsampled = df_upsampled.drop(\"label_spam\",axis = 1).values\n",
    "y_upsampled = df_upsampled[\"label_spam\"].values\n",
    "X_train_upsampled,X_test_upsampled, y_train_upsampled, y_test_upsampled = train_test_split(X_upsampled,y_upsampled,test_size = 0.2, random_state = 1)\n",
    "\n",
    "X_train_upsampled, X_test_upsampled, y_train_upsampled, y_test_upsampled = train_test_split(X_upsampled, y_upsampled, test_size=0.20)\n",
    "scaler = StandardScaler()\n",
    "X_train_upsampled = scaler.fit_transform(X_train_upsampled)\n",
    "X_test_upsampled = scaler.transform(X_test_upsampled)\n",
    "classifier = KNeighborsClassifier(n_neighbors=5)\n",
    "classifier.fit(X_train_upsampled,y_train_upsampled)\n",
    "prediction_upsampled = classifier.predict(X_test_upsampled)"
   ]
  },
  {
   "cell_type": "code",
   "execution_count": 250,
   "metadata": {},
   "outputs": [],
   "source": [
    "conf_matrix_upsampled = confusion_matrix(y_true=y_test_upsampled,y_pred=prediction_upsampled)\n",
    "TP_upsampled = conf_matrix_upsampled[1,1]\n",
    "TN_upsampled = conf_matrix_upsampled[0,0]\n",
    "FP_upsampled = conf_matrix_upsampled[0,1]\n",
    "FN_upsampled = conf_matrix_upsampled[1,0]\n",
    "sensitivity_upsampled = TP_upsampled/(TP_upsampled+FN_upsampled)\n",
    "specificity_upsampled = TN_upsampled/(TN_upsampled+FP_upsampled)\n",
    "accuracy_upsampled_KNN = accuracy_score(y_test_upsampled,prediction_upsampled)*100\n",
    "f1_upsampled_KNN = f1_score(y_test_upsampled, prediction_upsampled)\n",
    "precision_upsampled_KNN = precision_score(y_test_upsampled, prediction_upsampled)\n",
    "recall_upsampled = recall_score(y_test_upsampled, prediction_upsampled)"
   ]
  },
  {
   "cell_type": "code",
   "execution_count": 251,
   "metadata": {},
   "outputs": [
    {
     "name": "stdout",
     "output_type": "stream",
     "text": [
      "Accuracy:  90.72063178677196\n",
      "F1 Score:  0.9123134328358209\n",
      "Precision:  0.9055555555555556\n",
      "Recall:  0.9191729323308271\n",
      "Specificity:  0.893970893970894\n",
      "Sensitivity:  0.9191729323308271\n",
      "True positive:  489\n",
      "False positive:  51\n",
      "True negative:  430\n",
      "False negative:  43\n"
     ]
    }
   ],
   "source": [
    "print(\"Accuracy: \", accuracy_upsampled_KNN)\n",
    "print(\"F1 Score: \", f1_upsampled_KNN)\n",
    "print(\"Precision: \", precision_upsampled_KNN)\n",
    "print(\"Recall: \", recall_upsampled)\n",
    "print(\"Specificity: \", specificity_upsampled)\n",
    "print(\"Sensitivity: \", sensitivity_upsampled)\n",
    "print(\"True positive: \", TP_upsampled)\n",
    "print(\"False positive: \", FP_upsampled)\n",
    "print(\"True negative: \", TN_upsampled)\n",
    "print(\"False negative: \", FN_upsampled)"
   ]
  },
  {
   "cell_type": "markdown",
   "metadata": {},
   "source": [
    "### NAIVE BAYES, RANDOM FOREST, k - NEAREST NEIGHBORS (prikaz rezultata)"
   ]
  },
  {
   "cell_type": "code",
   "execution_count": 252,
   "metadata": {},
   "outputs": [
    {
     "data": {
      "image/png": "[encoded data removed]",
      "text/plain": [
       "<Figure size 936x216 with 3 Axes>"
      ]
     },
     "metadata": {
      "needs_background": "light"
     },
     "output_type": "display_data"
    }
   ],
   "source": [
    "plt.figure(figsize=(13, 3))\n",
    "plt.subplot(131)\n",
    "plt.ylim(78,100)\n",
    "plt.bar(['acc_NB', 'acc_RF', 'acc_KNN'], [accuracy_upsampled_NB, accuracy_upsampled_RF, accuracy_upsampled_KNN])\n",
    "plt.subplot(132)\n",
    "plt.ylim(0.78,1.00)\n",
    "plt.bar(['f1_NB', 'f1_RF','f1_KNN'], [f1_upsampled_NB, f1_upsampled_RF, f1_upsampled_KNN])\n",
    "plt.subplot(133)\n",
    "plt.ylim(0.78,1.00)\n",
    "plt.bar(['prec_NB', 'prec_RF', 'prec_KNN'], [precision_upsampled_NB, precision_upsampled_RF, [precision_upsampled_KNN]])\n",
    "plt.suptitle('Measurement comparison NAIVE BAYES, RANDOM FOREST, k-NEAREST NEIGHBORS')\n",
    "plt.show()"
   ]
  },
  {
   "cell_type": "markdown",
   "metadata": {},
   "source": [
    "# Algoritmi za redukciju dimenzionalnosti\n",
    "### RECURSIVE FEATURE ELIMINATION - RFE"
   ]
  },
  {
   "cell_type": "code",
   "execution_count": 253,
   "metadata": {
    "scrolled": true
   },
   "outputs": [
    {
     "name": "stdout",
     "output_type": "stream",
     "text": [
      "word_freq_remove\n",
      "word_freq_000\n",
      "word_freq_george\n",
      "word_freq_cs\n",
      "char_freq_$\n"
     ]
    }
   ],
   "source": [
    "#RFE feature reduction over logistic regression model\n",
    "X = df_undersampled.drop(\"label_spam\", axis = 1)\n",
    "y = df_undersampled[\"label_spam\"]\n",
    "model = LogisticRegression(max_iter = 3000)\n",
    "rfe_model = RFE(model, n_features_to_select = 5)\n",
    "rfe_prediction = rfe_model.fit(X,y)\n",
    "feature_list = rfe_prediction.get_support(indices=True)\n",
    "key_columns = []\n",
    "for feature in feature_list:\n",
    "    print(df_undersampled.columns[feature])\n",
    "    key_columns.append(df_undersampled.columns[feature])\n",
    "key_columns.append(\"label_spam\")\n",
    "    "
   ]
  },
  {
   "cell_type": "code",
   "execution_count": 254,
   "metadata": {},
   "outputs": [
    {
     "data": {
      "text/html": [
       "<div>\n",
       "<style scoped>\n",
       "    .dataframe tbody tr th:only-of-type {\n",
       "        vertical-align: middle;\n",
       "    }\n",
       "\n",
       "    .dataframe tbody tr th {\n",
       "        vertical-align: top;\n",
       "    }\n",
       "\n",
       "    .dataframe thead th {\n",
       "        text-align: right;\n",
       "    }\n",
       "</style>\n",
       "<table border=\"1\" class=\"dataframe\">\n",
       "  <thead>\n",
       "    <tr style=\"text-align: right;\">\n",
       "      <th></th>\n",
       "      <th>word_freq_remove</th>\n",
       "      <th>word_freq_000</th>\n",
       "      <th>word_freq_george</th>\n",
       "      <th>word_freq_cs</th>\n",
       "      <th>char_freq_$</th>\n",
       "      <th>label_spam</th>\n",
       "    </tr>\n",
       "  </thead>\n",
       "  <tbody>\n",
       "    <tr>\n",
       "      <th>2163</th>\n",
       "      <td>0.31</td>\n",
       "      <td>0.0</td>\n",
       "      <td>0.95</td>\n",
       "      <td>0.00</td>\n",
       "      <td>0.0</td>\n",
       "      <td>0</td>\n",
       "    </tr>\n",
       "    <tr>\n",
       "      <th>3059</th>\n",
       "      <td>0.00</td>\n",
       "      <td>0.0</td>\n",
       "      <td>0.55</td>\n",
       "      <td>0.00</td>\n",
       "      <td>0.0</td>\n",
       "      <td>0</td>\n",
       "    </tr>\n",
       "    <tr>\n",
       "      <th>3512</th>\n",
       "      <td>0.00</td>\n",
       "      <td>0.0</td>\n",
       "      <td>0.00</td>\n",
       "      <td>0.00</td>\n",
       "      <td>0.0</td>\n",
       "      <td>0</td>\n",
       "    </tr>\n",
       "    <tr>\n",
       "      <th>4448</th>\n",
       "      <td>0.00</td>\n",
       "      <td>0.0</td>\n",
       "      <td>0.00</td>\n",
       "      <td>0.00</td>\n",
       "      <td>0.0</td>\n",
       "      <td>0</td>\n",
       "    </tr>\n",
       "    <tr>\n",
       "      <th>2513</th>\n",
       "      <td>0.00</td>\n",
       "      <td>0.0</td>\n",
       "      <td>0.00</td>\n",
       "      <td>1.56</td>\n",
       "      <td>0.0</td>\n",
       "      <td>0</td>\n",
       "    </tr>\n",
       "  </tbody>\n",
       "</table>\n",
       "</div>"
      ],
      "text/plain": [
       "      word_freq_remove  word_freq_000  word_freq_george  word_freq_cs  \\\n",
       "2163              0.31            0.0              0.95          0.00   \n",
       "3059              0.00            0.0              0.55          0.00   \n",
       "3512              0.00            0.0              0.00          0.00   \n",
       "4448              0.00            0.0              0.00          0.00   \n",
       "2513              0.00            0.0              0.00          1.56   \n",
       "\n",
       "      char_freq_$  label_spam  \n",
       "2163          0.0           0  \n",
       "3059          0.0           0  \n",
       "3512          0.0           0  \n",
       "4448          0.0           0  \n",
       "2513          0.0           0  "
      ]
     },
     "execution_count": 254,
     "metadata": {},
     "output_type": "execute_result"
    }
   ],
   "source": [
    "columns_to_remove = []\n",
    "df_rfe = df_undersampled.copy(deep=True)\n",
    "for column in df_rfe.columns:\n",
    "    if column not in key_columns:\n",
    "        columns_to_remove.append(column)\n",
    "        \n",
    "rfe_removed = df_rfe.drop(columns_to_remove, axis=1)\n",
    "rfe_removed.head()\n",
    "        "
   ]
  },
  {
   "cell_type": "code",
   "execution_count": 255,
   "metadata": {},
   "outputs": [],
   "source": [
    "X = rfe_removed.drop(\"label_spam\",axis = 1).values\n",
    "y = rfe_removed[\"label_spam\"].values\n",
    "X_train,X_test, y_train, y_test = train_test_split(X,y,test_size = 0.2, random_state = 1)\n",
    "\n",
    "rfe_logistic_regression_model = LogisticRegression(max_iter = 3000)\n",
    "rfe_logistic_regression_model.fit(X_train,y_train)\n",
    "rfe_prediction = rfe_logistic_regression_model.predict(X_test)"
   ]
  },
  {
   "cell_type": "code",
   "execution_count": 256,
   "metadata": {},
   "outputs": [],
   "source": [
    "conf_matrix = confusion_matrix(y_true=y_test,y_pred=rfe_prediction)\n",
    "TP = conf_matrix[1,1]\n",
    "TN = conf_matrix[0,0]\n",
    "FP = conf_matrix[0,1]\n",
    "FN = conf_matrix[1,0]\n",
    "sensitivity = TP/(TP+FN)\n",
    "specificity = TN/(TN+FP)\n",
    "accuracy_RFE = accuracy_score(y_test,rfe_prediction)*100\n",
    "f1_RFE = f1_score(y_test, rfe_prediction)\n",
    "precision_RFE = precision_score(y_test, rfe_prediction)\n",
    "recall = recall_score(y_test, rfe_prediction)"
   ]
  },
  {
   "cell_type": "code",
   "execution_count": 257,
   "metadata": {},
   "outputs": [
    {
     "name": "stdout",
     "output_type": "stream",
     "text": [
      "Accuracy:  84.07738095238095\n",
      "F1 Score:  0.8099467140319716\n",
      "Precision:  0.957983193277311\n",
      "Recall:  0.7015384615384616\n",
      "Specificity:  0.9711815561959655\n",
      "Sensitivity:  0.7015384615384616\n",
      "True positive:  228\n",
      "False positive:  10\n",
      "True negative:  337\n",
      "False negative:  97\n"
     ]
    }
   ],
   "source": [
    "print(\"Accuracy: \", accuracy_RFE)\n",
    "print(\"F1 Score: \", f1_RFE)\n",
    "print(\"Precision: \", precision_RFE)\n",
    "print(\"Recall: \", recall)\n",
    "print(\"Specificity: \", specificity)\n",
    "print(\"Sensitivity: \", sensitivity)\n",
    "print(\"True positive: \", TP)\n",
    "print(\"False positive: \", FP)\n",
    "print(\"True negative: \", TN)\n",
    "print(\"False negative: \", FN)"
   ]
  },
  {
   "cell_type": "markdown",
   "metadata": {},
   "source": [
    "### LASSO"
   ]
  },
  {
   "cell_type": "code",
   "execution_count": 258,
   "metadata": {},
   "outputs": [
    {
     "name": "stdout",
     "output_type": "stream",
     "text": [
      "word_freq_free\n",
      "word_freq_you\n",
      "word_freq_your\n",
      "word_freq_hp\n",
      "word_freq_george\n",
      "char_freq_!\n"
     ]
    }
   ],
   "source": [
    "#Lasso\n",
    "X = df_undersampled.drop(\"label_spam\", axis = 1)\n",
    "y = df_undersampled[\"label_spam\"]\n",
    "X_train,X_test, y_train, y_test = train_test_split(X,y,test_size = 0.2, random_state = 1)\n",
    "lasso = LassoCV(cv=3)\n",
    "select_from_model = SelectFromModel(lasso,threshold = 0.01)\n",
    "select_from_model.fit(X, y)\n",
    "feature_list = select_from_model.get_support(indices=True)\n",
    "key_columns = []\n",
    "for feature in feature_list:\n",
    "    print(df_undersampled.columns[feature])\n",
    "    key_columns.append(df_undersampled.columns[feature])\n",
    "    \n",
    "key_columns.append(\"label_spam\")\n"
   ]
  },
  {
   "cell_type": "code",
   "execution_count": 259,
   "metadata": {},
   "outputs": [
    {
     "data": {
      "text/html": [
       "<div>\n",
       "<style scoped>\n",
       "    .dataframe tbody tr th:only-of-type {\n",
       "        vertical-align: middle;\n",
       "    }\n",
       "\n",
       "    .dataframe tbody tr th {\n",
       "        vertical-align: top;\n",
       "    }\n",
       "\n",
       "    .dataframe thead th {\n",
       "        text-align: right;\n",
       "    }\n",
       "</style>\n",
       "<table border=\"1\" class=\"dataframe\">\n",
       "  <thead>\n",
       "    <tr style=\"text-align: right;\">\n",
       "      <th></th>\n",
       "      <th>word_freq_free</th>\n",
       "      <th>word_freq_you</th>\n",
       "      <th>word_freq_your</th>\n",
       "      <th>word_freq_hp</th>\n",
       "      <th>word_freq_george</th>\n",
       "      <th>char_freq_!</th>\n",
       "      <th>label_spam</th>\n",
       "    </tr>\n",
       "  </thead>\n",
       "  <tbody>\n",
       "    <tr>\n",
       "      <th>2163</th>\n",
       "      <td>0.0</td>\n",
       "      <td>0.63</td>\n",
       "      <td>0.63</td>\n",
       "      <td>0.00</td>\n",
       "      <td>0.95</td>\n",
       "      <td>0.000</td>\n",
       "      <td>0</td>\n",
       "    </tr>\n",
       "    <tr>\n",
       "      <th>3059</th>\n",
       "      <td>0.0</td>\n",
       "      <td>1.67</td>\n",
       "      <td>0.00</td>\n",
       "      <td>3.91</td>\n",
       "      <td>0.55</td>\n",
       "      <td>0.367</td>\n",
       "      <td>0</td>\n",
       "    </tr>\n",
       "    <tr>\n",
       "      <th>3512</th>\n",
       "      <td>0.0</td>\n",
       "      <td>0.23</td>\n",
       "      <td>0.00</td>\n",
       "      <td>0.23</td>\n",
       "      <td>0.00</td>\n",
       "      <td>0.000</td>\n",
       "      <td>0</td>\n",
       "    </tr>\n",
       "    <tr>\n",
       "      <th>4448</th>\n",
       "      <td>0.0</td>\n",
       "      <td>3.84</td>\n",
       "      <td>0.00</td>\n",
       "      <td>1.28</td>\n",
       "      <td>0.00</td>\n",
       "      <td>0.000</td>\n",
       "      <td>0</td>\n",
       "    </tr>\n",
       "    <tr>\n",
       "      <th>2513</th>\n",
       "      <td>0.0</td>\n",
       "      <td>0.00</td>\n",
       "      <td>0.00</td>\n",
       "      <td>0.00</td>\n",
       "      <td>0.00</td>\n",
       "      <td>0.000</td>\n",
       "      <td>0</td>\n",
       "    </tr>\n",
       "  </tbody>\n",
       "</table>\n",
       "</div>"
      ],
      "text/plain": [
       "      word_freq_free  word_freq_you  word_freq_your  word_freq_hp  \\\n",
       "2163             0.0           0.63            0.63          0.00   \n",
       "3059             0.0           1.67            0.00          3.91   \n",
       "3512             0.0           0.23            0.00          0.23   \n",
       "4448             0.0           3.84            0.00          1.28   \n",
       "2513             0.0           0.00            0.00          0.00   \n",
       "\n",
       "      word_freq_george  char_freq_!  label_spam  \n",
       "2163              0.95        0.000           0  \n",
       "3059              0.55        0.367           0  \n",
       "3512              0.00        0.000           0  \n",
       "4448              0.00        0.000           0  \n",
       "2513              0.00        0.000           0  "
      ]
     },
     "execution_count": 259,
     "metadata": {},
     "output_type": "execute_result"
    }
   ],
   "source": [
    "columns_to_remove = []\n",
    "df_lasso = df_undersampled.copy(deep=True)\n",
    "for column in df_lasso.columns:\n",
    "    if column not in key_columns:\n",
    "        columns_to_remove.append(column)\n",
    "        \n",
    "lasso_removed = df_lasso.drop(columns_to_remove, axis=1)\n",
    "lasso_removed.head()"
   ]
  },
  {
   "cell_type": "code",
   "execution_count": 260,
   "metadata": {},
   "outputs": [],
   "source": [
    "X = lasso_removed.drop(\"label_spam\",axis = 1).values\n",
    "y = lasso_removed[\"label_spam\"].values\n",
    "X_train,X_test, y_train, y_test = train_test_split(X,y,test_size = 0.2, random_state = 1)\n",
    "\n",
    "lasso_logistic_regression_model = LogisticRegression(max_iter = 3000)\n",
    "lasso_logistic_regression_model.fit(X_train,y_train)\n",
    "lasso_prediction = lasso_logistic_regression_model.predict(X_test)"
   ]
  },
  {
   "cell_type": "code",
   "execution_count": 261,
   "metadata": {},
   "outputs": [],
   "source": [
    "conf_matrix = confusion_matrix(y_true=y_test,y_pred=lasso_prediction)\n",
    "TP = conf_matrix[1,1]\n",
    "TN = conf_matrix[0,0]\n",
    "FP = conf_matrix[0,1]\n",
    "FN = conf_matrix[1,0]\n",
    "sensitivity = TP/(TP+FN)\n",
    "specificity = TN/(TN+FP)\n",
    "accuracy_LASSO = accuracy_score(y_test,lasso_prediction)*100\n",
    "f1_LASSO = f1_score(y_test, lasso_prediction)\n",
    "precision_LASSO = precision_score(y_test, lasso_prediction)\n",
    "recall = recall_score(y_test, lasso_prediction)"
   ]
  },
  {
   "cell_type": "code",
   "execution_count": 262,
   "metadata": {},
   "outputs": [
    {
     "name": "stdout",
     "output_type": "stream",
     "text": [
      "Accuracy:  84.52380952380952\n",
      "F1 Score:  0.8424242424242424\n",
      "Precision:  0.8298507462686567\n",
      "Recall:  0.8553846153846154\n",
      "Specificity:  0.8357348703170029\n",
      "Sensitivity:  0.8553846153846154\n",
      "True positive:  278\n",
      "False positive:  57\n",
      "True negative:  290\n",
      "False negative:  47\n"
     ]
    }
   ],
   "source": [
    "print(\"Accuracy: \", accuracy_LASSO)\n",
    "print(\"F1 Score: \", f1_LASSO)\n",
    "print(\"Precision: \", precision_LASSO)\n",
    "print(\"Recall: \", recall)\n",
    "print(\"Specificity: \", specificity)\n",
    "print(\"Sensitivity: \", sensitivity)\n",
    "print(\"True positive: \", TP)\n",
    "print(\"False positive: \", FP)\n",
    "print(\"True negative: \", TN)\n",
    "print(\"False negative: \", FN)"
   ]
  },
  {
   "cell_type": "markdown",
   "metadata": {},
   "source": [
    "### EXTRA TREE"
   ]
  },
  {
   "cell_type": "code",
   "execution_count": 263,
   "metadata": {},
   "outputs": [
    {
     "name": "stdout",
     "output_type": "stream",
     "text": [
      "word_freq_make\n",
      "word_freq_address\n",
      "word_freq_all\n",
      "word_freq_3d\n",
      "word_freq_our\n",
      "word_freq_over\n"
     ]
    }
   ],
   "source": [
    "et_classifier = ExtraTreesClassifier()\n",
    "et_classifier.fit(X,y)\n",
    "select_from_model = SelectFromModel(et_classifier, threshold = 0.05)\n",
    "select_from_model.fit(X,y)\n",
    "feature_list = select_from_model.get_support(indices=True)\n",
    "for feature in feature_list:\n",
    "    print(df_undersampled.columns[feature])\n"
   ]
  },
  {
   "cell_type": "markdown",
   "metadata": {},
   "source": [
    "### PRINCIPAL COMPONENT ANALYSIS - PCA"
   ]
  },
  {
   "cell_type": "code",
   "execution_count": 265,
   "metadata": {},
   "outputs": [
    {
     "data": {
      "text/plain": [
       "array([0.3484417 , 0.26748963, 0.163203  , 0.10226864, 0.07220493,\n",
       "       0.04639209])"
      ]
     },
     "execution_count": 265,
     "metadata": {},
     "output_type": "execute_result"
    }
   ],
   "source": [
    "#PCA feature variances\n",
    "X_train, X_test, y_train, y_test = train_test_split(X, y, test_size=0.20)\n",
    "pca = PCA()\n",
    "X_train = pca.fit_transform(X_train)\n",
    "X_test = pca.transform(X_test)\n",
    "feature_variances = pca.explained_variance_ratio_\n",
    "feature_variances"
   ]
  },
  {
   "cell_type": "markdown",
   "metadata": {},
   "source": [
    "# Kombinacija logističke regresije sa PCA algoritmom"
   ]
  },
  {
   "cell_type": "code",
   "execution_count": 266,
   "metadata": {},
   "outputs": [],
   "source": [
    "#PCA decomposition over LogisticRegression\n",
    "X_upsampled = df_upsampled.drop(\"label_spam\",axis = 1).values\n",
    "y_upsampled = df_upsampled[\"label_spam\"].values\n",
    "X_train_upsampled,X_test_upsampled, y_train, y_test = train_test_split(X_upsampled,y_upsampled,test_size = 0.2, random_state = 1)\n",
    "\n",
    "pca = PCA(n_components = 20)\n",
    "X_train_upsampled = pca.fit_transform(X_train_upsampled)\n",
    "X_test_upsampled = pca.transform(X_test_upsampled)\n",
    "logmodel=LogisticRegression(max_iter = 3000)\n",
    "logmodel.fit(X_train_upsampled, y_train)\n",
    "prediction = logmodel.predict(X_test_upsampled)"
   ]
  },
  {
   "cell_type": "code",
   "execution_count": 267,
   "metadata": {},
   "outputs": [],
   "source": [
    "conf_matrix = confusion_matrix(y_true=y_test,y_pred=prediction)\n",
    "TP = conf_matrix[1,1]\n",
    "TN = conf_matrix[0,0]\n",
    "FP = conf_matrix[0,1]\n",
    "FN = conf_matrix[1,0]\n",
    "sensitivity = TP/(TP+FN)\n",
    "specificity = TN/(TN+FP)\n",
    "accuracy_PCA = accuracy_score(y_test,prediction)*100\n",
    "f1_PCA = f1_score(y_test, prediction)\n",
    "precision_PCA = precision_score(y_test, prediction)\n",
    "recall = recall_score(y_test, prediction)"
   ]
  },
  {
   "cell_type": "code",
   "execution_count": 268,
   "metadata": {},
   "outputs": [
    {
     "name": "stdout",
     "output_type": "stream",
     "text": [
      "Accuracy:  89.14116485686081\n",
      "F1 Score:  0.8893360160965794\n",
      "Precision:  0.884\n",
      "Recall:  0.8947368421052632\n",
      "Specificity:  0.8882466281310212\n",
      "Sensitivity:  0.8947368421052632\n",
      "True positive:  442\n",
      "False positive:  58\n",
      "True negative:  461\n",
      "False negative:  52\n"
     ]
    }
   ],
   "source": [
    "print(\"Accuracy: \", accuracy_PCA)\n",
    "print(\"F1 Score: \", f1_PCA)\n",
    "print(\"Precision: \", precision_PCA)\n",
    "print(\"Recall: \", recall)\n",
    "print(\"Specificity: \", specificity)\n",
    "print(\"Sensitivity: \", sensitivity)\n",
    "print(\"True positive: \", TP)\n",
    "print(\"False positive: \", FP)\n",
    "print(\"True negative: \", TN)\n",
    "print(\"False negative: \", FN)"
   ]
  },
  {
   "cell_type": "markdown",
   "metadata": {},
   "source": [
    "### RFE, LASSO i PCA sa LOGISTIC REGRESSION (prikaz rezultata)"
   ]
  },
  {
   "cell_type": "code",
   "execution_count": 269,
   "metadata": {},
   "outputs": [
    {
     "data": {
      "image/png": "[encoded data removed]",
      "text/plain": [
       "<Figure size 936x216 with 3 Axes>"
      ]
     },
     "metadata": {
      "needs_background": "light"
     },
     "output_type": "display_data"
    }
   ],
   "source": [
    "plt.figure(figsize=(13, 3))\n",
    "plt.subplot(131)\n",
    "plt.ylim(78,97)\n",
    "plt.bar(['acc_RFE', 'acc_LASSO', 'acc_PCA'], [accuracy_RFE, accuracy_LASSO, accuracy_PCA])\n",
    "plt.subplot(132)\n",
    "plt.ylim(0.77,0.97)\n",
    "plt.bar(['f1_RFE', 'f1_LASSO','f1_PCA'], [f1_RFE, f1_LASSO, f1_PCA])\n",
    "plt.subplot(133)\n",
    "plt.ylim(0.78,0.97)\n",
    "plt.bar(['prec_RFE', 'prec_LASSO', 'prec_PCA'], [precision_RFE, precision_LASSO, [precision_PCA]])\n",
    "plt.suptitle('Measurement comparison RFE, LASSO, PCA with LOGISTIC REGRESSION')\n",
    "plt.show()"
   ]
  },
  {
   "cell_type": "markdown",
   "metadata": {},
   "source": [
    "### RIDGE REGRESSION"
   ]
  },
  {
   "cell_type": "code",
   "execution_count": 270,
   "metadata": {},
   "outputs": [
    {
     "name": "stdout",
     "output_type": "stream",
     "text": [
      "Train set errors:\n",
      "0.3369460226308962\n",
      "0.5458521979600826\n",
      "Test set errors:\n",
      "0.3377973328194809\n",
      "0.5432936855407624\n"
     ]
    }
   ],
   "source": [
    "#Ridge\n",
    "#error over train set \n",
    "X_upsampled = df_upsampled.drop(\"label_spam\",axis = 1).values\n",
    "y_upsampled = df_upsampled[\"label_spam\"].values\n",
    "X_train_upsampled,X_test_upsampled, y_train, y_test = train_test_split(X_upsampled,y_upsampled,test_size = 0.2, random_state = 1)\n",
    "\n",
    "model = Ridge(alpha = 0.04, normalize = True)\n",
    "model_fit = model.fit(X_train_upsampled, y_train)\n",
    "prediction_train = model_fit.predict(X_train_upsampled)\n",
    "print(\"Train set errors:\")\n",
    "print(np.sqrt(mean_squared_error(y_train,prediction_train)))\n",
    "print(r2_score(y_train, prediction_train))\n",
    "\n",
    "#error over test set\n",
    "prediction_test = model_fit.predict(X_test_upsampled)\n",
    "print(\"Test set errors:\")\n",
    "print(np.sqrt(mean_squared_error(y_test,prediction_test)))\n",
    "print(r2_score(y_test, prediction_test))"
   ]
  },
  {
   "cell_type": "markdown",
   "metadata": {},
   "source": [
    "# ROC CURVE"
   ]
  },
  {
   "cell_type": "code",
   "execution_count": 271,
   "metadata": {},
   "outputs": [],
   "source": [
    "X_upsampled = df_upsampled.drop(\"label_spam\",axis = 1).values\n",
    "y_upsampled = df_upsampled[\"label_spam\"].values\n",
    "X_train_upsampled,X_test_upsampled, y_train, y_test = train_test_split(X_upsampled,y_upsampled,test_size = 0.2, random_state = 1)"
   ]
  },
  {
   "cell_type": "code",
   "execution_count": 272,
   "metadata": {},
   "outputs": [],
   "source": [
    "sc = StandardScaler()\n",
    "X_train=sc.fit_transform(X_train_upsampled)\n",
    "X_test_upsampled=sc.transform(X_test_upsampled)\n",
    "logmodel=LogisticRegression(max_iter = 3000)\n",
    "logmodel.fit(X_train_upsampled,y_train)\n",
    "prediction = logmodel.predict(X_test_upsampled)"
   ]
  },
  {
   "cell_type": "code",
   "execution_count": 273,
   "metadata": {},
   "outputs": [],
   "source": [
    "fpr, tpr, threshold = roc_curve(y_test, prediction)\n",
    "roc_auc = auc(fpr, tpr)"
   ]
  },
  {
   "cell_type": "code",
   "execution_count": 274,
   "metadata": {},
   "outputs": [
    {
     "data": {
      "image/png": "[encoded data removed]",
      "text/plain": [
       "<Figure size 432x288 with 1 Axes>"
      ]
     },
     "metadata": {
      "needs_background": "light"
     },
     "output_type": "display_data"
    }
   ],
   "source": [
    "plt.title('AUC-ROC curve')\n",
    "plt.plot(fpr, tpr, 'b', label = 'AUC = %0.2f' % roc_auc)\n",
    "plt.legend(loc = 'lower right')\n",
    "plt.plot([0, 1], [0, 1],'r--')\n",
    "plt.xlim([0, 1])\n",
    "plt.ylim([0, 1])\n",
    "plt.ylabel('True Positive Rate')\n",
    "plt.xlabel('False Positive Rate')\n",
    "plt.show()"
   ]
  }
 ],
 "metadata": {
  "kernelspec": {
   "display_name": "Python 3",
   "language": "python",
   "name": "python3"
  },
  "language_info": {
   "codemirror_mode": {
    "name": "ipython",
    "version": 3
   },
   "file_extension": ".py",
   "mimetype": "text/x-python",
   "name": "python",
   "nbconvert_exporter": "python",
   "pygments_lexer": "ipython3",
   "version": "3.8.2"
  }
 },
 "nbformat": 4,
 "nbformat_minor": 4
}
