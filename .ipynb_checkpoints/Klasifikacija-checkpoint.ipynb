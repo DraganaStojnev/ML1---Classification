{
 "cells": [
  {
   "cell_type": "code",
   "execution_count": 2,
   "metadata": {},
   "outputs": [],
   "source": [
    "# import sys\n",
    "# !{sys.executable} -m pip install pandas\n",
    "# !{sys.executable} -m pip install numpy\n",
    "# !{sys.executable} -m pip install matplotlib\n",
    "# !{sys.executable} -m pip install sklearn\n",
    "# !{sys.executable} -m pip install scipy"
   ]
  },
  {
   "cell_type": "markdown",
   "metadata": {},
   "source": [
    "# Importovanje potrebnih paketa za rad sa algoritmima nadgledanog učenja"
   ]
  },
  {
   "cell_type": "code",
   "execution_count": 2,
   "metadata": {},
   "outputs": [],
   "source": [
    "import pandas as pd\n",
    "import numpy as np\n",
    "import random\n",
    "import matplotlib.pyplot as plt\n",
    "from sklearn.utils import resample\n",
    "from sklearn.model_selection import train_test_split, KFold\n",
    "from sklearn.linear_model import LogisticRegression, LassoCV, Ridge\n",
    "from sklearn.metrics import confusion_matrix, accuracy_score, f1_score, recall_score, precision_score, classification_report,r2_score, mean_squared_error\n",
    "from sklearn.ensemble import GradientBoostingClassifier, RandomForestClassifier, ExtraTreesClassifier\n",
    "from sklearn.naive_bayes import MultinomialNB\n",
    "from sklearn.preprocessing import StandardScaler\n",
    "from sklearn.neighbors import KNeighborsClassifier\n",
    "from scipy.stats import iqr\n",
    "from sklearn.feature_selection import RFE, SelectFromModel\n",
    "from sklearn.decomposition import PCA"
   ]
  },
  {
   "cell_type": "markdown",
   "metadata": {},
   "source": [
    "# Učitavanje dataset-a"
   ]
  },
  {
   "cell_type": "code",
   "execution_count": 3,
   "metadata": {},
   "outputs": [
    {
     "data": {
      "text/html": [
       "<div>\n",
       "<style scoped>\n",
       "    .dataframe tbody tr th:only-of-type {\n",
       "        vertical-align: middle;\n",
       "    }\n",
       "\n",
       "    .dataframe tbody tr th {\n",
       "        vertical-align: top;\n",
       "    }\n",
       "\n",
       "    .dataframe thead th {\n",
       "        text-align: right;\n",
       "    }\n",
       "</style>\n",
       "<table border=\"1\" class=\"dataframe\">\n",
       "  <thead>\n",
       "    <tr style=\"text-align: right;\">\n",
       "      <th></th>\n",
       "      <th>word_freq_make</th>\n",
       "      <th>word_freq_address</th>\n",
       "      <th>word_freq_all</th>\n",
       "      <th>word_freq_3d</th>\n",
       "      <th>word_freq_our</th>\n",
       "      <th>word_freq_over</th>\n",
       "      <th>word_freq_remove</th>\n",
       "      <th>word_freq_internet</th>\n",
       "      <th>word_freq_order</th>\n",
       "      <th>word_freq_mail</th>\n",
       "      <th>...</th>\n",
       "      <th>char_freq_;</th>\n",
       "      <th>char_freq_(</th>\n",
       "      <th>char_freq_[</th>\n",
       "      <th>char_freq_!</th>\n",
       "      <th>char_freq_$</th>\n",
       "      <th>char_freq_#</th>\n",
       "      <th>capital_run_length_average</th>\n",
       "      <th>capital_run_length_longest</th>\n",
       "      <th>capital_run_length_total</th>\n",
       "      <th>label_spam</th>\n",
       "    </tr>\n",
       "  </thead>\n",
       "  <tbody>\n",
       "    <tr>\n",
       "      <th>0</th>\n",
       "      <td>0.00</td>\n",
       "      <td>0.64</td>\n",
       "      <td>0.64</td>\n",
       "      <td>0.0</td>\n",
       "      <td>0.32</td>\n",
       "      <td>0.00</td>\n",
       "      <td>0.00</td>\n",
       "      <td>0.00</td>\n",
       "      <td>0.00</td>\n",
       "      <td>0.00</td>\n",
       "      <td>...</td>\n",
       "      <td>0.00</td>\n",
       "      <td>0.000</td>\n",
       "      <td>0.0</td>\n",
       "      <td>0.778</td>\n",
       "      <td>0.000</td>\n",
       "      <td>0.000</td>\n",
       "      <td>3.756</td>\n",
       "      <td>61</td>\n",
       "      <td>278</td>\n",
       "      <td>1</td>\n",
       "    </tr>\n",
       "    <tr>\n",
       "      <th>1</th>\n",
       "      <td>0.21</td>\n",
       "      <td>0.28</td>\n",
       "      <td>0.50</td>\n",
       "      <td>0.0</td>\n",
       "      <td>0.14</td>\n",
       "      <td>0.28</td>\n",
       "      <td>0.21</td>\n",
       "      <td>0.07</td>\n",
       "      <td>0.00</td>\n",
       "      <td>0.94</td>\n",
       "      <td>...</td>\n",
       "      <td>0.00</td>\n",
       "      <td>0.132</td>\n",
       "      <td>0.0</td>\n",
       "      <td>0.372</td>\n",
       "      <td>0.180</td>\n",
       "      <td>0.048</td>\n",
       "      <td>5.114</td>\n",
       "      <td>101</td>\n",
       "      <td>1028</td>\n",
       "      <td>1</td>\n",
       "    </tr>\n",
       "    <tr>\n",
       "      <th>2</th>\n",
       "      <td>0.06</td>\n",
       "      <td>0.00</td>\n",
       "      <td>0.71</td>\n",
       "      <td>0.0</td>\n",
       "      <td>1.23</td>\n",
       "      <td>0.19</td>\n",
       "      <td>0.19</td>\n",
       "      <td>0.12</td>\n",
       "      <td>0.64</td>\n",
       "      <td>0.25</td>\n",
       "      <td>...</td>\n",
       "      <td>0.01</td>\n",
       "      <td>0.143</td>\n",
       "      <td>0.0</td>\n",
       "      <td>0.276</td>\n",
       "      <td>0.184</td>\n",
       "      <td>0.010</td>\n",
       "      <td>9.821</td>\n",
       "      <td>485</td>\n",
       "      <td>2259</td>\n",
       "      <td>1</td>\n",
       "    </tr>\n",
       "    <tr>\n",
       "      <th>3</th>\n",
       "      <td>0.00</td>\n",
       "      <td>0.00</td>\n",
       "      <td>0.00</td>\n",
       "      <td>0.0</td>\n",
       "      <td>0.63</td>\n",
       "      <td>0.00</td>\n",
       "      <td>0.31</td>\n",
       "      <td>0.63</td>\n",
       "      <td>0.31</td>\n",
       "      <td>0.63</td>\n",
       "      <td>...</td>\n",
       "      <td>0.00</td>\n",
       "      <td>0.137</td>\n",
       "      <td>0.0</td>\n",
       "      <td>0.137</td>\n",
       "      <td>0.000</td>\n",
       "      <td>0.000</td>\n",
       "      <td>3.537</td>\n",
       "      <td>40</td>\n",
       "      <td>191</td>\n",
       "      <td>1</td>\n",
       "    </tr>\n",
       "    <tr>\n",
       "      <th>4</th>\n",
       "      <td>0.00</td>\n",
       "      <td>0.00</td>\n",
       "      <td>0.00</td>\n",
       "      <td>0.0</td>\n",
       "      <td>0.63</td>\n",
       "      <td>0.00</td>\n",
       "      <td>0.31</td>\n",
       "      <td>0.63</td>\n",
       "      <td>0.31</td>\n",
       "      <td>0.63</td>\n",
       "      <td>...</td>\n",
       "      <td>0.00</td>\n",
       "      <td>0.135</td>\n",
       "      <td>0.0</td>\n",
       "      <td>0.135</td>\n",
       "      <td>0.000</td>\n",
       "      <td>0.000</td>\n",
       "      <td>3.537</td>\n",
       "      <td>40</td>\n",
       "      <td>191</td>\n",
       "      <td>1</td>\n",
       "    </tr>\n",
       "  </tbody>\n",
       "</table>\n",
       "<p>5 rows × 58 columns</p>\n",
       "</div>"
      ],
      "text/plain": [
       "   word_freq_make  word_freq_address  word_freq_all  word_freq_3d  \\\n",
       "0            0.00               0.64           0.64           0.0   \n",
       "1            0.21               0.28           0.50           0.0   \n",
       "2            0.06               0.00           0.71           0.0   \n",
       "3            0.00               0.00           0.00           0.0   \n",
       "4            0.00               0.00           0.00           0.0   \n",
       "\n",
       "   word_freq_our  word_freq_over  word_freq_remove  word_freq_internet  \\\n",
       "0           0.32            0.00              0.00                0.00   \n",
       "1           0.14            0.28              0.21                0.07   \n",
       "2           1.23            0.19              0.19                0.12   \n",
       "3           0.63            0.00              0.31                0.63   \n",
       "4           0.63            0.00              0.31                0.63   \n",
       "\n",
       "   word_freq_order  word_freq_mail  ...  char_freq_;  char_freq_(  \\\n",
       "0             0.00            0.00  ...         0.00        0.000   \n",
       "1             0.00            0.94  ...         0.00        0.132   \n",
       "2             0.64            0.25  ...         0.01        0.143   \n",
       "3             0.31            0.63  ...         0.00        0.137   \n",
       "4             0.31            0.63  ...         0.00        0.135   \n",
       "\n",
       "   char_freq_[  char_freq_!  char_freq_$  char_freq_#  \\\n",
       "0          0.0        0.778        0.000        0.000   \n",
       "1          0.0        0.372        0.180        0.048   \n",
       "2          0.0        0.276        0.184        0.010   \n",
       "3          0.0        0.137        0.000        0.000   \n",
       "4          0.0        0.135        0.000        0.000   \n",
       "\n",
       "   capital_run_length_average  capital_run_length_longest  \\\n",
       "0                       3.756                          61   \n",
       "1                       5.114                         101   \n",
       "2                       9.821                         485   \n",
       "3                       3.537                          40   \n",
       "4                       3.537                          40   \n",
       "\n",
       "   capital_run_length_total  label_spam  \n",
       "0                       278           1  \n",
       "1                      1028           1  \n",
       "2                      2259           1  \n",
       "3                       191           1  \n",
       "4                       191           1  \n",
       "\n",
       "[5 rows x 58 columns]"
      ]
     },
     "execution_count": 3,
     "metadata": {},
     "output_type": "execute_result"
    }
   ],
   "source": [
    "dataset = pd.read_csv(\"dataset.csv\")\n",
    "dataset.head()"
   ]
  },
  {
   "cell_type": "markdown",
   "metadata": {},
   "source": [
    "# Deskriptivna analiza dataset-a\n",
    "### - MEAN"
   ]
  },
  {
   "cell_type": "code",
   "execution_count": 4,
   "metadata": {},
   "outputs": [
    {
     "data": {
      "text/plain": [
       "word_freq_make                  0.104553\n",
       "word_freq_address               0.213015\n",
       "word_freq_all                   0.280656\n",
       "word_freq_3d                    0.065425\n",
       "word_freq_our                   0.312223\n",
       "word_freq_over                  0.095901\n",
       "word_freq_remove                0.114208\n",
       "word_freq_internet              0.105295\n",
       "word_freq_order                 0.090067\n",
       "word_freq_mail                  0.239413\n",
       "word_freq_receive               0.059824\n",
       "word_freq_will                  0.541702\n",
       "word_freq_people                0.093930\n",
       "word_freq_report                0.058626\n",
       "word_freq_addresses             0.049205\n",
       "word_freq_free                  0.248848\n",
       "word_freq_business              0.142586\n",
       "word_freq_email                 0.184745\n",
       "word_freq_you                   1.662100\n",
       "word_freq_credit                0.085577\n",
       "word_freq_your                  0.809761\n",
       "word_freq_font                  0.121202\n",
       "word_freq_000                   0.101645\n",
       "word_freq_money                 0.094269\n",
       "word_freq_hp                    0.549504\n",
       "word_freq_hpl                   0.265384\n",
       "word_freq_george                0.767305\n",
       "word_freq_650                   0.124845\n",
       "word_freq_lab                   0.098915\n",
       "word_freq_labs                  0.102852\n",
       "word_freq_telnet                0.064753\n",
       "word_freq_857                   0.047048\n",
       "word_freq_data                  0.097229\n",
       "word_freq_415                   0.047835\n",
       "word_freq_85                    0.105412\n",
       "word_freq_technology            0.097477\n",
       "word_freq_1999                  0.136953\n",
       "word_freq_parts                 0.013201\n",
       "word_freq_pm                    0.078629\n",
       "word_freq_direct                0.064834\n",
       "word_freq_cs                    0.043667\n",
       "word_freq_meeting               0.132339\n",
       "word_freq_original              0.046099\n",
       "word_freq_project               0.079196\n",
       "word_freq_re                    0.301224\n",
       "word_freq_edu                   0.179824\n",
       "word_freq_table                 0.005444\n",
       "word_freq_conference            0.031869\n",
       "char_freq_;                     0.038575\n",
       "char_freq_(                     0.139030\n",
       "char_freq_[                     0.016976\n",
       "char_freq_!                     0.269071\n",
       "char_freq_$                     0.075811\n",
       "char_freq_#                     0.044238\n",
       "capital_run_length_average      5.191515\n",
       "capital_run_length_longest     52.172789\n",
       "capital_run_length_total      283.289285\n",
       "label_spam                      0.394045\n",
       "dtype: float64"
      ]
     },
     "execution_count": 4,
     "metadata": {},
     "output_type": "execute_result"
    }
   ],
   "source": [
    "#Mean\n",
    "dataset.mean()"
   ]
  },
  {
   "cell_type": "code",
   "execution_count": 5,
   "metadata": {},
   "outputs": [
    {
     "data": {
      "text/plain": [
       "<matplotlib.collections.PathCollection at 0x1e797b43bc8>"
      ]
     },
     "execution_count": 5,
     "metadata": {},
     "output_type": "execute_result"
    },
    {
     "data": {
      "image/png": "[encoded data removed]",
      "text/plain": [
       "<Figure size 432x288 with 1 Axes>"
      ]
     },
     "metadata": {
      "needs_background": "light"
     },
     "output_type": "display_data"
    }
   ],
   "source": [
    "y = np.zeros((25))\n",
    "plt.scatter(random.sample(list(dataset['capital_run_length_longest']),25), y)\n",
    "plt.scatter(dataset['capital_run_length_longest'].mean(),0)"
   ]
  },
  {
   "cell_type": "markdown",
   "metadata": {},
   "source": [
    "### - MEDIAN"
   ]
  },
  {
   "cell_type": "code",
   "execution_count": 6,
   "metadata": {},
   "outputs": [
    {
     "data": {
      "text/plain": [
       "word_freq_make                 0.000\n",
       "word_freq_address              0.000\n",
       "word_freq_all                  0.000\n",
       "word_freq_3d                   0.000\n",
       "word_freq_our                  0.000\n",
       "word_freq_over                 0.000\n",
       "word_freq_remove               0.000\n",
       "word_freq_internet             0.000\n",
       "word_freq_order                0.000\n",
       "word_freq_mail                 0.000\n",
       "word_freq_receive              0.000\n",
       "word_freq_will                 0.100\n",
       "word_freq_people               0.000\n",
       "word_freq_report               0.000\n",
       "word_freq_addresses            0.000\n",
       "word_freq_free                 0.000\n",
       "word_freq_business             0.000\n",
       "word_freq_email                0.000\n",
       "word_freq_you                  1.310\n",
       "word_freq_credit               0.000\n",
       "word_freq_your                 0.220\n",
       "word_freq_font                 0.000\n",
       "word_freq_000                  0.000\n",
       "word_freq_money                0.000\n",
       "word_freq_hp                   0.000\n",
       "word_freq_hpl                  0.000\n",
       "word_freq_george               0.000\n",
       "word_freq_650                  0.000\n",
       "word_freq_lab                  0.000\n",
       "word_freq_labs                 0.000\n",
       "word_freq_telnet               0.000\n",
       "word_freq_857                  0.000\n",
       "word_freq_data                 0.000\n",
       "word_freq_415                  0.000\n",
       "word_freq_85                   0.000\n",
       "word_freq_technology           0.000\n",
       "word_freq_1999                 0.000\n",
       "word_freq_parts                0.000\n",
       "word_freq_pm                   0.000\n",
       "word_freq_direct               0.000\n",
       "word_freq_cs                   0.000\n",
       "word_freq_meeting              0.000\n",
       "word_freq_original             0.000\n",
       "word_freq_project              0.000\n",
       "word_freq_re                   0.000\n",
       "word_freq_edu                  0.000\n",
       "word_freq_table                0.000\n",
       "word_freq_conference           0.000\n",
       "char_freq_;                    0.000\n",
       "char_freq_(                    0.065\n",
       "char_freq_[                    0.000\n",
       "char_freq_!                    0.000\n",
       "char_freq_$                    0.000\n",
       "char_freq_#                    0.000\n",
       "capital_run_length_average     2.276\n",
       "capital_run_length_longest    15.000\n",
       "capital_run_length_total      95.000\n",
       "label_spam                     0.000\n",
       "dtype: float64"
      ]
     },
     "execution_count": 6,
     "metadata": {},
     "output_type": "execute_result"
    }
   ],
   "source": [
    "# Median\n",
    "dataset.median()"
   ]
  },
  {
   "cell_type": "code",
   "execution_count": 7,
   "metadata": {},
   "outputs": [
    {
     "data": {
      "text/plain": [
       "<matplotlib.collections.PathCollection at 0x1e797cc1988>"
      ]
     },
     "execution_count": 7,
     "metadata": {},
     "output_type": "execute_result"
    },
    {
     "data": {
      "image/png": "[encoded data removed]",
      "text/plain": [
       "<Figure size 432x288 with 1 Axes>"
      ]
     },
     "metadata": {
      "needs_background": "light"
     },
     "output_type": "display_data"
    }
   ],
   "source": [
    "y = np.zeros((25))\n",
    "plt.scatter(random.sample(list(dataset['capital_run_length_total']),25), y)\n",
    "plt.scatter(dataset['capital_run_length_total'].median(),0)"
   ]
  },
  {
   "cell_type": "markdown",
   "metadata": {},
   "source": [
    "### - MODE "
   ]
  },
  {
   "cell_type": "code",
   "execution_count": 8,
   "metadata": {},
   "outputs": [
    {
     "data": {
      "text/html": [
       "<div>\n",
       "<style scoped>\n",
       "    .dataframe tbody tr th:only-of-type {\n",
       "        vertical-align: middle;\n",
       "    }\n",
       "\n",
       "    .dataframe tbody tr th {\n",
       "        vertical-align: top;\n",
       "    }\n",
       "\n",
       "    .dataframe thead th {\n",
       "        text-align: right;\n",
       "    }\n",
       "</style>\n",
       "<table border=\"1\" class=\"dataframe\">\n",
       "  <thead>\n",
       "    <tr style=\"text-align: right;\">\n",
       "      <th></th>\n",
       "      <th>word_freq_make</th>\n",
       "      <th>word_freq_address</th>\n",
       "      <th>word_freq_all</th>\n",
       "      <th>word_freq_3d</th>\n",
       "      <th>word_freq_our</th>\n",
       "      <th>word_freq_over</th>\n",
       "      <th>word_freq_remove</th>\n",
       "      <th>word_freq_internet</th>\n",
       "      <th>word_freq_order</th>\n",
       "      <th>word_freq_mail</th>\n",
       "      <th>...</th>\n",
       "      <th>char_freq_;</th>\n",
       "      <th>char_freq_(</th>\n",
       "      <th>char_freq_[</th>\n",
       "      <th>char_freq_!</th>\n",
       "      <th>char_freq_$</th>\n",
       "      <th>char_freq_#</th>\n",
       "      <th>capital_run_length_average</th>\n",
       "      <th>capital_run_length_longest</th>\n",
       "      <th>capital_run_length_total</th>\n",
       "      <th>label_spam</th>\n",
       "    </tr>\n",
       "  </thead>\n",
       "  <tbody>\n",
       "    <tr>\n",
       "      <th>0</th>\n",
       "      <td>0.0</td>\n",
       "      <td>0.0</td>\n",
       "      <td>0.0</td>\n",
       "      <td>0.0</td>\n",
       "      <td>0.0</td>\n",
       "      <td>0.0</td>\n",
       "      <td>0.0</td>\n",
       "      <td>0.0</td>\n",
       "      <td>0.0</td>\n",
       "      <td>0.0</td>\n",
       "      <td>...</td>\n",
       "      <td>0.0</td>\n",
       "      <td>0.0</td>\n",
       "      <td>0.0</td>\n",
       "      <td>0.0</td>\n",
       "      <td>0.0</td>\n",
       "      <td>0.0</td>\n",
       "      <td>1.0</td>\n",
       "      <td>1</td>\n",
       "      <td>5</td>\n",
       "      <td>0</td>\n",
       "    </tr>\n",
       "  </tbody>\n",
       "</table>\n",
       "<p>1 rows × 58 columns</p>\n",
       "</div>"
      ],
      "text/plain": [
       "   word_freq_make  word_freq_address  word_freq_all  word_freq_3d  \\\n",
       "0             0.0                0.0            0.0           0.0   \n",
       "\n",
       "   word_freq_our  word_freq_over  word_freq_remove  word_freq_internet  \\\n",
       "0            0.0             0.0               0.0                 0.0   \n",
       "\n",
       "   word_freq_order  word_freq_mail  ...  char_freq_;  char_freq_(  \\\n",
       "0              0.0             0.0  ...          0.0          0.0   \n",
       "\n",
       "   char_freq_[  char_freq_!  char_freq_$  char_freq_#  \\\n",
       "0          0.0          0.0          0.0          0.0   \n",
       "\n",
       "   capital_run_length_average  capital_run_length_longest  \\\n",
       "0                         1.0                           1   \n",
       "\n",
       "   capital_run_length_total  label_spam  \n",
       "0                         5           0  \n",
       "\n",
       "[1 rows x 58 columns]"
      ]
     },
     "execution_count": 8,
     "metadata": {},
     "output_type": "execute_result"
    }
   ],
   "source": [
    "# Mode\n",
    "dataset.mode()"
   ]
  },
  {
   "cell_type": "markdown",
   "metadata": {},
   "source": [
    "### - STANDARD DEVIATION "
   ]
  },
  {
   "cell_type": "code",
   "execution_count": 9,
   "metadata": {},
   "outputs": [
    {
     "data": {
      "text/plain": [
       "word_freq_make                  0.305358\n",
       "word_freq_address               1.290575\n",
       "word_freq_all                   0.504143\n",
       "word_freq_3d                    1.395151\n",
       "word_freq_our                   0.672513\n",
       "word_freq_over                  0.273824\n",
       "word_freq_remove                0.391441\n",
       "word_freq_internet              0.401071\n",
       "word_freq_order                 0.278616\n",
       "word_freq_mail                  0.644755\n",
       "word_freq_receive               0.201545\n",
       "word_freq_will                  0.861698\n",
       "word_freq_people                0.301036\n",
       "word_freq_report                0.335184\n",
       "word_freq_addresses             0.258843\n",
       "word_freq_free                  0.825792\n",
       "word_freq_business              0.444055\n",
       "word_freq_email                 0.531122\n",
       "word_freq_you                   1.775481\n",
       "word_freq_credit                0.509767\n",
       "word_freq_your                  1.200810\n",
       "word_freq_font                  1.025756\n",
       "word_freq_000                   0.350286\n",
       "word_freq_money                 0.442636\n",
       "word_freq_hp                    1.671349\n",
       "word_freq_hpl                   0.886955\n",
       "word_freq_george                3.367292\n",
       "word_freq_650                   0.538576\n",
       "word_freq_lab                   0.593327\n",
       "word_freq_labs                  0.456682\n",
       "word_freq_telnet                0.403393\n",
       "word_freq_857                   0.328559\n",
       "word_freq_data                  0.555907\n",
       "word_freq_415                   0.329445\n",
       "word_freq_85                    0.532260\n",
       "word_freq_technology            0.402623\n",
       "word_freq_1999                  0.423451\n",
       "word_freq_parts                 0.220651\n",
       "word_freq_pm                    0.434672\n",
       "word_freq_direct                0.349916\n",
       "word_freq_cs                    0.361205\n",
       "word_freq_meeting               0.766819\n",
       "word_freq_original              0.223812\n",
       "word_freq_project               0.621976\n",
       "word_freq_re                    1.011687\n",
       "word_freq_edu                   0.911119\n",
       "word_freq_table                 0.076274\n",
       "word_freq_conference            0.285735\n",
       "char_freq_;                     0.243471\n",
       "char_freq_(                     0.270355\n",
       "char_freq_[                     0.109394\n",
       "char_freq_!                     0.815672\n",
       "char_freq_$                     0.245882\n",
       "char_freq_#                     0.429342\n",
       "capital_run_length_average     31.729449\n",
       "capital_run_length_longest    194.891310\n",
       "capital_run_length_total      606.347851\n",
       "label_spam                      0.488698\n",
       "dtype: float64"
      ]
     },
     "execution_count": 9,
     "metadata": {},
     "output_type": "execute_result"
    }
   ],
   "source": [
    "#Standard deviation\n",
    "dataset.std()"
   ]
  },
  {
   "cell_type": "markdown",
   "metadata": {},
   "source": [
    "### - VARIANCE "
   ]
  },
  {
   "cell_type": "code",
   "execution_count": 10,
   "metadata": {},
   "outputs": [
    {
     "data": {
      "text/plain": [
       "word_freq_make                     0.093243\n",
       "word_freq_address                  1.665584\n",
       "word_freq_all                      0.254160\n",
       "word_freq_3d                       1.946447\n",
       "word_freq_our                      0.452273\n",
       "word_freq_over                     0.074980\n",
       "word_freq_remove                   0.153226\n",
       "word_freq_internet                 0.160858\n",
       "word_freq_order                    0.077627\n",
       "word_freq_mail                     0.415710\n",
       "word_freq_receive                  0.040620\n",
       "word_freq_will                     0.742524\n",
       "word_freq_people                   0.090623\n",
       "word_freq_report                   0.112348\n",
       "word_freq_addresses                0.067000\n",
       "word_freq_free                     0.681932\n",
       "word_freq_business                 0.197185\n",
       "word_freq_email                    0.282091\n",
       "word_freq_you                      3.152332\n",
       "word_freq_credit                   0.259862\n",
       "word_freq_your                     1.441944\n",
       "word_freq_font                     1.052175\n",
       "word_freq_000                      0.122701\n",
       "word_freq_money                    0.195926\n",
       "word_freq_hp                       2.793409\n",
       "word_freq_hpl                      0.786690\n",
       "word_freq_george                  11.338654\n",
       "word_freq_650                      0.290064\n",
       "word_freq_lab                      0.352036\n",
       "word_freq_labs                     0.208558\n",
       "word_freq_telnet                   0.162726\n",
       "word_freq_857                      0.107951\n",
       "word_freq_data                     0.309033\n",
       "word_freq_415                      0.108534\n",
       "word_freq_85                       0.283301\n",
       "word_freq_technology               0.162105\n",
       "word_freq_1999                     0.179311\n",
       "word_freq_parts                    0.048687\n",
       "word_freq_pm                       0.188940\n",
       "word_freq_direct                   0.122441\n",
       "word_freq_cs                       0.130469\n",
       "word_freq_meeting                  0.588012\n",
       "word_freq_original                 0.050092\n",
       "word_freq_project                  0.386854\n",
       "word_freq_re                       1.023511\n",
       "word_freq_edu                      0.830138\n",
       "word_freq_table                    0.005818\n",
       "word_freq_conference               0.081644\n",
       "char_freq_;                        0.059278\n",
       "char_freq_(                        0.073092\n",
       "char_freq_[                        0.011967\n",
       "char_freq_!                        0.665320\n",
       "char_freq_$                        0.060458\n",
       "char_freq_#                        0.184335\n",
       "capital_run_length_average      1006.757917\n",
       "capital_run_length_longest     37982.622529\n",
       "capital_run_length_total      367657.716079\n",
       "label_spam                         0.238825\n",
       "dtype: float64"
      ]
     },
     "execution_count": 10,
     "metadata": {},
     "output_type": "execute_result"
    }
   ],
   "source": [
    "# Variance\n",
    "dataset.var()"
   ]
  },
  {
   "cell_type": "markdown",
   "metadata": {},
   "source": [
    "### - INTERQUARTILE RANGE"
   ]
  },
  {
   "cell_type": "code",
   "execution_count": 11,
   "metadata": {},
   "outputs": [
    {
     "name": "stdout",
     "output_type": "stream",
     "text": [
      "word_freq_make: 0.0\n",
      "word_freq_address: 0.0\n",
      "word_freq_all: 0.42\n",
      "word_freq_3d: 0.0\n",
      "word_freq_our: 0.38\n",
      "word_freq_over: 0.0\n",
      "word_freq_remove: 0.0\n",
      "word_freq_internet: 0.0\n",
      "word_freq_order: 0.0\n",
      "word_freq_mail: 0.16\n",
      "word_freq_receive: 0.0\n",
      "word_freq_will: 0.8\n",
      "word_freq_people: 0.0\n",
      "word_freq_report: 0.0\n",
      "word_freq_addresses: 0.0\n",
      "word_freq_free: 0.1\n",
      "word_freq_business: 0.0\n",
      "word_freq_email: 0.0\n",
      "word_freq_you: 2.64\n",
      "word_freq_credit: 0.0\n",
      "word_freq_your: 1.27\n",
      "word_freq_font: 0.0\n",
      "word_freq_000: 0.0\n",
      "word_freq_money: 0.0\n",
      "word_freq_hp: 0.0\n",
      "word_freq_hpl: 0.0\n",
      "word_freq_george: 0.0\n",
      "word_freq_650: 0.0\n",
      "word_freq_lab: 0.0\n",
      "word_freq_labs: 0.0\n",
      "word_freq_telnet: 0.0\n",
      "word_freq_857: 0.0\n",
      "word_freq_data: 0.0\n",
      "word_freq_415: 0.0\n",
      "word_freq_85: 0.0\n",
      "word_freq_technology: 0.0\n",
      "word_freq_1999: 0.0\n",
      "word_freq_parts: 0.0\n",
      "word_freq_pm: 0.0\n",
      "word_freq_direct: 0.0\n",
      "word_freq_cs: 0.0\n",
      "word_freq_meeting: 0.0\n",
      "word_freq_original: 0.0\n",
      "word_freq_project: 0.0\n",
      "word_freq_re: 0.11\n",
      "word_freq_edu: 0.0\n",
      "word_freq_table: 0.0\n",
      "word_freq_conference: 0.0\n",
      "char_freq_;: 0.0\n",
      "char_freq_(: 0.188\n",
      "char_freq_[: 0.0\n",
      "char_freq_!: 0.315\n",
      "char_freq_$: 0.052000000000000005\n",
      "char_freq_#: 0.0\n",
      "capital_run_length_average: 2.1180000000000003\n",
      "capital_run_length_longest: 37.0\n",
      "capital_run_length_total: 231.0\n",
      "label_spam: 1.0\n"
     ]
    }
   ],
   "source": [
    "# Interquartile Range\n",
    "for column in dataset.columns:\n",
    "    print(column + \": \"+ str(iqr(dataset[column])))"
   ]
  },
  {
   "cell_type": "markdown",
   "metadata": {},
   "source": [
    "### - SKEWNESS"
   ]
  },
  {
   "cell_type": "code",
   "execution_count": 12,
   "metadata": {},
   "outputs": [
    {
     "data": {
      "text/plain": [
       "word_freq_make                 5.675639\n",
       "word_freq_address             10.086811\n",
       "word_freq_all                  3.009249\n",
       "word_freq_3d                  26.227744\n",
       "word_freq_our                  4.747126\n",
       "word_freq_over                 5.956953\n",
       "word_freq_remove               6.765580\n",
       "word_freq_internet             9.724848\n",
       "word_freq_order                5.226067\n",
       "word_freq_mail                 8.487810\n",
       "word_freq_receive              5.510250\n",
       "word_freq_will                 2.867354\n",
       "word_freq_people               6.955548\n",
       "word_freq_report              11.754645\n",
       "word_freq_addresses            6.971041\n",
       "word_freq_free                10.763594\n",
       "word_freq_business             5.688642\n",
       "word_freq_email                5.413754\n",
       "word_freq_you                  1.591674\n",
       "word_freq_credit              14.602587\n",
       "word_freq_your                 2.435527\n",
       "word_freq_font                 9.975441\n",
       "word_freq_000                  5.713775\n",
       "word_freq_money               14.687028\n",
       "word_freq_hp                   5.716843\n",
       "word_freq_hpl                  6.350012\n",
       "word_freq_george               5.744493\n",
       "word_freq_650                  6.606534\n",
       "word_freq_lab                 11.370232\n",
       "word_freq_labs                 6.636015\n",
       "word_freq_telnet              12.669081\n",
       "word_freq_857                 10.549184\n",
       "word_freq_data                13.190056\n",
       "word_freq_415                 10.475181\n",
       "word_freq_85                  15.230811\n",
       "word_freq_technology           7.673461\n",
       "word_freq_1999                 5.323492\n",
       "word_freq_parts               28.263216\n",
       "word_freq_pm                  12.056912\n",
       "word_freq_direct               9.147029\n",
       "word_freq_cs                  12.587900\n",
       "word_freq_meeting              9.455755\n",
       "word_freq_original             7.629228\n",
       "word_freq_project             18.771515\n",
       "word_freq_re                   9.146093\n",
       "word_freq_edu                 10.122663\n",
       "word_freq_table               19.867691\n",
       "word_freq_conference          19.720446\n",
       "char_freq_;                   13.708621\n",
       "char_freq_(                   13.583755\n",
       "char_freq_[                   21.083545\n",
       "char_freq_!                   18.658004\n",
       "char_freq_$                   11.163141\n",
       "char_freq_#                   31.062064\n",
       "capital_run_length_average    23.761923\n",
       "capital_run_length_longest    30.764993\n",
       "capital_run_length_total       8.709850\n",
       "label_spam                     0.433811\n",
       "dtype: float64"
      ]
     },
     "execution_count": 12,
     "metadata": {},
     "output_type": "execute_result"
    }
   ],
   "source": [
    "# Skewness\n",
    "dataset.skew()"
   ]
  },
  {
   "cell_type": "markdown",
   "metadata": {},
   "source": [
    "### - KURTOSIS"
   ]
  },
  {
   "cell_type": "code",
   "execution_count": 13,
   "metadata": {},
   "outputs": [
    {
     "data": {
      "text/plain": [
       "word_freq_make                  49.305064\n",
       "word_freq_address              105.647472\n",
       "word_freq_all                   13.308743\n",
       "word_freq_3d                   726.451538\n",
       "word_freq_our                   37.941169\n",
       "word_freq_over                  68.445258\n",
       "word_freq_remove                75.413439\n",
       "word_freq_internet             169.162876\n",
       "word_freq_order                 46.940256\n",
       "word_freq_mail                 161.214641\n",
       "word_freq_receive               39.650945\n",
       "word_freq_will                  12.550747\n",
       "word_freq_people                84.941822\n",
       "word_freq_report               229.201271\n",
       "word_freq_addresses             57.727676\n",
       "word_freq_free                 196.424975\n",
       "word_freq_business              45.673775\n",
       "word_freq_email                 47.961674\n",
       "word_freq_you                    5.257394\n",
       "word_freq_credit               383.001882\n",
       "word_freq_your                   9.009506\n",
       "word_freq_font                 109.142325\n",
       "word_freq_000                   46.807860\n",
       "word_freq_money                302.056409\n",
       "word_freq_hp                    43.603634\n",
       "word_freq_hpl                   63.900394\n",
       "word_freq_george                34.204476\n",
       "word_freq_650                   58.373022\n",
       "word_freq_lab                  175.248251\n",
       "word_freq_labs                  52.006798\n",
       "word_freq_telnet               254.232509\n",
       "word_freq_857                  127.376529\n",
       "word_freq_data                 296.088338\n",
       "word_freq_415                  125.943332\n",
       "word_freq_85                   449.374271\n",
       "word_freq_technology            81.207276\n",
       "word_freq_1999                  42.621043\n",
       "word_freq_parts                912.045722\n",
       "word_freq_pm                   215.718144\n",
       "word_freq_direct                99.386561\n",
       "word_freq_cs                   193.619294\n",
       "word_freq_meeting              115.705974\n",
       "word_freq_original              78.572357\n",
       "word_freq_project              479.830907\n",
       "word_freq_re                   128.864672\n",
       "word_freq_edu                  150.899817\n",
       "word_freq_table                459.433463\n",
       "word_freq_conference           537.493007\n",
       "char_freq_;                    213.068194\n",
       "char_freq_(                    393.415158\n",
       "char_freq_[                    618.475610\n",
       "char_freq_!                    607.455685\n",
       "char_freq_$                    199.953692\n",
       "char_freq_#                   1218.493647\n",
       "capital_run_length_average     670.368705\n",
       "capital_run_length_longest    1480.642050\n",
       "capital_run_length_total       145.829814\n",
       "label_spam                      -1.812596\n",
       "dtype: float64"
      ]
     },
     "execution_count": 13,
     "metadata": {},
     "output_type": "execute_result"
    }
   ],
   "source": [
    "# Kurtosis\n",
    "dataset.kurt()"
   ]
  },
  {
   "cell_type": "markdown",
   "metadata": {},
   "source": [
    "# Deskriptivna analiza - pregled "
   ]
  },
  {
   "cell_type": "code",
   "execution_count": 14,
   "metadata": {},
   "outputs": [
    {
     "data": {
      "text/html": [
       "<div>\n",
       "<style scoped>\n",
       "    .dataframe tbody tr th:only-of-type {\n",
       "        vertical-align: middle;\n",
       "    }\n",
       "\n",
       "    .dataframe tbody tr th {\n",
       "        vertical-align: top;\n",
       "    }\n",
       "\n",
       "    .dataframe thead th {\n",
       "        text-align: right;\n",
       "    }\n",
       "</style>\n",
       "<table border=\"1\" class=\"dataframe\">\n",
       "  <thead>\n",
       "    <tr style=\"text-align: right;\">\n",
       "      <th></th>\n",
       "      <th>word_freq_make</th>\n",
       "      <th>word_freq_address</th>\n",
       "      <th>word_freq_all</th>\n",
       "      <th>word_freq_3d</th>\n",
       "      <th>word_freq_our</th>\n",
       "      <th>word_freq_over</th>\n",
       "      <th>word_freq_remove</th>\n",
       "      <th>word_freq_internet</th>\n",
       "      <th>word_freq_order</th>\n",
       "      <th>word_freq_mail</th>\n",
       "      <th>...</th>\n",
       "      <th>char_freq_;</th>\n",
       "      <th>char_freq_(</th>\n",
       "      <th>char_freq_[</th>\n",
       "      <th>char_freq_!</th>\n",
       "      <th>char_freq_$</th>\n",
       "      <th>char_freq_#</th>\n",
       "      <th>capital_run_length_average</th>\n",
       "      <th>capital_run_length_longest</th>\n",
       "      <th>capital_run_length_total</th>\n",
       "      <th>label_spam</th>\n",
       "    </tr>\n",
       "  </thead>\n",
       "  <tbody>\n",
       "    <tr>\n",
       "      <th>count</th>\n",
       "      <td>4601.000000</td>\n",
       "      <td>4601.000000</td>\n",
       "      <td>4601.000000</td>\n",
       "      <td>4601.000000</td>\n",
       "      <td>4601.000000</td>\n",
       "      <td>4601.000000</td>\n",
       "      <td>4601.000000</td>\n",
       "      <td>4601.000000</td>\n",
       "      <td>4601.000000</td>\n",
       "      <td>4601.000000</td>\n",
       "      <td>...</td>\n",
       "      <td>4601.000000</td>\n",
       "      <td>4601.000000</td>\n",
       "      <td>4601.000000</td>\n",
       "      <td>4601.000000</td>\n",
       "      <td>4601.000000</td>\n",
       "      <td>4601.000000</td>\n",
       "      <td>4601.000000</td>\n",
       "      <td>4601.000000</td>\n",
       "      <td>4601.000000</td>\n",
       "      <td>4601.000000</td>\n",
       "    </tr>\n",
       "    <tr>\n",
       "      <th>mean</th>\n",
       "      <td>0.104553</td>\n",
       "      <td>0.213015</td>\n",
       "      <td>0.280656</td>\n",
       "      <td>0.065425</td>\n",
       "      <td>0.312223</td>\n",
       "      <td>0.095901</td>\n",
       "      <td>0.114208</td>\n",
       "      <td>0.105295</td>\n",
       "      <td>0.090067</td>\n",
       "      <td>0.239413</td>\n",
       "      <td>...</td>\n",
       "      <td>0.038575</td>\n",
       "      <td>0.139030</td>\n",
       "      <td>0.016976</td>\n",
       "      <td>0.269071</td>\n",
       "      <td>0.075811</td>\n",
       "      <td>0.044238</td>\n",
       "      <td>5.191515</td>\n",
       "      <td>52.172789</td>\n",
       "      <td>283.289285</td>\n",
       "      <td>0.394045</td>\n",
       "    </tr>\n",
       "    <tr>\n",
       "      <th>std</th>\n",
       "      <td>0.305358</td>\n",
       "      <td>1.290575</td>\n",
       "      <td>0.504143</td>\n",
       "      <td>1.395151</td>\n",
       "      <td>0.672513</td>\n",
       "      <td>0.273824</td>\n",
       "      <td>0.391441</td>\n",
       "      <td>0.401071</td>\n",
       "      <td>0.278616</td>\n",
       "      <td>0.644755</td>\n",
       "      <td>...</td>\n",
       "      <td>0.243471</td>\n",
       "      <td>0.270355</td>\n",
       "      <td>0.109394</td>\n",
       "      <td>0.815672</td>\n",
       "      <td>0.245882</td>\n",
       "      <td>0.429342</td>\n",
       "      <td>31.729449</td>\n",
       "      <td>194.891310</td>\n",
       "      <td>606.347851</td>\n",
       "      <td>0.488698</td>\n",
       "    </tr>\n",
       "    <tr>\n",
       "      <th>min</th>\n",
       "      <td>0.000000</td>\n",
       "      <td>0.000000</td>\n",
       "      <td>0.000000</td>\n",
       "      <td>0.000000</td>\n",
       "      <td>0.000000</td>\n",
       "      <td>0.000000</td>\n",
       "      <td>0.000000</td>\n",
       "      <td>0.000000</td>\n",
       "      <td>0.000000</td>\n",
       "      <td>0.000000</td>\n",
       "      <td>...</td>\n",
       "      <td>0.000000</td>\n",
       "      <td>0.000000</td>\n",
       "      <td>0.000000</td>\n",
       "      <td>0.000000</td>\n",
       "      <td>0.000000</td>\n",
       "      <td>0.000000</td>\n",
       "      <td>1.000000</td>\n",
       "      <td>1.000000</td>\n",
       "      <td>1.000000</td>\n",
       "      <td>0.000000</td>\n",
       "    </tr>\n",
       "    <tr>\n",
       "      <th>25%</th>\n",
       "      <td>0.000000</td>\n",
       "      <td>0.000000</td>\n",
       "      <td>0.000000</td>\n",
       "      <td>0.000000</td>\n",
       "      <td>0.000000</td>\n",
       "      <td>0.000000</td>\n",
       "      <td>0.000000</td>\n",
       "      <td>0.000000</td>\n",
       "      <td>0.000000</td>\n",
       "      <td>0.000000</td>\n",
       "      <td>...</td>\n",
       "      <td>0.000000</td>\n",
       "      <td>0.000000</td>\n",
       "      <td>0.000000</td>\n",
       "      <td>0.000000</td>\n",
       "      <td>0.000000</td>\n",
       "      <td>0.000000</td>\n",
       "      <td>1.588000</td>\n",
       "      <td>6.000000</td>\n",
       "      <td>35.000000</td>\n",
       "      <td>0.000000</td>\n",
       "    </tr>\n",
       "    <tr>\n",
       "      <th>50%</th>\n",
       "      <td>0.000000</td>\n",
       "      <td>0.000000</td>\n",
       "      <td>0.000000</td>\n",
       "      <td>0.000000</td>\n",
       "      <td>0.000000</td>\n",
       "      <td>0.000000</td>\n",
       "      <td>0.000000</td>\n",
       "      <td>0.000000</td>\n",
       "      <td>0.000000</td>\n",
       "      <td>0.000000</td>\n",
       "      <td>...</td>\n",
       "      <td>0.000000</td>\n",
       "      <td>0.065000</td>\n",
       "      <td>0.000000</td>\n",
       "      <td>0.000000</td>\n",
       "      <td>0.000000</td>\n",
       "      <td>0.000000</td>\n",
       "      <td>2.276000</td>\n",
       "      <td>15.000000</td>\n",
       "      <td>95.000000</td>\n",
       "      <td>0.000000</td>\n",
       "    </tr>\n",
       "    <tr>\n",
       "      <th>75%</th>\n",
       "      <td>0.000000</td>\n",
       "      <td>0.000000</td>\n",
       "      <td>0.420000</td>\n",
       "      <td>0.000000</td>\n",
       "      <td>0.380000</td>\n",
       "      <td>0.000000</td>\n",
       "      <td>0.000000</td>\n",
       "      <td>0.000000</td>\n",
       "      <td>0.000000</td>\n",
       "      <td>0.160000</td>\n",
       "      <td>...</td>\n",
       "      <td>0.000000</td>\n",
       "      <td>0.188000</td>\n",
       "      <td>0.000000</td>\n",
       "      <td>0.315000</td>\n",
       "      <td>0.052000</td>\n",
       "      <td>0.000000</td>\n",
       "      <td>3.706000</td>\n",
       "      <td>43.000000</td>\n",
       "      <td>266.000000</td>\n",
       "      <td>1.000000</td>\n",
       "    </tr>\n",
       "    <tr>\n",
       "      <th>max</th>\n",
       "      <td>4.540000</td>\n",
       "      <td>14.280000</td>\n",
       "      <td>5.100000</td>\n",
       "      <td>42.810000</td>\n",
       "      <td>10.000000</td>\n",
       "      <td>5.880000</td>\n",
       "      <td>7.270000</td>\n",
       "      <td>11.110000</td>\n",
       "      <td>5.260000</td>\n",
       "      <td>18.180000</td>\n",
       "      <td>...</td>\n",
       "      <td>4.385000</td>\n",
       "      <td>9.752000</td>\n",
       "      <td>4.081000</td>\n",
       "      <td>32.478000</td>\n",
       "      <td>6.003000</td>\n",
       "      <td>19.829000</td>\n",
       "      <td>1102.500000</td>\n",
       "      <td>9989.000000</td>\n",
       "      <td>15841.000000</td>\n",
       "      <td>1.000000</td>\n",
       "    </tr>\n",
       "  </tbody>\n",
       "</table>\n",
       "<p>8 rows × 58 columns</p>\n",
       "</div>"
      ],
      "text/plain": [
       "       word_freq_make  word_freq_address  word_freq_all  word_freq_3d  \\\n",
       "count     4601.000000        4601.000000    4601.000000   4601.000000   \n",
       "mean         0.104553           0.213015       0.280656      0.065425   \n",
       "std          0.305358           1.290575       0.504143      1.395151   \n",
       "min          0.000000           0.000000       0.000000      0.000000   \n",
       "25%          0.000000           0.000000       0.000000      0.000000   \n",
       "50%          0.000000           0.000000       0.000000      0.000000   \n",
       "75%          0.000000           0.000000       0.420000      0.000000   \n",
       "max          4.540000          14.280000       5.100000     42.810000   \n",
       "\n",
       "       word_freq_our  word_freq_over  word_freq_remove  word_freq_internet  \\\n",
       "count    4601.000000     4601.000000       4601.000000         4601.000000   \n",
       "mean        0.312223        0.095901          0.114208            0.105295   \n",
       "std         0.672513        0.273824          0.391441            0.401071   \n",
       "min         0.000000        0.000000          0.000000            0.000000   \n",
       "25%         0.000000        0.000000          0.000000            0.000000   \n",
       "50%         0.000000        0.000000          0.000000            0.000000   \n",
       "75%         0.380000        0.000000          0.000000            0.000000   \n",
       "max        10.000000        5.880000          7.270000           11.110000   \n",
       "\n",
       "       word_freq_order  word_freq_mail  ...  char_freq_;  char_freq_(  \\\n",
       "count      4601.000000     4601.000000  ...  4601.000000  4601.000000   \n",
       "mean          0.090067        0.239413  ...     0.038575     0.139030   \n",
       "std           0.278616        0.644755  ...     0.243471     0.270355   \n",
       "min           0.000000        0.000000  ...     0.000000     0.000000   \n",
       "25%           0.000000        0.000000  ...     0.000000     0.000000   \n",
       "50%           0.000000        0.000000  ...     0.000000     0.065000   \n",
       "75%           0.000000        0.160000  ...     0.000000     0.188000   \n",
       "max           5.260000       18.180000  ...     4.385000     9.752000   \n",
       "\n",
       "       char_freq_[  char_freq_!  char_freq_$  char_freq_#  \\\n",
       "count  4601.000000  4601.000000  4601.000000  4601.000000   \n",
       "mean      0.016976     0.269071     0.075811     0.044238   \n",
       "std       0.109394     0.815672     0.245882     0.429342   \n",
       "min       0.000000     0.000000     0.000000     0.000000   \n",
       "25%       0.000000     0.000000     0.000000     0.000000   \n",
       "50%       0.000000     0.000000     0.000000     0.000000   \n",
       "75%       0.000000     0.315000     0.052000     0.000000   \n",
       "max       4.081000    32.478000     6.003000    19.829000   \n",
       "\n",
       "       capital_run_length_average  capital_run_length_longest  \\\n",
       "count                 4601.000000                 4601.000000   \n",
       "mean                     5.191515                   52.172789   \n",
       "std                     31.729449                  194.891310   \n",
       "min                      1.000000                    1.000000   \n",
       "25%                      1.588000                    6.000000   \n",
       "50%                      2.276000                   15.000000   \n",
       "75%                      3.706000                   43.000000   \n",
       "max                   1102.500000                 9989.000000   \n",
       "\n",
       "       capital_run_length_total   label_spam  \n",
       "count               4601.000000  4601.000000  \n",
       "mean                 283.289285     0.394045  \n",
       "std                  606.347851     0.488698  \n",
       "min                    1.000000     0.000000  \n",
       "25%                   35.000000     0.000000  \n",
       "50%                   95.000000     0.000000  \n",
       "75%                  266.000000     1.000000  \n",
       "max                15841.000000     1.000000  \n",
       "\n",
       "[8 rows x 58 columns]"
      ]
     },
     "execution_count": 14,
     "metadata": {},
     "output_type": "execute_result"
    }
   ],
   "source": [
    "# Descriptive analysis\n",
    "dataset.describe()"
   ]
  },
  {
   "cell_type": "markdown",
   "metadata": {},
   "source": [
    "### Raspodela podataka po klasama (SPAM or NOT SPAM)"
   ]
  },
  {
   "cell_type": "code",
   "execution_count": 15,
   "metadata": {},
   "outputs": [
    {
     "name": "stdout",
     "output_type": "stream",
     "text": [
      "#NOT SPAM:  2788\n",
      "#SPAM:  1813\n"
     ]
    },
    {
     "data": {
      "image/png": "[encoded data removed]",
      "text/plain": [
       "<Figure size 432x288 with 1 Axes>"
      ]
     },
     "metadata": {
      "needs_background": "light"
     },
     "output_type": "display_data"
    }
   ],
   "source": [
    "not_spam_count, spam_count = dataset['label_spam'].value_counts()\n",
    "plt.barh([\"#not_spam\",\"#spam\"], [not_spam_count, spam_count])\n",
    "print(\"#NOT SPAM:  \"+str(not_spam_count))\n",
    "print(\"#SPAM:  \"+ str(spam_count))"
   ]
  },
  {
   "cell_type": "markdown",
   "metadata": {},
   "source": [
    "### Balansiranje dataseta - UNDERSAMPLING\n",
    "#### Izbacivanje random uzoraka iz klase sa većim brojem instanci"
   ]
  },
  {
   "cell_type": "code",
   "execution_count": 16,
   "metadata": {},
   "outputs": [
    {
     "name": "stdout",
     "output_type": "stream",
     "text": [
      "#NOT SPAM:  1813\n",
      "#SPAM:  1813\n"
     ]
    },
    {
     "data": {
      "text/plain": [
       "<BarContainer object of 2 artists>"
      ]
     },
     "execution_count": 16,
     "metadata": {},
     "output_type": "execute_result"
    },
    {
     "data": {
      "image/png": "[encoded data removed]",
      "text/plain": [
       "<Figure size 432x288 with 1 Axes>"
      ]
     },
     "metadata": {
      "needs_background": "light"
     },
     "output_type": "display_data"
    }
   ],
   "source": [
    "#Solving unbalanced dataset \n",
    "#1 undersampling\n",
    "\n",
    "df_majority_US = dataset[dataset.label_spam == 0]\n",
    "df_minority_US = dataset[dataset.label_spam == 1]\n",
    "\n",
    "df_majority_undersampled = resample(df_majority_US, replace = False, n_samples = 1813, random_state = 123)\n",
    "df_undersampled = pd.concat([df_majority_undersampled, df_minority_US])\n",
    "undersampled_not_spam, undersampled_spam = df_undersampled .label_spam.value_counts()\n",
    "print(\"#NOT SPAM:  \"+str(undersampled_not_spam))\n",
    "print(\"#SPAM:  \"+ str(undersampled_spam))\n",
    "plt.barh([\"#not_spam\",\"#spam\"], [undersampled_not_spam, undersampled_spam])"
   ]
  },
  {
   "cell_type": "markdown",
   "metadata": {},
   "source": [
    "### Balansiranje stabla - OVERSAMPLING\n",
    "\n",
    "#### Dodavanje duplikata iz klase sa manjim brojem instanci"
   ]
  },
  {
   "cell_type": "code",
   "execution_count": 17,
   "metadata": {},
   "outputs": [
    {
     "name": "stdout",
     "output_type": "stream",
     "text": [
      "#NOT SPAM:  2788\n",
      "#SPAM:  2788\n"
     ]
    },
    {
     "data": {
      "text/plain": [
       "<BarContainer object of 2 artists>"
      ]
     },
     "execution_count": 17,
     "metadata": {},
     "output_type": "execute_result"
    },
    {
     "data": {
      "image/png": "[encoded data removed]",
      "text/plain": [
       "<Figure size 432x288 with 1 Axes>"
      ]
     },
     "metadata": {
      "needs_background": "light"
     },
     "output_type": "display_data"
    }
   ],
   "source": [
    "#2 oversampling\n",
    "df_majority_OS = dataset[dataset.label_spam==0]\n",
    "df_minority_OS = dataset[dataset.label_spam==1]\n",
    "df_minority_upsampled = resample(df_minority_OS, \n",
    "                                 replace=True,     # sample with replacement\n",
    "                                 n_samples=2788,    # to match majority class\n",
    "                                 random_state=123)\n",
    "df_upsampled = pd.concat([df_majority_OS, df_minority_upsampled])\n",
    "oversampled_not_spam, oversampled_spam = df_upsampled.label_spam.value_counts()\n",
    "print(\"#NOT SPAM:  \"+str(oversampled_not_spam))\n",
    "print(\"#SPAM:  \"+ str(oversampled_spam))\n",
    "plt.barh([\"#not_spam\",\"#spam\"], [oversampled_not_spam, oversampled_spam])"
   ]
  },
  {
   "cell_type": "markdown",
   "metadata": {},
   "source": [
    "# Priprema dataseta za podelu na train i test"
   ]
  },
  {
   "cell_type": "code",
   "execution_count": 18,
   "metadata": {},
   "outputs": [],
   "source": [
    "X_imbalanced = dataset.drop(\"label_spam\",axis = 1).values\n",
    "y_imbalanced = dataset[\"label_spam\"].values\n",
    "\n",
    "X_undersampled = df_undersampled.drop(\"label_spam\",axis = 1).values\n",
    "y_undersampled = df_undersampled[\"label_spam\"].values\n",
    "\n",
    "X_upsampled = df_upsampled.drop(\"label_spam\",axis = 1).values\n",
    "y_upsampled = df_upsampled[\"label_spam\"].values"
   ]
  },
  {
   "cell_type": "code",
   "execution_count": 57,
   "metadata": {},
   "outputs": [],
   "source": [
    "X_train_undersampled,X_test_undersampled, y_train_undersampled, y_test_undersampled = train_test_split(X_undersampled,y_undersampled,test_size = 0.2, random_state = 1)\n",
    "X_train_upsampled,X_test_upsampled, y_train_upsampled, y_test_upsampled = train_test_split(X_upsampled,y_upsampled,test_size = 0.2, random_state = 1)\n",
    "X_train_imbalanced,X_test_imbalanced, y_train_imbalanced, y_test_imbalanced = train_test_split(X_imbalanced,y_imbalanced,test_size = 0.2, random_state = 1)"
   ]
  },
  {
   "cell_type": "markdown",
   "metadata": {},
   "source": [
    "# Algoritmi za predikciju\n",
    "### LOGISTIC REGRESSION"
   ]
  },
  {
   "cell_type": "code",
   "execution_count": 58,
   "metadata": {},
   "outputs": [],
   "source": [
    "logistic_regression_model_imbalanced = LogisticRegression(max_iter = 3000)\n",
    "logistic_regression_model_imbalanced.fit(X_train_imbalanced,y_train_imbalanced)\n",
    "prediction_imbalanced = logistic_regression_model_imbalanced.predict(X_test_imbalanced)"
   ]
  },
  {
   "cell_type": "code",
   "execution_count": 59,
   "metadata": {
    "scrolled": true
   },
   "outputs": [],
   "source": [
    "logistic_regression_model_undersampled = LogisticRegression(max_iter = 3000)\n",
    "logistic_regression_model_undersampled.fit(X_train_undersampled,y_train_undersampled)\n",
    "prediction_undersampled = logistic_regression_model_undersampled.predict(X_test_undersampled)"
   ]
  },
  {
   "cell_type": "code",
   "execution_count": 60,
   "metadata": {},
   "outputs": [],
   "source": [
    "logistic_regression_model_upsampled = LogisticRegression(max_iter = 3000)\n",
    "logistic_regression_model_upsampled.fit(X_train_upsampled,y_train_upsampled)\n",
    "prediction_upsampled = logistic_regression_model_upsampled.predict(X_test_upsampled)\n"
   ]
  },
  {
   "cell_type": "markdown",
   "metadata": {},
   "source": [
    "#### Različite metrike za evaluaciju prediktivnog algoritma"
   ]
  },
  {
   "cell_type": "code",
   "execution_count": 61,
   "metadata": {},
   "outputs": [],
   "source": [
    "conf_matrix_imbalanced = confusion_matrix(y_true=y_test_imbalanced,y_pred=prediction_imbalanced)\n",
    "TP_imbalanced = conf_matrix_imbalanced[1,1]\n",
    "TN_imbalanced = conf_matrix_imbalanced[0,0]\n",
    "FP_imbalanced = conf_matrix_imbalanced[0,1]\n",
    "FN_imbalanced = conf_matrix_imbalanced[1,0]\n",
    "sensitivity_imbalanced = TP_imbalanced/(TP_imbalanced+FN_imbalanced)\n",
    "specificity_imbalanced = TN_imbalanced/(TN_imbalanced+FP_imbalanced)\n",
    "accuracy_imbalanced = accuracy_score(y_test_imbalanced,prediction_imbalanced)*100\n",
    "f1_imbalanced = f1_score(y_test_imbalanced, prediction_imbalanced)\n",
    "precision_imbalanced = precision_score(y_test_imbalanced, prediction_imbalanced)\n",
    "recall_imbalanced = recall_score(y_test_imbalanced, prediction_imbalanced)"
   ]
  },
  {
   "cell_type": "code",
   "execution_count": 62,
   "metadata": {},
   "outputs": [
    {
     "name": "stdout",
     "output_type": "stream",
     "text": [
      "Accuracy:  93.70249728555918\n",
      "F1 Score:  0.9169054441260746\n",
      "Precision:  0.9384164222873901\n",
      "Recall:  0.896358543417367\n",
      "Specificity:  0.9627659574468085\n",
      "Sensitivity:  0.896358543417367\n",
      "True positive:  320\n",
      "False positive:  21\n",
      "True negative:  543\n",
      "False negative:  37\n"
     ]
    }
   ],
   "source": [
    "print(\"Accuracy: \", accuracy_imbalanced)\n",
    "print(\"F1 Score: \", f1_imbalanced)\n",
    "print(\"Precision: \", precision_imbalanced)\n",
    "print(\"Recall: \", recall_imbalanced)\n",
    "print(\"Specificity: \", specificity_imbalanced)\n",
    "print(\"Sensitivity: \", sensitivity_imbalanced)\n",
    "print(\"True positive: \", TP_imbalanced)\n",
    "print(\"False positive: \", FP_imbalanced)\n",
    "print(\"True negative: \", TN_imbalanced)\n",
    "print(\"False negative: \", FN_imbalanced)"
   ]
  },
  {
   "cell_type": "code",
   "execution_count": 22,
   "metadata": {},
   "outputs": [],
   "source": [
    "conf_matrix_undersampled = confusion_matrix(y_true=y_test_undersampled,y_pred=prediction_undersampled)\n",
    "TP_undersampled = conf_matrix_undersampled[1,1]\n",
    "TN_undersampled = conf_matrix_undersampled[0,0]\n",
    "FP_undersampled = conf_matrix_undersampled[0,1]\n",
    "FN_undersampled = conf_matrix_undersampled[1,0]\n",
    "sensitivity_undersampled = TP_undersampled/(TP_undersampled+FN_undersampled)\n",
    "specificity_undersampled = TN_undersampled/(TN_undersampled+FP_undersampled)\n",
    "accuracy_undersampled = accuracy_score(y_test_undersampled,prediction_undersampled)*100\n",
    "f1_undersampled = f1_score(y_test_undersampled, prediction_undersampled)\n",
    "precision_undersampled = precision_score(y_test_undersampled, prediction_undersampled)\n",
    "recall_undersampled = recall_score(y_test_undersampled, prediction_undersampled)"
   ]
  },
  {
   "cell_type": "markdown",
   "metadata": {},
   "source": [
    "#### Prikaz dobijenih evaluacionih parametara"
   ]
  },
  {
   "cell_type": "code",
   "execution_count": 23,
   "metadata": {},
   "outputs": [
    {
     "name": "stdout",
     "output_type": "stream",
     "text": [
      "Accuracy:  92.01101928374655\n",
      "F1 Score:  0.9171428571428571\n",
      "Precision:  0.9277456647398844\n",
      "Recall:  0.9067796610169492\n",
      "Specificity:  0.9327956989247311\n",
      "Sensitivity:  0.9067796610169492\n",
      "True positive:  321\n",
      "False positive:  25\n",
      "True negative:  347\n",
      "False negative:  33\n"
     ]
    }
   ],
   "source": [
    "print(\"Accuracy: \", accuracy_undersampled)\n",
    "print(\"F1 Score: \", f1_undersampled)\n",
    "print(\"Precision: \", precision_undersampled)\n",
    "print(\"Recall: \", recall_undersampled)\n",
    "print(\"Specificity: \", specificity_undersampled)\n",
    "print(\"Sensitivity: \", sensitivity_undersampled)\n",
    "print(\"True positive: \", TP_undersampled)\n",
    "print(\"False positive: \", FP_undersampled)\n",
    "print(\"True negative: \", TN_undersampled)\n",
    "print(\"False negative: \", FN_undersampled)"
   ]
  },
  {
   "cell_type": "code",
   "execution_count": 24,
   "metadata": {},
   "outputs": [],
   "source": [
    "conf_matrix_upsampled = confusion_matrix(y_true=y_test_upsampled,y_pred=prediction_upsampled)\n",
    "TP_upsampled = conf_matrix_upsampled[1,1]\n",
    "TN_upsampled = conf_matrix_upsampled[0,0]\n",
    "FP_upsampled = conf_matrix_upsampled[0,1]\n",
    "FN_upsampled = conf_matrix_upsampled[1,0]\n",
    "sensitivity_upsampled = TP_upsampled/(TP_upsampled+FN_upsampled)\n",
    "specificity_upsampled = TN_upsampled/(TN_upsampled+FP_upsampled)\n",
    "accuracy_upsampled = accuracy_score(y_test_upsampled,prediction_upsampled)*100\n",
    "f1_upsampled = f1_score(y_test_upsampled, prediction_upsampled)\n",
    "precision_upsampled = precision_score(y_test_upsampled, prediction_upsampled)\n",
    "recall_upsampled = recall_score(y_test_upsampled, prediction_upsampled)"
   ]
  },
  {
   "cell_type": "code",
   "execution_count": 25,
   "metadata": {},
   "outputs": [
    {
     "name": "stdout",
     "output_type": "stream",
     "text": [
      "Accuracy:  92.92114695340501\n",
      "F1 Score:  0.9296527159394479\n",
      "Precision:  0.9222614840989399\n",
      "Recall:  0.9371633752244165\n",
      "Specificity:  0.9212880143112702\n",
      "Sensitivity:  0.9371633752244165\n",
      "True positive:  522\n",
      "False positive:  44\n",
      "True negative:  515\n",
      "False negative:  35\n"
     ]
    }
   ],
   "source": [
    "print(\"Accuracy: \", accuracy_upsampled)\n",
    "print(\"F1 Score: \", f1_upsampled)\n",
    "print(\"Precision: \", precision_upsampled)\n",
    "print(\"Recall: \", recall_upsampled)\n",
    "print(\"Specificity: \", specificity_upsampled)\n",
    "print(\"Sensitivity: \", sensitivity_upsampled)\n",
    "print(\"True positive: \", TP_upsampled)\n",
    "print(\"False positive: \", FP_upsampled)\n",
    "print(\"True negative: \", TN_upsampled)\n",
    "print(\"False negative: \", FN_upsampled)"
   ]
  },
  {
   "cell_type": "code",
   "execution_count": 65,
   "metadata": {},
   "outputs": [
    {
     "data": {
      "image/png": "[encoded data removed]",
      "text/plain": [
       "<Figure size 936x216 with 3 Axes>"
      ]
     },
     "metadata": {
      "needs_background": "light"
     },
     "output_type": "display_data"
    }
   ],
   "source": [
    "plt.figure(figsize=(13, 3))\n",
    "plt.subplot(131)\n",
    "plt.ylim(90,95)\n",
    "plt.bar(['acc_under', 'acc_up', 'acc_imb'], [accuracy_undersampled, accuracy_upsampled, accuracy_imbalanced])\n",
    "plt.subplot(132)\n",
    "plt.ylim(0.9,0.95)\n",
    "plt.bar(['f1_under', 'f1_up','f1_imb'], [f1_undersampled, f1_upsampled, f1_imbalanced])\n",
    "plt.subplot(133)\n",
    "plt.ylim(0.9,0.95)\n",
    "plt.bar(['prec_under', 'prec_up', 'prec_imb'], [precision_undersampled, precision_upsampled, [precision_imbalanced]])\n",
    "plt.suptitle('Measurement comparison')\n",
    "plt.show()\n"
   ]
  },
  {
   "cell_type": "markdown",
   "metadata": {},
   "source": [
    "### GRADIENT BOOST with cross validation"
   ]
  },
  {
   "cell_type": "code",
   "execution_count": 27,
   "metadata": {},
   "outputs": [
    {
     "ename": "NameError",
     "evalue": "name 'X' is not defined",
     "output_type": "error",
     "traceback": [
      "\u001b[1;31m---------------------------------------------------------------------------\u001b[0m",
      "\u001b[1;31mNameError\u001b[0m                                 Traceback (most recent call last)",
      "\u001b[1;32m<ipython-input-27-df882dafadbc>\u001b[0m in \u001b[0;36m<module>\u001b[1;34m\u001b[0m\n\u001b[0;32m      6\u001b[0m \u001b[0mkf\u001b[0m \u001b[1;33m=\u001b[0m \u001b[0mKFold\u001b[0m\u001b[1;33m(\u001b[0m\u001b[0mn_splits\u001b[0m\u001b[1;33m=\u001b[0m\u001b[1;36m5\u001b[0m\u001b[1;33m,\u001b[0m\u001b[0mrandom_state\u001b[0m \u001b[1;33m=\u001b[0m \u001b[1;36m42\u001b[0m\u001b[1;33m,\u001b[0m \u001b[0mshuffle\u001b[0m \u001b[1;33m=\u001b[0m \u001b[1;32mTrue\u001b[0m\u001b[1;33m)\u001b[0m\u001b[1;33m\u001b[0m\u001b[1;33m\u001b[0m\u001b[0m\n\u001b[0;32m      7\u001b[0m \u001b[1;33m\u001b[0m\u001b[0m\n\u001b[1;32m----> 8\u001b[1;33m \u001b[1;32mfor\u001b[0m \u001b[0mtrain_index\u001b[0m\u001b[1;33m,\u001b[0m\u001b[0mtest_index\u001b[0m \u001b[1;32min\u001b[0m \u001b[0mkf\u001b[0m\u001b[1;33m.\u001b[0m\u001b[0msplit\u001b[0m\u001b[1;33m(\u001b[0m\u001b[0mX\u001b[0m\u001b[1;33m)\u001b[0m\u001b[1;33m:\u001b[0m\u001b[1;33m\u001b[0m\u001b[1;33m\u001b[0m\u001b[0m\n\u001b[0m\u001b[0;32m      9\u001b[0m     \u001b[0mX_train_undersampled\u001b[0m\u001b[1;33m,\u001b[0m\u001b[0mX_test_undersampled\u001b[0m\u001b[1;33m=\u001b[0m\u001b[0mX_undersampled\u001b[0m\u001b[1;33m[\u001b[0m\u001b[0mtrain_index\u001b[0m\u001b[1;33m]\u001b[0m\u001b[1;33m,\u001b[0m\u001b[0mX_undersampled\u001b[0m\u001b[1;33m[\u001b[0m\u001b[0mtest_index\u001b[0m\u001b[1;33m]\u001b[0m\u001b[1;33m\u001b[0m\u001b[1;33m\u001b[0m\u001b[0m\n\u001b[0;32m     10\u001b[0m     \u001b[0my_train_undersampled\u001b[0m\u001b[1;33m,\u001b[0m\u001b[0my_test_undersampled\u001b[0m\u001b[1;33m=\u001b[0m\u001b[0my_undersampled\u001b[0m\u001b[1;33m[\u001b[0m\u001b[0mtrain_index\u001b[0m\u001b[1;33m]\u001b[0m\u001b[1;33m,\u001b[0m\u001b[0my_undersampled\u001b[0m\u001b[1;33m[\u001b[0m\u001b[0mtest_index\u001b[0m\u001b[1;33m]\u001b[0m\u001b[1;33m\u001b[0m\u001b[1;33m\u001b[0m\u001b[0m\n",
      "\u001b[1;31mNameError\u001b[0m: name 'X' is not defined"
     ]
    }
   ],
   "source": [
    "#gradient boost\n",
    "X_undersampled = df_undersampled.drop(\"label_spam\",axis = 1).values\n",
    "y_undersampled = df_undersampled[\"label_spam\"].values\n",
    "X_train_undersampled,X_test_undersampled, y_train_undersampled, y_test_undersampled = train_test_split(X_undersampled,y_undersampled,test_size = 0.2, random_state = 1)\n",
    "\n",
    "kf = KFold(n_splits=5,random_state = 42, shuffle = True)\n",
    "\n",
    "for train_index,test_index in kf.split(X_undersampled):\n",
    "    X_train_undersampled,X_test_undersampled=X_undersampled[train_index],X_undersampled[test_index]\n",
    "    y_train_undersampled,y_test_undersampled=y_undersampled[train_index],y_undersampled[test_index]\n",
    "    \n",
    "    gradient_booster = GradientBoostingClassifier(learning_rate=0.1)\n",
    "    params = gradient_booster.get_params()\n",
    "    \n",
    "    gradient_booster.fit(X_train_undersampled,y_train_undersampled)\n",
    "    prediction_undersampled=gradient_booster.predict(X_test_undersampled)\n",
    "    \n",
    "    conf_matrix_undersampled = confusion_matrix(y_true=y_test_undersampled,y_pred=prediction_undersampled)\n",
    "    TP_undersampled = conf_matrix_undersampled[1,1]\n",
    "    TN_undersampled = conf_matrix_undersampled[0,0]\n",
    "    FP_undersampled = conf_matrix_undersampled[0,1]\n",
    "    FN_undersampled = conf_matrix_undersampled[1,0]\n",
    "    sensitivity_undersampled = TP_undersampled/(TP_undersampled+FN_undersampled)\n",
    "    specificity_undersampled = TN_undersampled/(TN_undersampled+FP_undersampled)\n",
    "    accuracy_undersampled = accuracy_score(y_test_undersampled,prediction_undersampled)*100\n",
    "    f1_undersampled = f1_score(y_test_undersampled, prediction_undersampled)\n",
    "    precision_undersampled = precision_score(y_test_undersampled, prediction_undersampled)\n",
    "    recall_undersampled = recall_score(y_test_undersampled, prediction_undersampled)\n",
    "    \n",
    "    print(\"Accuracy: \", accuracy_undersampled)\n",
    "    print(\"F1 Score: \", f1_undersampled)\n",
    "    print(\"Precision: \", precision_undersampled)\n",
    "    print(\"Recall: \", recall_undersampled)\n",
    "    print(\"Specificity: \", specificity_undersampled)\n",
    "    print(\"Sensitivity: \", sensitivity_undersampled)\n",
    "    print(\"True positive: \", TP_undersampled)\n",
    "    print(\"False positive: \", FP_undersampled)\n",
    "    print(\"True negative: \", TN_undersampled)\n",
    "    print(\"False negative: \", FN_undersampled)\n",
    "    print(\"-------------\")\n"
   ]
  },
  {
   "cell_type": "code",
   "execution_count": null,
   "metadata": {},
   "outputs": [],
   "source": [
    "X_upsampled = df_upsampled.drop(\"label_spam\",axis = 1).values\n",
    "y_upsampled = df_upsampled[\"label_spam\"].values\n",
    "X_train_upsampled,X_test_upsampled, y_train_upsampled, y_test_upsampled = train_test_split(X_upsampled,y_upsampled,test_size = 0.2, random_state = 1)\n",
    "\n",
    "kf = KFold(n_splits=5,random_state = 42, shuffle = True)\n",
    "\n",
    "for train_index,test_index in kf.split(X):\n",
    "    X_train_upsampled,X_test_upsampled=X_upsampled[train_index],X_upsampled[test_index]\n",
    "    y_train_upsampled,y_test_upsampled=y_upsampled[train_index],y_upsampled[test_index]\n",
    "    \n",
    "    gradient_booster = GradientBoostingClassifier(learning_rate=0.1)\n",
    "    params = gradient_booster.get_params()\n",
    "    \n",
    "    gradient_booster.fit(X_train_upsampled,y_train_upsampled)\n",
    "    prediction_upsampled=gradient_booster.predict(X_test_upsampled)\n",
    "    \n",
    "    conf_matrix_upsampled = confusion_matrix(y_true=y_test_upsampled,y_pred=prediction_upsampled)\n",
    "    TP_upsampled = conf_matrix_upsampled[1,1]\n",
    "    TN_upsampled = conf_matrix_upsampled[0,0]\n",
    "    FP_upsampled = conf_matrix_upsampled[0,1]\n",
    "    FN_upsampled = conf_matrix_upsampled[1,0]\n",
    "    sensitivity_upsampled = TP_upsampled/(TP_upsampled+FN_upsampled)\n",
    "    specificity_upsampled = TN_upsampled/(TN_upsampled+FP_upsampled)\n",
    "    accuracy_upsampled = accuracy_score(y_test_upsampled,prediction_upsampled)*100\n",
    "    f1_upsampled = f1_score(y_test_upsampled, prediction_upsampled)\n",
    "    precision_upsampled = precision_score(y_test_upsampled, prediction_upsampled)\n",
    "    recall_upsampled = recall_score(y_test_upsampled, prediction_upsampled)\n",
    "    \n",
    "    print(\"Accuracy: \", accuracy_upsampled)\n",
    "    print(\"F1 Score: \", f1_upsampled)\n",
    "    print(\"Precision: \", precision_upsampled)\n",
    "    print(\"Recall: \", recall_upsampled)\n",
    "    print(\"Specificity: \", specificity_upsampled)\n",
    "    print(\"Sensitivity: \", sensitivity_upsampled)\n",
    "    print(\"True positive: \", TP_upsampled)\n",
    "    print(\"False positive: \", FP_upsampled)\n",
    "    print(\"True negative: \", TN_upsampled)\n",
    "    print(\"False negative: \", FN_upsampled)\n",
    "    print(\"-------------\")"
   ]
  },
  {
   "cell_type": "markdown",
   "metadata": {},
   "source": [
    "## Gradient boost without cross validation"
   ]
  },
  {
   "cell_type": "code",
   "execution_count": null,
   "metadata": {},
   "outputs": [],
   "source": [
    "X_undersampled = df_undersampled.drop(\"label_spam\",axis = 1).values\n",
    "y_undersampled = df_undersampled[\"label_spam\"].values\n",
    "X_train_undersampled,X_test_undersampled, y_train_undersampled, y_test_undersampled = train_test_split(X_undersampled,y_undersampled,test_size = 0.2, random_state = 1)"
   ]
  },
  {
   "cell_type": "code",
   "execution_count": null,
   "metadata": {},
   "outputs": [],
   "source": [
    "gradient_booster = GradientBoostingClassifier(learning_rate=0.1)\n",
    "params = gradient_booster.get_params()"
   ]
  },
  {
   "cell_type": "code",
   "execution_count": null,
   "metadata": {},
   "outputs": [],
   "source": [
    "gradient_booster.fit(X_train_undersampled,y_train_undersampled)\n",
    "prediction_undersampled=gradient_booster.predict(X_test_undersampled)"
   ]
  },
  {
   "cell_type": "code",
   "execution_count": null,
   "metadata": {},
   "outputs": [],
   "source": [
    "conf_matrix_undersampled = confusion_matrix(y_true=y_test_undersampled,y_pred=prediction_undersampled)\n",
    "TP_undersampled = conf_matrix_undersampled[1,1]\n",
    "TN_undersampled = conf_matrix_undersampled[0,0]\n",
    "FP_undersampled = conf_matrix_undersampled[0,1]\n",
    "FN_undersampled = conf_matrix_undersampled[1,0]\n",
    "sensitivity_undersampled = TP_undersampled/(TP_undersampled+FN_undersampled)\n",
    "specificity_undersampled = TN_undersampled/(TN_undersampled+FP_undersampled)\n",
    "accuracy_undersampled = accuracy_score(y_test_undersampled,prediction_undersampled)*100\n",
    "f1_undersampled = f1_score(y_test_undersampled, prediction_undersampled)\n",
    "precision_undersampled = precision_score(y_test_undersampled, prediction_undersampled)\n",
    "recall_undersampled = recall_score(y_test_undersampled, prediction_undersampled)\n"
   ]
  },
  {
   "cell_type": "code",
   "execution_count": 28,
   "metadata": {},
   "outputs": [
    {
     "name": "stdout",
     "output_type": "stream",
     "text": [
      "Accuracy:  92.01101928374655\n",
      "F1 Score:  0.9171428571428571\n",
      "Precision:  0.9277456647398844\n",
      "Recall:  0.9067796610169492\n",
      "Specificity:  0.9327956989247311\n",
      "Sensitivity:  0.9067796610169492\n",
      "True positive:  321\n",
      "False positive:  25\n",
      "True negative:  347\n",
      "False negative:  33\n"
     ]
    }
   ],
   "source": [
    "print(\"Accuracy: \", accuracy_undersampled)\n",
    "print(\"F1 Score: \", f1_undersampled)\n",
    "print(\"Precision: \", precision_undersampled)\n",
    "print(\"Recall: \", recall_undersampled)\n",
    "print(\"Specificity: \", specificity_undersampled)\n",
    "print(\"Sensitivity: \", sensitivity_undersampled)\n",
    "print(\"True positive: \", TP_undersampled)\n",
    "print(\"False positive: \", FP_undersampled)\n",
    "print(\"True negative: \", TN_undersampled)\n",
    "print(\"False negative: \", FN_undersampled)"
   ]
  },
  {
   "cell_type": "code",
   "execution_count": 29,
   "metadata": {},
   "outputs": [],
   "source": [
    "X_upsampled = df_upsampled.drop(\"label_spam\",axis = 1).values\n",
    "y_upsampled = df_upsampled[\"label_spam\"].values\n",
    "X_train_upsampled,X_test_upsampled, y_train_upsampled, y_test_upsampled = train_test_split(X_upsampled,y_upsampled,test_size = 0.2, random_state = 1)"
   ]
  },
  {
   "cell_type": "code",
   "execution_count": 30,
   "metadata": {},
   "outputs": [],
   "source": [
    "gradient_booster = GradientBoostingClassifier(learning_rate=0.1)\n",
    "params = gradient_booster.get_params()"
   ]
  },
  {
   "cell_type": "code",
   "execution_count": 31,
   "metadata": {},
   "outputs": [],
   "source": [
    "gradient_booster.fit(X_train_upsampled,y_train_upsampled)\n",
    "prediction_upsampled=gradient_booster.predict(X_test_upsampled)"
   ]
  },
  {
   "cell_type": "code",
   "execution_count": 32,
   "metadata": {},
   "outputs": [],
   "source": [
    "conf_matrix_upsampled = confusion_matrix(y_true=y_test_upsampled,y_pred=prediction_upsampled)\n",
    "TP_upsampled = conf_matrix_upsampled[1,1]\n",
    "TN_upsampled = conf_matrix_upsampled[0,0]\n",
    "FP_upsampled = conf_matrix_upsampled[0,1]\n",
    "FN_upsampled = conf_matrix_upsampled[1,0]\n",
    "sensitivity_upsampled = TP_upsampled/(TP_upsampled+FN_upsampled)\n",
    "specificity_upsampled = TN_upsampled/(TN_upsampled+FP_upsampled)\n",
    "accuracy_upsampled = accuracy_score(y_test_upsampled,prediction_upsampled)*100\n",
    "f1_upsampled = f1_score(y_test_upsampled, prediction_upsampled)\n",
    "precision_upsampled = precision_score(y_test_upsampled, prediction_upsampled)\n",
    "recall_upsampled = recall_score(y_test_upsampled, prediction_upsampled)"
   ]
  },
  {
   "cell_type": "code",
   "execution_count": 33,
   "metadata": {},
   "outputs": [
    {
     "name": "stdout",
     "output_type": "stream",
     "text": [
      "Accuracy:  95.43010752688173\n",
      "F1 Score:  0.9546666666666667\n",
      "Precision:  0.9454225352112676\n",
      "Recall:  0.9640933572710951\n",
      "Specificity:  0.9445438282647585\n",
      "Sensitivity:  0.9640933572710951\n",
      "True positive:  537\n",
      "False positive:  31\n",
      "True negative:  528\n",
      "False negative:  20\n"
     ]
    }
   ],
   "source": [
    "print(\"Accuracy: \", accuracy_upsampled)\n",
    "print(\"F1 Score: \", f1_upsampled)\n",
    "print(\"Precision: \", precision_upsampled)\n",
    "print(\"Recall: \", recall_upsampled)\n",
    "print(\"Specificity: \", specificity_upsampled)\n",
    "print(\"Sensitivity: \", sensitivity_upsampled)\n",
    "print(\"True positive: \", TP_upsampled)\n",
    "print(\"False positive: \", FP_upsampled)\n",
    "print(\"True negative: \", TN_upsampled)\n",
    "print(\"False negative: \", FN_upsampled)"
   ]
  },
  {
   "cell_type": "code",
   "execution_count": 34,
   "metadata": {},
   "outputs": [
    {
     "data": {
      "image/png": "[encoded data removed]",
      "text/plain": [
       "<Figure size 792x216 with 3 Axes>"
      ]
     },
     "metadata": {
      "needs_background": "light"
     },
     "output_type": "display_data"
    }
   ],
   "source": [
    "plt.figure(figsize=(11, 3))\n",
    "plt.subplot(131)\n",
    "plt.ylim(93,95)\n",
    "plt.bar(['acc_under', 'acc_up'], [accuracy_undersampled, accuracy_upsampled])\n",
    "plt.subplot(132)\n",
    "plt.ylim(0.9,0.95)\n",
    "plt.bar(['f1_under', 'f1_up'], [f1_undersampled, f1_upsampled])\n",
    "plt.subplot(133)\n",
    "plt.ylim(0.9,0.95)\n",
    "plt.bar(['prec_under', 'prec_up'], [precision_undersampled, precision_upsampled])\n",
    "plt.suptitle('Gradient Boost Measurement comparison')\n",
    "plt.show()"
   ]
  },
  {
   "cell_type": "markdown",
   "metadata": {},
   "source": [
    "### NAIVE BAYES"
   ]
  },
  {
   "cell_type": "code",
   "execution_count": 35,
   "metadata": {},
   "outputs": [
    {
     "ename": "NameError",
     "evalue": "name 'X' is not defined",
     "output_type": "error",
     "traceback": [
      "\u001b[1;31m---------------------------------------------------------------------------\u001b[0m",
      "\u001b[1;31mNameError\u001b[0m                                 Traceback (most recent call last)",
      "\u001b[1;32m<ipython-input-35-4db9246b60ed>\u001b[0m in \u001b[0;36m<module>\u001b[1;34m\u001b[0m\n\u001b[0;32m      1\u001b[0m \u001b[1;31m#NaiveBayes\u001b[0m\u001b[1;33m\u001b[0m\u001b[1;33m\u001b[0m\u001b[1;33m\u001b[0m\u001b[0m\n\u001b[1;32m----> 2\u001b[1;33m \u001b[0mX_train\u001b[0m\u001b[1;33m,\u001b[0m\u001b[0mX_test\u001b[0m\u001b[1;33m,\u001b[0m \u001b[0my_train\u001b[0m\u001b[1;33m,\u001b[0m \u001b[0my_test\u001b[0m \u001b[1;33m=\u001b[0m \u001b[0mtrain_test_split\u001b[0m\u001b[1;33m(\u001b[0m\u001b[0mX\u001b[0m\u001b[1;33m,\u001b[0m\u001b[0my\u001b[0m\u001b[1;33m,\u001b[0m\u001b[0mtest_size\u001b[0m \u001b[1;33m=\u001b[0m \u001b[1;36m0.1\u001b[0m\u001b[1;33m,\u001b[0m \u001b[0mrandom_state\u001b[0m \u001b[1;33m=\u001b[0m \u001b[1;36m70\u001b[0m\u001b[1;33m)\u001b[0m\u001b[1;33m\u001b[0m\u001b[1;33m\u001b[0m\u001b[0m\n\u001b[0m",
      "\u001b[1;31mNameError\u001b[0m: name 'X' is not defined"
     ]
    }
   ],
   "source": [
    "#NaiveBayes\n",
    "X_train,X_test, y_train, y_test = train_test_split(X,y,test_size = 0.1, random_state = 70)"
   ]
  },
  {
   "cell_type": "code",
   "execution_count": null,
   "metadata": {},
   "outputs": [],
   "source": [
    "model = MultinomialNB()\n",
    "model.fit(X_train,y_train)\n",
    "prediction = model.predict(X_test)"
   ]
  },
  {
   "cell_type": "code",
   "execution_count": null,
   "metadata": {},
   "outputs": [],
   "source": [
    "conf_matrix = confusion_matrix(y_true=y_test,y_pred=prediction)\n",
    "TP = conf_matrix[1,1]\n",
    "TN = conf_matrix[0,0]\n",
    "FP = conf_matrix[0,1]\n",
    "FN = conf_matrix[1,0]\n",
    "sensitivity = TP/(TP+FN)\n",
    "specificity = TN/(TN+FP)\n",
    "accuracy = accuracy_score(y_test,prediction)*100\n",
    "f1 = f1_score(y_test, prediction)\n",
    "precision = precision_score(y_test, prediction)\n",
    "recall = recall_score(y_test, prediction)"
   ]
  },
  {
   "cell_type": "code",
   "execution_count": null,
   "metadata": {},
   "outputs": [],
   "source": [
    "print(\"Accuracy: \", accuracy)\n",
    "print(\"F1 Score: \", f1)\n",
    "print(\"Precision: \", precision)\n",
    "print(\"Recall: \", recall)\n",
    "print(\"Specificity: \", specificity)\n",
    "print(\"Sensitivity: \", sensitivity)\n",
    "print(\"True positive: \", TP)\n",
    "print(\"False positive: \", FP)\n",
    "print(\"True negative: \", TN)\n",
    "print(\"False negative: \", FN)"
   ]
  },
  {
   "cell_type": "markdown",
   "metadata": {},
   "source": [
    "### RANDOM FOREST"
   ]
  },
  {
   "cell_type": "code",
   "execution_count": 36,
   "metadata": {},
   "outputs": [
    {
     "ename": "NameError",
     "evalue": "name 'X_train' is not defined",
     "output_type": "error",
     "traceback": [
      "\u001b[1;31m---------------------------------------------------------------------------\u001b[0m",
      "\u001b[1;31mNameError\u001b[0m                                 Traceback (most recent call last)",
      "\u001b[1;32m<ipython-input-36-e44dabc8247d>\u001b[0m in \u001b[0;36m<module>\u001b[1;34m\u001b[0m\n\u001b[0;32m      1\u001b[0m \u001b[1;31m#random forest\u001b[0m\u001b[1;33m\u001b[0m\u001b[1;33m\u001b[0m\u001b[1;33m\u001b[0m\u001b[0m\n\u001b[0;32m      2\u001b[0m \u001b[0mrandom_forest\u001b[0m \u001b[1;33m=\u001b[0m \u001b[0mRandomForestClassifier\u001b[0m\u001b[1;33m(\u001b[0m\u001b[0mmax_depth\u001b[0m\u001b[1;33m=\u001b[0m\u001b[1;36m25\u001b[0m\u001b[1;33m,\u001b[0m \u001b[0mrandom_state\u001b[0m\u001b[1;33m=\u001b[0m\u001b[1;36m0\u001b[0m\u001b[1;33m)\u001b[0m\u001b[1;33m\u001b[0m\u001b[1;33m\u001b[0m\u001b[0m\n\u001b[1;32m----> 3\u001b[1;33m \u001b[0mrandom_forest\u001b[0m\u001b[1;33m.\u001b[0m\u001b[0mfit\u001b[0m\u001b[1;33m(\u001b[0m\u001b[0mX_train\u001b[0m\u001b[1;33m,\u001b[0m\u001b[0my_train\u001b[0m\u001b[1;33m)\u001b[0m\u001b[1;33m\u001b[0m\u001b[1;33m\u001b[0m\u001b[0m\n\u001b[0m\u001b[0;32m      4\u001b[0m \u001b[0mprediction\u001b[0m \u001b[1;33m=\u001b[0m \u001b[0mrandom_forest\u001b[0m\u001b[1;33m.\u001b[0m\u001b[0mpredict\u001b[0m\u001b[1;33m(\u001b[0m\u001b[0mX_test\u001b[0m\u001b[1;33m)\u001b[0m\u001b[1;33m\u001b[0m\u001b[1;33m\u001b[0m\u001b[0m\n",
      "\u001b[1;31mNameError\u001b[0m: name 'X_train' is not defined"
     ]
    }
   ],
   "source": [
    "#random forest\n",
    "random_forest = RandomForestClassifier(max_depth=25, random_state=0)\n",
    "random_forest.fit(X_train,y_train)\n",
    "prediction = random_forest.predict(X_test)"
   ]
  },
  {
   "cell_type": "code",
   "execution_count": 37,
   "metadata": {},
   "outputs": [
    {
     "ename": "NameError",
     "evalue": "name 'y_test' is not defined",
     "output_type": "error",
     "traceback": [
      "\u001b[1;31m---------------------------------------------------------------------------\u001b[0m",
      "\u001b[1;31mNameError\u001b[0m                                 Traceback (most recent call last)",
      "\u001b[1;32m<ipython-input-37-4f102c6edf0d>\u001b[0m in \u001b[0;36m<module>\u001b[1;34m\u001b[0m\n\u001b[1;32m----> 1\u001b[1;33m \u001b[0mconf_matrix\u001b[0m \u001b[1;33m=\u001b[0m \u001b[0mconfusion_matrix\u001b[0m\u001b[1;33m(\u001b[0m\u001b[0my_true\u001b[0m\u001b[1;33m=\u001b[0m\u001b[0my_test\u001b[0m\u001b[1;33m,\u001b[0m\u001b[0my_pred\u001b[0m\u001b[1;33m=\u001b[0m\u001b[0mprediction\u001b[0m\u001b[1;33m)\u001b[0m\u001b[1;33m\u001b[0m\u001b[1;33m\u001b[0m\u001b[0m\n\u001b[0m\u001b[0;32m      2\u001b[0m \u001b[0mTP\u001b[0m \u001b[1;33m=\u001b[0m \u001b[0mconf_matrix\u001b[0m\u001b[1;33m[\u001b[0m\u001b[1;36m1\u001b[0m\u001b[1;33m,\u001b[0m\u001b[1;36m1\u001b[0m\u001b[1;33m]\u001b[0m\u001b[1;33m\u001b[0m\u001b[1;33m\u001b[0m\u001b[0m\n\u001b[0;32m      3\u001b[0m \u001b[0mTN\u001b[0m \u001b[1;33m=\u001b[0m \u001b[0mconf_matrix\u001b[0m\u001b[1;33m[\u001b[0m\u001b[1;36m0\u001b[0m\u001b[1;33m,\u001b[0m\u001b[1;36m0\u001b[0m\u001b[1;33m]\u001b[0m\u001b[1;33m\u001b[0m\u001b[1;33m\u001b[0m\u001b[0m\n\u001b[0;32m      4\u001b[0m \u001b[0mFP\u001b[0m \u001b[1;33m=\u001b[0m \u001b[0mconf_matrix\u001b[0m\u001b[1;33m[\u001b[0m\u001b[1;36m0\u001b[0m\u001b[1;33m,\u001b[0m\u001b[1;36m1\u001b[0m\u001b[1;33m]\u001b[0m\u001b[1;33m\u001b[0m\u001b[1;33m\u001b[0m\u001b[0m\n\u001b[0;32m      5\u001b[0m \u001b[0mFN\u001b[0m \u001b[1;33m=\u001b[0m \u001b[0mconf_matrix\u001b[0m\u001b[1;33m[\u001b[0m\u001b[1;36m1\u001b[0m\u001b[1;33m,\u001b[0m\u001b[1;36m0\u001b[0m\u001b[1;33m]\u001b[0m\u001b[1;33m\u001b[0m\u001b[1;33m\u001b[0m\u001b[0m\n",
      "\u001b[1;31mNameError\u001b[0m: name 'y_test' is not defined"
     ]
    }
   ],
   "source": [
    "conf_matrix = confusion_matrix(y_true=y_test,y_pred=prediction)\n",
    "TP = conf_matrix[1,1]\n",
    "TN = conf_matrix[0,0]\n",
    "FP = conf_matrix[0,1]\n",
    "FN = conf_matrix[1,0]\n",
    "sensitivity = TP/(TP+FN)\n",
    "specificity = TN/(TN+FP)\n",
    "accuracy = accuracy_score(y_test,prediction)*100\n",
    "f1 = f1_score(y_test, prediction)\n",
    "precision = precision_score(y_test, prediction)\n",
    "recall = recall_score(y_test, prediction)"
   ]
  },
  {
   "cell_type": "code",
   "execution_count": 38,
   "metadata": {},
   "outputs": [
    {
     "ename": "NameError",
     "evalue": "name 'accuracy' is not defined",
     "output_type": "error",
     "traceback": [
      "\u001b[1;31m---------------------------------------------------------------------------\u001b[0m",
      "\u001b[1;31mNameError\u001b[0m                                 Traceback (most recent call last)",
      "\u001b[1;32m<ipython-input-38-0d570c4990b9>\u001b[0m in \u001b[0;36m<module>\u001b[1;34m\u001b[0m\n\u001b[1;32m----> 1\u001b[1;33m \u001b[0mprint\u001b[0m\u001b[1;33m(\u001b[0m\u001b[1;34m\"Accuracy: \"\u001b[0m\u001b[1;33m,\u001b[0m \u001b[0maccuracy\u001b[0m\u001b[1;33m)\u001b[0m\u001b[1;33m\u001b[0m\u001b[1;33m\u001b[0m\u001b[0m\n\u001b[0m\u001b[0;32m      2\u001b[0m \u001b[0mprint\u001b[0m\u001b[1;33m(\u001b[0m\u001b[1;34m\"F1 Score: \"\u001b[0m\u001b[1;33m,\u001b[0m \u001b[0mf1\u001b[0m\u001b[1;33m)\u001b[0m\u001b[1;33m\u001b[0m\u001b[1;33m\u001b[0m\u001b[0m\n\u001b[0;32m      3\u001b[0m \u001b[0mprint\u001b[0m\u001b[1;33m(\u001b[0m\u001b[1;34m\"Precision: \"\u001b[0m\u001b[1;33m,\u001b[0m \u001b[0mprecision\u001b[0m\u001b[1;33m)\u001b[0m\u001b[1;33m\u001b[0m\u001b[1;33m\u001b[0m\u001b[0m\n\u001b[0;32m      4\u001b[0m \u001b[0mprint\u001b[0m\u001b[1;33m(\u001b[0m\u001b[1;34m\"Recall: \"\u001b[0m\u001b[1;33m,\u001b[0m \u001b[0mrecall\u001b[0m\u001b[1;33m)\u001b[0m\u001b[1;33m\u001b[0m\u001b[1;33m\u001b[0m\u001b[0m\n\u001b[0;32m      5\u001b[0m \u001b[0mprint\u001b[0m\u001b[1;33m(\u001b[0m\u001b[1;34m\"Specificity: \"\u001b[0m\u001b[1;33m,\u001b[0m \u001b[0mspecificity\u001b[0m\u001b[1;33m)\u001b[0m\u001b[1;33m\u001b[0m\u001b[1;33m\u001b[0m\u001b[0m\n",
      "\u001b[1;31mNameError\u001b[0m: name 'accuracy' is not defined"
     ]
    }
   ],
   "source": [
    "print(\"Accuracy: \", accuracy)\n",
    "print(\"F1 Score: \", f1)\n",
    "print(\"Precision: \", precision)\n",
    "print(\"Recall: \", recall)\n",
    "print(\"Specificity: \", specificity)\n",
    "print(\"Sensitivity: \", sensitivity)\n",
    "print(\"True positive: \", TP)\n",
    "print(\"False positive: \", FP)\n",
    "print(\"True negative: \", TN)\n",
    "print(\"False negative: \", FN)"
   ]
  },
  {
   "cell_type": "markdown",
   "metadata": {},
   "source": [
    "### k - NEAREST NEIGHBORS"
   ]
  },
  {
   "cell_type": "code",
   "execution_count": 39,
   "metadata": {},
   "outputs": [
    {
     "ename": "NameError",
     "evalue": "name 'X' is not defined",
     "output_type": "error",
     "traceback": [
      "\u001b[1;31m---------------------------------------------------------------------------\u001b[0m",
      "\u001b[1;31mNameError\u001b[0m                                 Traceback (most recent call last)",
      "\u001b[1;32m<ipython-input-39-c5027ec1131d>\u001b[0m in \u001b[0;36m<module>\u001b[1;34m\u001b[0m\n\u001b[0;32m      1\u001b[0m \u001b[1;31m#knn\u001b[0m\u001b[1;33m\u001b[0m\u001b[1;33m\u001b[0m\u001b[1;33m\u001b[0m\u001b[0m\n\u001b[1;32m----> 2\u001b[1;33m \u001b[0mX_train\u001b[0m\u001b[1;33m,\u001b[0m \u001b[0mX_test\u001b[0m\u001b[1;33m,\u001b[0m \u001b[0my_train\u001b[0m\u001b[1;33m,\u001b[0m \u001b[0my_test\u001b[0m \u001b[1;33m=\u001b[0m \u001b[0mtrain_test_split\u001b[0m\u001b[1;33m(\u001b[0m\u001b[0mX\u001b[0m\u001b[1;33m,\u001b[0m \u001b[0my\u001b[0m\u001b[1;33m,\u001b[0m \u001b[0mtest_size\u001b[0m\u001b[1;33m=\u001b[0m\u001b[1;36m0.20\u001b[0m\u001b[1;33m)\u001b[0m\u001b[1;33m\u001b[0m\u001b[1;33m\u001b[0m\u001b[0m\n\u001b[0m\u001b[0;32m      3\u001b[0m \u001b[0mscaler\u001b[0m \u001b[1;33m=\u001b[0m \u001b[0mStandardScaler\u001b[0m\u001b[1;33m(\u001b[0m\u001b[1;33m)\u001b[0m\u001b[1;33m\u001b[0m\u001b[1;33m\u001b[0m\u001b[0m\n\u001b[0;32m      4\u001b[0m \u001b[0mX_train\u001b[0m \u001b[1;33m=\u001b[0m \u001b[0mscaler\u001b[0m\u001b[1;33m.\u001b[0m\u001b[0mfit_transform\u001b[0m\u001b[1;33m(\u001b[0m\u001b[0mX_train\u001b[0m\u001b[1;33m)\u001b[0m\u001b[1;33m\u001b[0m\u001b[1;33m\u001b[0m\u001b[0m\n\u001b[0;32m      5\u001b[0m \u001b[0mX_test\u001b[0m \u001b[1;33m=\u001b[0m \u001b[0mscaler\u001b[0m\u001b[1;33m.\u001b[0m\u001b[0mtransform\u001b[0m\u001b[1;33m(\u001b[0m\u001b[0mX_test\u001b[0m\u001b[1;33m)\u001b[0m\u001b[1;33m\u001b[0m\u001b[1;33m\u001b[0m\u001b[0m\n",
      "\u001b[1;31mNameError\u001b[0m: name 'X' is not defined"
     ]
    }
   ],
   "source": [
    "#knn\n",
    "X_train, X_test, y_train, y_test = train_test_split(X, y, test_size=0.20)\n",
    "scaler = StandardScaler()\n",
    "X_train = scaler.fit_transform(X_train)\n",
    "X_test = scaler.transform(X_test)\n",
    "classifier = KNeighborsClassifier(n_neighbors=5)\n",
    "classifier.fit(X_train,y_train)\n",
    "prediction = classifier.predict(X_test)"
   ]
  },
  {
   "cell_type": "code",
   "execution_count": 40,
   "metadata": {},
   "outputs": [
    {
     "ename": "NameError",
     "evalue": "name 'y_test' is not defined",
     "output_type": "error",
     "traceback": [
      "\u001b[1;31m---------------------------------------------------------------------------\u001b[0m",
      "\u001b[1;31mNameError\u001b[0m                                 Traceback (most recent call last)",
      "\u001b[1;32m<ipython-input-40-4f102c6edf0d>\u001b[0m in \u001b[0;36m<module>\u001b[1;34m\u001b[0m\n\u001b[1;32m----> 1\u001b[1;33m \u001b[0mconf_matrix\u001b[0m \u001b[1;33m=\u001b[0m \u001b[0mconfusion_matrix\u001b[0m\u001b[1;33m(\u001b[0m\u001b[0my_true\u001b[0m\u001b[1;33m=\u001b[0m\u001b[0my_test\u001b[0m\u001b[1;33m,\u001b[0m\u001b[0my_pred\u001b[0m\u001b[1;33m=\u001b[0m\u001b[0mprediction\u001b[0m\u001b[1;33m)\u001b[0m\u001b[1;33m\u001b[0m\u001b[1;33m\u001b[0m\u001b[0m\n\u001b[0m\u001b[0;32m      2\u001b[0m \u001b[0mTP\u001b[0m \u001b[1;33m=\u001b[0m \u001b[0mconf_matrix\u001b[0m\u001b[1;33m[\u001b[0m\u001b[1;36m1\u001b[0m\u001b[1;33m,\u001b[0m\u001b[1;36m1\u001b[0m\u001b[1;33m]\u001b[0m\u001b[1;33m\u001b[0m\u001b[1;33m\u001b[0m\u001b[0m\n\u001b[0;32m      3\u001b[0m \u001b[0mTN\u001b[0m \u001b[1;33m=\u001b[0m \u001b[0mconf_matrix\u001b[0m\u001b[1;33m[\u001b[0m\u001b[1;36m0\u001b[0m\u001b[1;33m,\u001b[0m\u001b[1;36m0\u001b[0m\u001b[1;33m]\u001b[0m\u001b[1;33m\u001b[0m\u001b[1;33m\u001b[0m\u001b[0m\n\u001b[0;32m      4\u001b[0m \u001b[0mFP\u001b[0m \u001b[1;33m=\u001b[0m \u001b[0mconf_matrix\u001b[0m\u001b[1;33m[\u001b[0m\u001b[1;36m0\u001b[0m\u001b[1;33m,\u001b[0m\u001b[1;36m1\u001b[0m\u001b[1;33m]\u001b[0m\u001b[1;33m\u001b[0m\u001b[1;33m\u001b[0m\u001b[0m\n\u001b[0;32m      5\u001b[0m \u001b[0mFN\u001b[0m \u001b[1;33m=\u001b[0m \u001b[0mconf_matrix\u001b[0m\u001b[1;33m[\u001b[0m\u001b[1;36m1\u001b[0m\u001b[1;33m,\u001b[0m\u001b[1;36m0\u001b[0m\u001b[1;33m]\u001b[0m\u001b[1;33m\u001b[0m\u001b[1;33m\u001b[0m\u001b[0m\n",
      "\u001b[1;31mNameError\u001b[0m: name 'y_test' is not defined"
     ]
    }
   ],
   "source": [
    "conf_matrix = confusion_matrix(y_true=y_test,y_pred=prediction)\n",
    "TP = conf_matrix[1,1]\n",
    "TN = conf_matrix[0,0]\n",
    "FP = conf_matrix[0,1]\n",
    "FN = conf_matrix[1,0]\n",
    "sensitivity = TP/(TP+FN)\n",
    "specificity = TN/(TN+FP)\n",
    "accuracy = accuracy_score(y_test,prediction)*100\n",
    "f1 = f1_score(y_test, prediction)\n",
    "precision = precision_score(y_test, prediction)\n",
    "recall = recall_score(y_test, prediction)"
   ]
  },
  {
   "cell_type": "code",
   "execution_count": 41,
   "metadata": {},
   "outputs": [
    {
     "ename": "NameError",
     "evalue": "name 'accuracy' is not defined",
     "output_type": "error",
     "traceback": [
      "\u001b[1;31m---------------------------------------------------------------------------\u001b[0m",
      "\u001b[1;31mNameError\u001b[0m                                 Traceback (most recent call last)",
      "\u001b[1;32m<ipython-input-41-0d570c4990b9>\u001b[0m in \u001b[0;36m<module>\u001b[1;34m\u001b[0m\n\u001b[1;32m----> 1\u001b[1;33m \u001b[0mprint\u001b[0m\u001b[1;33m(\u001b[0m\u001b[1;34m\"Accuracy: \"\u001b[0m\u001b[1;33m,\u001b[0m \u001b[0maccuracy\u001b[0m\u001b[1;33m)\u001b[0m\u001b[1;33m\u001b[0m\u001b[1;33m\u001b[0m\u001b[0m\n\u001b[0m\u001b[0;32m      2\u001b[0m \u001b[0mprint\u001b[0m\u001b[1;33m(\u001b[0m\u001b[1;34m\"F1 Score: \"\u001b[0m\u001b[1;33m,\u001b[0m \u001b[0mf1\u001b[0m\u001b[1;33m)\u001b[0m\u001b[1;33m\u001b[0m\u001b[1;33m\u001b[0m\u001b[0m\n\u001b[0;32m      3\u001b[0m \u001b[0mprint\u001b[0m\u001b[1;33m(\u001b[0m\u001b[1;34m\"Precision: \"\u001b[0m\u001b[1;33m,\u001b[0m \u001b[0mprecision\u001b[0m\u001b[1;33m)\u001b[0m\u001b[1;33m\u001b[0m\u001b[1;33m\u001b[0m\u001b[0m\n\u001b[0;32m      4\u001b[0m \u001b[0mprint\u001b[0m\u001b[1;33m(\u001b[0m\u001b[1;34m\"Recall: \"\u001b[0m\u001b[1;33m,\u001b[0m \u001b[0mrecall\u001b[0m\u001b[1;33m)\u001b[0m\u001b[1;33m\u001b[0m\u001b[1;33m\u001b[0m\u001b[0m\n\u001b[0;32m      5\u001b[0m \u001b[0mprint\u001b[0m\u001b[1;33m(\u001b[0m\u001b[1;34m\"Specificity: \"\u001b[0m\u001b[1;33m,\u001b[0m \u001b[0mspecificity\u001b[0m\u001b[1;33m)\u001b[0m\u001b[1;33m\u001b[0m\u001b[1;33m\u001b[0m\u001b[0m\n",
      "\u001b[1;31mNameError\u001b[0m: name 'accuracy' is not defined"
     ]
    }
   ],
   "source": [
    "print(\"Accuracy: \", accuracy)\n",
    "print(\"F1 Score: \", f1)\n",
    "print(\"Precision: \", precision)\n",
    "print(\"Recall: \", recall)\n",
    "print(\"Specificity: \", specificity)\n",
    "print(\"Sensitivity: \", sensitivity)\n",
    "print(\"True positive: \", TP)\n",
    "print(\"False positive: \", FP)\n",
    "print(\"True negative: \", TN)\n",
    "print(\"False negative: \", FN)"
   ]
  },
  {
   "cell_type": "markdown",
   "metadata": {},
   "source": [
    "# Algoritmi za redukciju dimenzionalnosti\n",
    "### RECURSIVE FEATURE ELIMINATION - RFE"
   ]
  },
  {
   "cell_type": "code",
   "execution_count": 42,
   "metadata": {
    "scrolled": true
   },
   "outputs": [
    {
     "name": "stdout",
     "output_type": "stream",
     "text": [
      "word_freq_remove\n",
      "word_freq_000\n",
      "word_freq_george\n",
      "word_freq_cs\n",
      "char_freq_$\n"
     ]
    }
   ],
   "source": [
    "#RFE feature reduction over logistic regression model\n",
    "X = df_undersampled.drop(\"label_spam\", axis = 1)\n",
    "y = df_undersampled[\"label_spam\"]\n",
    "model = LogisticRegression(max_iter = 3000)\n",
    "rfe_model = RFE(model, n_features_to_select = 5)\n",
    "rfe_prediction = rfe_model.fit(X,y)\n",
    "feature_list = rfe_prediction.get_support(indices=True)\n",
    "key_columns = []\n",
    "for feature in feature_list:\n",
    "    print(df_undersampled.columns[feature])\n",
    "    key_columns.append(df_undersampled.columns[feature])\n",
    "key_columns.append(\"label_spam\")\n",
    "    "
   ]
  },
  {
   "cell_type": "code",
   "execution_count": 43,
   "metadata": {},
   "outputs": [
    {
     "data": {
      "text/html": [
       "<div>\n",
       "<style scoped>\n",
       "    .dataframe tbody tr th:only-of-type {\n",
       "        vertical-align: middle;\n",
       "    }\n",
       "\n",
       "    .dataframe tbody tr th {\n",
       "        vertical-align: top;\n",
       "    }\n",
       "\n",
       "    .dataframe thead th {\n",
       "        text-align: right;\n",
       "    }\n",
       "</style>\n",
       "<table border=\"1\" class=\"dataframe\">\n",
       "  <thead>\n",
       "    <tr style=\"text-align: right;\">\n",
       "      <th></th>\n",
       "      <th>word_freq_remove</th>\n",
       "      <th>word_freq_000</th>\n",
       "      <th>word_freq_george</th>\n",
       "      <th>word_freq_cs</th>\n",
       "      <th>char_freq_$</th>\n",
       "      <th>label_spam</th>\n",
       "    </tr>\n",
       "  </thead>\n",
       "  <tbody>\n",
       "    <tr>\n",
       "      <th>3795</th>\n",
       "      <td>0.0</td>\n",
       "      <td>0.0</td>\n",
       "      <td>0.00</td>\n",
       "      <td>0.0</td>\n",
       "      <td>0.0</td>\n",
       "      <td>0</td>\n",
       "    </tr>\n",
       "    <tr>\n",
       "      <th>4025</th>\n",
       "      <td>0.0</td>\n",
       "      <td>0.0</td>\n",
       "      <td>1.03</td>\n",
       "      <td>0.0</td>\n",
       "      <td>0.0</td>\n",
       "      <td>0</td>\n",
       "    </tr>\n",
       "    <tr>\n",
       "      <th>4329</th>\n",
       "      <td>0.0</td>\n",
       "      <td>0.0</td>\n",
       "      <td>0.00</td>\n",
       "      <td>0.0</td>\n",
       "      <td>0.0</td>\n",
       "      <td>0</td>\n",
       "    </tr>\n",
       "    <tr>\n",
       "      <th>3437</th>\n",
       "      <td>0.0</td>\n",
       "      <td>0.0</td>\n",
       "      <td>0.00</td>\n",
       "      <td>0.0</td>\n",
       "      <td>0.0</td>\n",
       "      <td>0</td>\n",
       "    </tr>\n",
       "    <tr>\n",
       "      <th>2371</th>\n",
       "      <td>0.0</td>\n",
       "      <td>0.0</td>\n",
       "      <td>0.00</td>\n",
       "      <td>0.0</td>\n",
       "      <td>0.0</td>\n",
       "      <td>0</td>\n",
       "    </tr>\n",
       "  </tbody>\n",
       "</table>\n",
       "</div>"
      ],
      "text/plain": [
       "      word_freq_remove  word_freq_000  word_freq_george  word_freq_cs  \\\n",
       "3795               0.0            0.0              0.00           0.0   \n",
       "4025               0.0            0.0              1.03           0.0   \n",
       "4329               0.0            0.0              0.00           0.0   \n",
       "3437               0.0            0.0              0.00           0.0   \n",
       "2371               0.0            0.0              0.00           0.0   \n",
       "\n",
       "      char_freq_$  label_spam  \n",
       "3795          0.0           0  \n",
       "4025          0.0           0  \n",
       "4329          0.0           0  \n",
       "3437          0.0           0  \n",
       "2371          0.0           0  "
      ]
     },
     "execution_count": 43,
     "metadata": {},
     "output_type": "execute_result"
    }
   ],
   "source": [
    "columns_to_remove = []\n",
    "df_rfe = df_undersampled.copy(deep=True)\n",
    "for column in df_rfe.columns:\n",
    "    if column not in key_columns:\n",
    "        columns_to_remove.append(column)\n",
    "        \n",
    "rfe_removed = df_rfe.drop(columns_to_remove, axis=1)\n",
    "rfe_removed.head()\n",
    "        "
   ]
  },
  {
   "cell_type": "code",
   "execution_count": 44,
   "metadata": {},
   "outputs": [],
   "source": [
    "X = rfe_removed.drop(\"label_spam\",axis = 1).values\n",
    "y = rfe_removed[\"label_spam\"].values\n",
    "X_train,X_test, y_train, y_test = train_test_split(X,y,test_size = 0.2, random_state = 1)\n",
    "\n",
    "rfe_logistic_regression_model = LogisticRegression(max_iter = 3000)\n",
    "rfe_logistic_regression_model.fit(X_train,y_train)\n",
    "rfe_prediction = rfe_logistic_regression_model.predict(X_test)"
   ]
  },
  {
   "cell_type": "code",
   "execution_count": 45,
   "metadata": {},
   "outputs": [],
   "source": [
    "conf_matrix = confusion_matrix(y_true=y_test,y_pred=rfe_prediction)\n",
    "TP = conf_matrix[1,1]\n",
    "TN = conf_matrix[0,0]\n",
    "FP = conf_matrix[0,1]\n",
    "FN = conf_matrix[1,0]\n",
    "sensitivity = TP/(TP+FN)\n",
    "specificity = TN/(TN+FP)\n",
    "accuracy = accuracy_score(y_test,rfe_prediction)*100\n",
    "f1 = f1_score(y_test, rfe_prediction)\n",
    "precision = precision_score(y_test, rfe_prediction)\n",
    "recall = recall_score(y_test, rfe_prediction)"
   ]
  },
  {
   "cell_type": "code",
   "execution_count": 46,
   "metadata": {},
   "outputs": [
    {
     "name": "stdout",
     "output_type": "stream",
     "text": [
      "Accuracy:  83.60881542699724\n",
      "F1 Score:  0.8120063191153238\n",
      "Precision:  0.921146953405018\n",
      "Recall:  0.7259887005649718\n",
      "Specificity:  0.9408602150537635\n",
      "Sensitivity:  0.7259887005649718\n",
      "True positive:  257\n",
      "False positive:  22\n",
      "True negative:  350\n",
      "False negative:  97\n"
     ]
    }
   ],
   "source": [
    "print(\"Accuracy: \", accuracy)\n",
    "print(\"F1 Score: \", f1)\n",
    "print(\"Precision: \", precision)\n",
    "print(\"Recall: \", recall)\n",
    "print(\"Specificity: \", specificity)\n",
    "print(\"Sensitivity: \", sensitivity)\n",
    "print(\"True positive: \", TP)\n",
    "print(\"False positive: \", FP)\n",
    "print(\"True negative: \", TN)\n",
    "print(\"False negative: \", FN)"
   ]
  },
  {
   "cell_type": "markdown",
   "metadata": {},
   "source": [
    "### LASSO"
   ]
  },
  {
   "cell_type": "code",
   "execution_count": 47,
   "metadata": {},
   "outputs": [
    {
     "name": "stdout",
     "output_type": "stream",
     "text": [
      "word_freq_free\n",
      "word_freq_you\n",
      "word_freq_your\n",
      "word_freq_hp\n",
      "word_freq_george\n"
     ]
    }
   ],
   "source": [
    "#Lasso\n",
    "X = df_undersampled.drop(\"label_spam\", axis = 1)\n",
    "y = df_undersampled[\"label_spam\"]\n",
    "X_train,X_test, y_train, y_test = train_test_split(X,y,test_size = 0.2, random_state = 1)\n",
    "lasso = LassoCV(cv=3)\n",
    "select_from_model = SelectFromModel(lasso,threshold = 0.01)\n",
    "select_from_model.fit(X, y)\n",
    "feature_list = select_from_model.get_support(indices=True)\n",
    "key_columns = []\n",
    "for feature in feature_list:\n",
    "    print(df_undersampled.columns[feature])\n",
    "    key_columns.append(df_undersampled.columns[feature])\n",
    "    \n",
    "key_columns.append(\"label_spam\")\n"
   ]
  },
  {
   "cell_type": "code",
   "execution_count": 48,
   "metadata": {},
   "outputs": [
    {
     "data": {
      "text/html": [
       "<div>\n",
       "<style scoped>\n",
       "    .dataframe tbody tr th:only-of-type {\n",
       "        vertical-align: middle;\n",
       "    }\n",
       "\n",
       "    .dataframe tbody tr th {\n",
       "        vertical-align: top;\n",
       "    }\n",
       "\n",
       "    .dataframe thead th {\n",
       "        text-align: right;\n",
       "    }\n",
       "</style>\n",
       "<table border=\"1\" class=\"dataframe\">\n",
       "  <thead>\n",
       "    <tr style=\"text-align: right;\">\n",
       "      <th></th>\n",
       "      <th>word_freq_free</th>\n",
       "      <th>word_freq_you</th>\n",
       "      <th>word_freq_your</th>\n",
       "      <th>word_freq_hp</th>\n",
       "      <th>word_freq_george</th>\n",
       "      <th>label_spam</th>\n",
       "    </tr>\n",
       "  </thead>\n",
       "  <tbody>\n",
       "    <tr>\n",
       "      <th>3795</th>\n",
       "      <td>0.0</td>\n",
       "      <td>6.00</td>\n",
       "      <td>0.00</td>\n",
       "      <td>0.00</td>\n",
       "      <td>0.00</td>\n",
       "      <td>0</td>\n",
       "    </tr>\n",
       "    <tr>\n",
       "      <th>4025</th>\n",
       "      <td>0.0</td>\n",
       "      <td>2.41</td>\n",
       "      <td>1.03</td>\n",
       "      <td>2.06</td>\n",
       "      <td>1.03</td>\n",
       "      <td>0</td>\n",
       "    </tr>\n",
       "    <tr>\n",
       "      <th>4329</th>\n",
       "      <td>0.0</td>\n",
       "      <td>2.96</td>\n",
       "      <td>0.00</td>\n",
       "      <td>0.00</td>\n",
       "      <td>0.00</td>\n",
       "      <td>0</td>\n",
       "    </tr>\n",
       "    <tr>\n",
       "      <th>3437</th>\n",
       "      <td>0.0</td>\n",
       "      <td>2.00</td>\n",
       "      <td>8.00</td>\n",
       "      <td>0.00</td>\n",
       "      <td>0.00</td>\n",
       "      <td>0</td>\n",
       "    </tr>\n",
       "    <tr>\n",
       "      <th>2371</th>\n",
       "      <td>0.0</td>\n",
       "      <td>1.72</td>\n",
       "      <td>0.00</td>\n",
       "      <td>0.00</td>\n",
       "      <td>0.00</td>\n",
       "      <td>0</td>\n",
       "    </tr>\n",
       "  </tbody>\n",
       "</table>\n",
       "</div>"
      ],
      "text/plain": [
       "      word_freq_free  word_freq_you  word_freq_your  word_freq_hp  \\\n",
       "3795             0.0           6.00            0.00          0.00   \n",
       "4025             0.0           2.41            1.03          2.06   \n",
       "4329             0.0           2.96            0.00          0.00   \n",
       "3437             0.0           2.00            8.00          0.00   \n",
       "2371             0.0           1.72            0.00          0.00   \n",
       "\n",
       "      word_freq_george  label_spam  \n",
       "3795              0.00           0  \n",
       "4025              1.03           0  \n",
       "4329              0.00           0  \n",
       "3437              0.00           0  \n",
       "2371              0.00           0  "
      ]
     },
     "execution_count": 48,
     "metadata": {},
     "output_type": "execute_result"
    }
   ],
   "source": [
    "columns_to_remove = []\n",
    "df_lasso = df_undersampled.copy(deep=True)\n",
    "for column in df_lasso.columns:\n",
    "    if column not in key_columns:\n",
    "        columns_to_remove.append(column)\n",
    "        \n",
    "lasso_removed = df_lasso.drop(columns_to_remove, axis=1)\n",
    "lasso_removed.head()"
   ]
  },
  {
   "cell_type": "code",
   "execution_count": 49,
   "metadata": {},
   "outputs": [],
   "source": [
    "X = lasso_removed.drop(\"label_spam\",axis = 1).values\n",
    "y = lasso_removed[\"label_spam\"].values\n",
    "X_train,X_test, y_train, y_test = train_test_split(X,y,test_size = 0.2, random_state = 1)\n",
    "\n",
    "lasso_logistic_regression_model = LogisticRegression(max_iter = 3000)\n",
    "lasso_logistic_regression_model.fit(X_train,y_train)\n",
    "lasso_prediction = lasso_logistic_regression_model.predict(X_test)"
   ]
  },
  {
   "cell_type": "code",
   "execution_count": 50,
   "metadata": {},
   "outputs": [],
   "source": [
    "conf_matrix = confusion_matrix(y_true=y_test,y_pred=lasso_prediction)\n",
    "TP = conf_matrix[1,1]\n",
    "TN = conf_matrix[0,0]\n",
    "FP = conf_matrix[0,1]\n",
    "FN = conf_matrix[1,0]\n",
    "sensitivity = TP/(TP+FN)\n",
    "specificity = TN/(TN+FP)\n",
    "accuracy = accuracy_score(y_test,lasso_prediction)*100\n",
    "f1 = f1_score(y_test, lasso_prediction)\n",
    "precision = precision_score(y_test, lasso_prediction)\n",
    "recall = recall_score(y_test, lasso_prediction)"
   ]
  },
  {
   "cell_type": "code",
   "execution_count": 51,
   "metadata": {},
   "outputs": [
    {
     "name": "stdout",
     "output_type": "stream",
     "text": [
      "Accuracy:  83.7465564738292\n",
      "F1 Score:  0.8289855072463769\n",
      "Precision:  0.8511904761904762\n",
      "Recall:  0.807909604519774\n",
      "Specificity:  0.8655913978494624\n",
      "Sensitivity:  0.807909604519774\n",
      "True positive:  286\n",
      "False positive:  50\n",
      "True negative:  322\n",
      "False negative:  68\n"
     ]
    }
   ],
   "source": [
    "print(\"Accuracy: \", accuracy)\n",
    "print(\"F1 Score: \", f1)\n",
    "print(\"Precision: \", precision)\n",
    "print(\"Recall: \", recall)\n",
    "print(\"Specificity: \", specificity)\n",
    "print(\"Sensitivity: \", sensitivity)\n",
    "print(\"True positive: \", TP)\n",
    "print(\"False positive: \", FP)\n",
    "print(\"True negative: \", TN)\n",
    "print(\"False negative: \", FN)"
   ]
  },
  {
   "cell_type": "markdown",
   "metadata": {},
   "source": [
    "### EXTRA TREE"
   ]
  },
  {
   "cell_type": "code",
   "execution_count": 52,
   "metadata": {},
   "outputs": [
    {
     "name": "stdout",
     "output_type": "stream",
     "text": [
      "word_freq_make\n",
      "word_freq_address\n",
      "word_freq_all\n",
      "word_freq_3d\n",
      "word_freq_our\n"
     ]
    }
   ],
   "source": [
    "et_classifier = ExtraTreesClassifier()\n",
    "et_classifier.fit(X,y)\n",
    "select_from_model = SelectFromModel(et_classifier, threshold = 0.05)\n",
    "select_from_model.fit(X,y)\n",
    "feature_list = select_from_model.get_support(indices=True)\n",
    "for feature in feature_list:\n",
    "    print(df_undersampled.columns[feature])\n"
   ]
  },
  {
   "cell_type": "markdown",
   "metadata": {},
   "source": [
    "### PRINCIPAL COMPONENT ANALYSIS - PCA"
   ]
  },
  {
   "cell_type": "code",
   "execution_count": 53,
   "metadata": {},
   "outputs": [
    {
     "data": {
      "text/plain": [
       "array([0.54643876, 0.21031341, 0.13170236, 0.0691182 , 0.04242728])"
      ]
     },
     "execution_count": 53,
     "metadata": {},
     "output_type": "execute_result"
    }
   ],
   "source": [
    "#PCA feature variances\n",
    "X_train, X_test, y_train, y_test = train_test_split(X, y, test_size=0.20)\n",
    "pca = PCA()\n",
    "X_train = pca.fit_transform(X_train)\n",
    "X_test = pca.transform(X_test)\n",
    "feature_variances = pca.explained_variance_ratio_\n",
    "feature_variances"
   ]
  },
  {
   "cell_type": "markdown",
   "metadata": {},
   "source": [
    "# Kombinacija logističke regresije sa PCA algoritmom"
   ]
  },
  {
   "cell_type": "code",
   "execution_count": 54,
   "metadata": {},
   "outputs": [
    {
     "ename": "ValueError",
     "evalue": "n_components=20 must be between 0 and min(n_samples, n_features)=5 with svd_solver='full'",
     "output_type": "error",
     "traceback": [
      "\u001b[1;31m---------------------------------------------------------------------------\u001b[0m",
      "\u001b[1;31mValueError\u001b[0m                                Traceback (most recent call last)",
      "\u001b[1;32m<ipython-input-54-e4a6a6560159>\u001b[0m in \u001b[0;36m<module>\u001b[1;34m\u001b[0m\n\u001b[0;32m      2\u001b[0m \u001b[0mX_train\u001b[0m\u001b[1;33m,\u001b[0m \u001b[0mX_test\u001b[0m\u001b[1;33m,\u001b[0m \u001b[0my_train\u001b[0m\u001b[1;33m,\u001b[0m \u001b[0my_test\u001b[0m \u001b[1;33m=\u001b[0m \u001b[0mtrain_test_split\u001b[0m\u001b[1;33m(\u001b[0m\u001b[0mX\u001b[0m\u001b[1;33m,\u001b[0m \u001b[0my\u001b[0m\u001b[1;33m,\u001b[0m \u001b[0mtest_size\u001b[0m\u001b[1;33m=\u001b[0m\u001b[1;36m0.20\u001b[0m\u001b[1;33m)\u001b[0m\u001b[1;33m\u001b[0m\u001b[1;33m\u001b[0m\u001b[0m\n\u001b[0;32m      3\u001b[0m \u001b[0mpca\u001b[0m \u001b[1;33m=\u001b[0m \u001b[0mPCA\u001b[0m\u001b[1;33m(\u001b[0m\u001b[0mn_components\u001b[0m \u001b[1;33m=\u001b[0m \u001b[1;36m20\u001b[0m\u001b[1;33m)\u001b[0m\u001b[1;33m\u001b[0m\u001b[1;33m\u001b[0m\u001b[0m\n\u001b[1;32m----> 4\u001b[1;33m \u001b[0mX_train\u001b[0m \u001b[1;33m=\u001b[0m \u001b[0mpca\u001b[0m\u001b[1;33m.\u001b[0m\u001b[0mfit_transform\u001b[0m\u001b[1;33m(\u001b[0m\u001b[0mX_train\u001b[0m\u001b[1;33m)\u001b[0m\u001b[1;33m\u001b[0m\u001b[1;33m\u001b[0m\u001b[0m\n\u001b[0m\u001b[0;32m      5\u001b[0m \u001b[0mX_test\u001b[0m \u001b[1;33m=\u001b[0m \u001b[0mpca\u001b[0m\u001b[1;33m.\u001b[0m\u001b[0mtransform\u001b[0m\u001b[1;33m(\u001b[0m\u001b[0mX_test\u001b[0m\u001b[1;33m)\u001b[0m\u001b[1;33m\u001b[0m\u001b[1;33m\u001b[0m\u001b[0m\n\u001b[0;32m      6\u001b[0m \u001b[0mlogmodel\u001b[0m\u001b[1;33m=\u001b[0m\u001b[0mLogisticRegression\u001b[0m\u001b[1;33m(\u001b[0m\u001b[0mmax_iter\u001b[0m \u001b[1;33m=\u001b[0m \u001b[1;36m3000\u001b[0m\u001b[1;33m)\u001b[0m\u001b[1;33m\u001b[0m\u001b[1;33m\u001b[0m\u001b[0m\n",
      "\u001b[1;32mc:\\users\\admin200918\\appdata\\local\\programs\\python\\python37\\lib\\site-packages\\sklearn\\decomposition\\_pca.py\u001b[0m in \u001b[0;36mfit_transform\u001b[1;34m(self, X, y)\u001b[0m\n\u001b[0;32m    374\u001b[0m         \u001b[0mC\u001b[0m\u001b[1;33m-\u001b[0m\u001b[0mordered\u001b[0m \u001b[0marray\u001b[0m\u001b[1;33m,\u001b[0m \u001b[0muse\u001b[0m \u001b[1;34m'np.ascontiguousarray'\u001b[0m\u001b[1;33m.\u001b[0m\u001b[1;33m\u001b[0m\u001b[1;33m\u001b[0m\u001b[0m\n\u001b[0;32m    375\u001b[0m         \"\"\"\n\u001b[1;32m--> 376\u001b[1;33m         \u001b[0mU\u001b[0m\u001b[1;33m,\u001b[0m \u001b[0mS\u001b[0m\u001b[1;33m,\u001b[0m \u001b[0mV\u001b[0m \u001b[1;33m=\u001b[0m \u001b[0mself\u001b[0m\u001b[1;33m.\u001b[0m\u001b[0m_fit\u001b[0m\u001b[1;33m(\u001b[0m\u001b[0mX\u001b[0m\u001b[1;33m)\u001b[0m\u001b[1;33m\u001b[0m\u001b[1;33m\u001b[0m\u001b[0m\n\u001b[0m\u001b[0;32m    377\u001b[0m         \u001b[0mU\u001b[0m \u001b[1;33m=\u001b[0m \u001b[0mU\u001b[0m\u001b[1;33m[\u001b[0m\u001b[1;33m:\u001b[0m\u001b[1;33m,\u001b[0m \u001b[1;33m:\u001b[0m\u001b[0mself\u001b[0m\u001b[1;33m.\u001b[0m\u001b[0mn_components_\u001b[0m\u001b[1;33m]\u001b[0m\u001b[1;33m\u001b[0m\u001b[1;33m\u001b[0m\u001b[0m\n\u001b[0;32m    378\u001b[0m \u001b[1;33m\u001b[0m\u001b[0m\n",
      "\u001b[1;32mc:\\users\\admin200918\\appdata\\local\\programs\\python\\python37\\lib\\site-packages\\sklearn\\decomposition\\_pca.py\u001b[0m in \u001b[0;36m_fit\u001b[1;34m(self, X)\u001b[0m\n\u001b[0;32m    421\u001b[0m         \u001b[1;31m# Call different fits for either full or truncated SVD\u001b[0m\u001b[1;33m\u001b[0m\u001b[1;33m\u001b[0m\u001b[1;33m\u001b[0m\u001b[0m\n\u001b[0;32m    422\u001b[0m         \u001b[1;32mif\u001b[0m \u001b[0mself\u001b[0m\u001b[1;33m.\u001b[0m\u001b[0m_fit_svd_solver\u001b[0m \u001b[1;33m==\u001b[0m \u001b[1;34m'full'\u001b[0m\u001b[1;33m:\u001b[0m\u001b[1;33m\u001b[0m\u001b[1;33m\u001b[0m\u001b[0m\n\u001b[1;32m--> 423\u001b[1;33m             \u001b[1;32mreturn\u001b[0m \u001b[0mself\u001b[0m\u001b[1;33m.\u001b[0m\u001b[0m_fit_full\u001b[0m\u001b[1;33m(\u001b[0m\u001b[0mX\u001b[0m\u001b[1;33m,\u001b[0m \u001b[0mn_components\u001b[0m\u001b[1;33m)\u001b[0m\u001b[1;33m\u001b[0m\u001b[1;33m\u001b[0m\u001b[0m\n\u001b[0m\u001b[0;32m    424\u001b[0m         \u001b[1;32melif\u001b[0m \u001b[0mself\u001b[0m\u001b[1;33m.\u001b[0m\u001b[0m_fit_svd_solver\u001b[0m \u001b[1;32min\u001b[0m \u001b[1;33m[\u001b[0m\u001b[1;34m'arpack'\u001b[0m\u001b[1;33m,\u001b[0m \u001b[1;34m'randomized'\u001b[0m\u001b[1;33m]\u001b[0m\u001b[1;33m:\u001b[0m\u001b[1;33m\u001b[0m\u001b[1;33m\u001b[0m\u001b[0m\n\u001b[0;32m    425\u001b[0m             \u001b[1;32mreturn\u001b[0m \u001b[0mself\u001b[0m\u001b[1;33m.\u001b[0m\u001b[0m_fit_truncated\u001b[0m\u001b[1;33m(\u001b[0m\u001b[0mX\u001b[0m\u001b[1;33m,\u001b[0m \u001b[0mn_components\u001b[0m\u001b[1;33m,\u001b[0m \u001b[0mself\u001b[0m\u001b[1;33m.\u001b[0m\u001b[0m_fit_svd_solver\u001b[0m\u001b[1;33m)\u001b[0m\u001b[1;33m\u001b[0m\u001b[1;33m\u001b[0m\u001b[0m\n",
      "\u001b[1;32mc:\\users\\admin200918\\appdata\\local\\programs\\python\\python37\\lib\\site-packages\\sklearn\\decomposition\\_pca.py\u001b[0m in \u001b[0;36m_fit_full\u001b[1;34m(self, X, n_components)\u001b[0m\n\u001b[0;32m    440\u001b[0m                              \u001b[1;34m\"min(n_samples, n_features)=%r with \"\u001b[0m\u001b[1;33m\u001b[0m\u001b[1;33m\u001b[0m\u001b[0m\n\u001b[0;32m    441\u001b[0m                              \u001b[1;34m\"svd_solver='full'\"\u001b[0m\u001b[1;33m\u001b[0m\u001b[1;33m\u001b[0m\u001b[0m\n\u001b[1;32m--> 442\u001b[1;33m                              % (n_components, min(n_samples, n_features)))\n\u001b[0m\u001b[0;32m    443\u001b[0m         \u001b[1;32melif\u001b[0m \u001b[0mn_components\u001b[0m \u001b[1;33m>=\u001b[0m \u001b[1;36m1\u001b[0m\u001b[1;33m:\u001b[0m\u001b[1;33m\u001b[0m\u001b[1;33m\u001b[0m\u001b[0m\n\u001b[0;32m    444\u001b[0m             \u001b[1;32mif\u001b[0m \u001b[1;32mnot\u001b[0m \u001b[0misinstance\u001b[0m\u001b[1;33m(\u001b[0m\u001b[0mn_components\u001b[0m\u001b[1;33m,\u001b[0m \u001b[0mnumbers\u001b[0m\u001b[1;33m.\u001b[0m\u001b[0mIntegral\u001b[0m\u001b[1;33m)\u001b[0m\u001b[1;33m:\u001b[0m\u001b[1;33m\u001b[0m\u001b[1;33m\u001b[0m\u001b[0m\n",
      "\u001b[1;31mValueError\u001b[0m: n_components=20 must be between 0 and min(n_samples, n_features)=5 with svd_solver='full'"
     ]
    }
   ],
   "source": [
    "#PCA decomposition over LogisticRegression\n",
    "X_train, X_test, y_train, y_test = train_test_split(X, y, test_size=0.20)\n",
    "pca = PCA(n_components = 20)\n",
    "X_train = pca.fit_transform(X_train)\n",
    "X_test = pca.transform(X_test)\n",
    "logmodel=LogisticRegression(max_iter = 3000)\n",
    "logmodel.fit(X_train, y_train)\n",
    "prediction = logmodel.predict(X_test)"
   ]
  },
  {
   "cell_type": "code",
   "execution_count": 55,
   "metadata": {},
   "outputs": [
    {
     "ename": "NameError",
     "evalue": "name 'prediction' is not defined",
     "output_type": "error",
     "traceback": [
      "\u001b[1;31m---------------------------------------------------------------------------\u001b[0m",
      "\u001b[1;31mNameError\u001b[0m                                 Traceback (most recent call last)",
      "\u001b[1;32m<ipython-input-55-4f102c6edf0d>\u001b[0m in \u001b[0;36m<module>\u001b[1;34m\u001b[0m\n\u001b[1;32m----> 1\u001b[1;33m \u001b[0mconf_matrix\u001b[0m \u001b[1;33m=\u001b[0m \u001b[0mconfusion_matrix\u001b[0m\u001b[1;33m(\u001b[0m\u001b[0my_true\u001b[0m\u001b[1;33m=\u001b[0m\u001b[0my_test\u001b[0m\u001b[1;33m,\u001b[0m\u001b[0my_pred\u001b[0m\u001b[1;33m=\u001b[0m\u001b[0mprediction\u001b[0m\u001b[1;33m)\u001b[0m\u001b[1;33m\u001b[0m\u001b[1;33m\u001b[0m\u001b[0m\n\u001b[0m\u001b[0;32m      2\u001b[0m \u001b[0mTP\u001b[0m \u001b[1;33m=\u001b[0m \u001b[0mconf_matrix\u001b[0m\u001b[1;33m[\u001b[0m\u001b[1;36m1\u001b[0m\u001b[1;33m,\u001b[0m\u001b[1;36m1\u001b[0m\u001b[1;33m]\u001b[0m\u001b[1;33m\u001b[0m\u001b[1;33m\u001b[0m\u001b[0m\n\u001b[0;32m      3\u001b[0m \u001b[0mTN\u001b[0m \u001b[1;33m=\u001b[0m \u001b[0mconf_matrix\u001b[0m\u001b[1;33m[\u001b[0m\u001b[1;36m0\u001b[0m\u001b[1;33m,\u001b[0m\u001b[1;36m0\u001b[0m\u001b[1;33m]\u001b[0m\u001b[1;33m\u001b[0m\u001b[1;33m\u001b[0m\u001b[0m\n\u001b[0;32m      4\u001b[0m \u001b[0mFP\u001b[0m \u001b[1;33m=\u001b[0m \u001b[0mconf_matrix\u001b[0m\u001b[1;33m[\u001b[0m\u001b[1;36m0\u001b[0m\u001b[1;33m,\u001b[0m\u001b[1;36m1\u001b[0m\u001b[1;33m]\u001b[0m\u001b[1;33m\u001b[0m\u001b[1;33m\u001b[0m\u001b[0m\n\u001b[0;32m      5\u001b[0m \u001b[0mFN\u001b[0m \u001b[1;33m=\u001b[0m \u001b[0mconf_matrix\u001b[0m\u001b[1;33m[\u001b[0m\u001b[1;36m1\u001b[0m\u001b[1;33m,\u001b[0m\u001b[1;36m0\u001b[0m\u001b[1;33m]\u001b[0m\u001b[1;33m\u001b[0m\u001b[1;33m\u001b[0m\u001b[0m\n",
      "\u001b[1;31mNameError\u001b[0m: name 'prediction' is not defined"
     ]
    }
   ],
   "source": [
    "conf_matrix = confusion_matrix(y_true=y_test,y_pred=prediction)\n",
    "TP = conf_matrix[1,1]\n",
    "TN = conf_matrix[0,0]\n",
    "FP = conf_matrix[0,1]\n",
    "FN = conf_matrix[1,0]\n",
    "sensitivity = TP/(TP+FN)\n",
    "specificity = TN/(TN+FP)\n",
    "accuracy = accuracy_score(y_test,prediction)*100\n",
    "f1 = f1_score(y_test, prediction)\n",
    "precision = precision_score(y_test, prediction)\n",
    "recall = recall_score(y_test, prediction)"
   ]
  },
  {
   "cell_type": "code",
   "execution_count": 56,
   "metadata": {},
   "outputs": [
    {
     "name": "stdout",
     "output_type": "stream",
     "text": [
      "Accuracy:  83.7465564738292\n",
      "F1 Score:  0.8289855072463769\n",
      "Precision:  0.8511904761904762\n",
      "Recall:  0.807909604519774\n",
      "Specificity:  0.8655913978494624\n",
      "Sensitivity:  0.807909604519774\n",
      "True positive:  286\n",
      "False positive:  50\n",
      "True negative:  322\n",
      "False negative:  68\n"
     ]
    }
   ],
   "source": [
    "print(\"Accuracy: \", accuracy)\n",
    "print(\"F1 Score: \", f1)\n",
    "print(\"Precision: \", precision)\n",
    "print(\"Recall: \", recall)\n",
    "print(\"Specificity: \", specificity)\n",
    "print(\"Sensitivity: \", sensitivity)\n",
    "print(\"True positive: \", TP)\n",
    "print(\"False positive: \", FP)\n",
    "print(\"True negative: \", TN)\n",
    "print(\"False negative: \", FN)"
   ]
  },
  {
   "cell_type": "markdown",
   "metadata": {},
   "source": [
    "### RIDGE REGRESSION"
   ]
  },
  {
   "cell_type": "code",
   "execution_count": 152,
   "metadata": {},
   "outputs": [
    {
     "name": "stdout",
     "output_type": "stream",
     "text": [
      "Train set errors:\n",
      "0.362998440829778\n",
      "0.47292451678244085\n",
      "Test set errors:\n",
      "0.3493071882994953\n",
      "0.5118786828665456\n"
     ]
    }
   ],
   "source": [
    "#Ridge\n",
    "#error over train set \n",
    "model = Ridge(alpha = 0.04, normalize = True)\n",
    "model_fit = model.fit(X_train, y_train)\n",
    "prediction_train = model_fit.predict(X_train)\n",
    "print(\"Train set errors:\")\n",
    "print(np.sqrt(mean_squared_error(y_train,prediction_train)))\n",
    "print(r2_score(y_train, prediction_train))\n",
    "\n",
    "#error over test set\n",
    "prediction_test = model_fit.predict(X_test)\n",
    "print(\"Test set errors:\")\n",
    "print(np.sqrt(mean_squared_error(y_test,prediction_test)))\n",
    "print(r2_score(y_test, prediction_test))"
   ]
  },
  {
   "cell_type": "code",
   "execution_count": null,
   "metadata": {},
   "outputs": [],
   "source": []
  },
  {
   "cell_type": "code",
   "execution_count": null,
   "metadata": {},
   "outputs": [],
   "source": []
  },
  {
   "cell_type": "code",
   "execution_count": null,
   "metadata": {},
   "outputs": [],
   "source": []
  }
 ],
 "metadata": {
  "kernelspec": {
   "display_name": "Python 3",
   "language": "python",
   "name": "python3"
  },
  "language_info": {
   "codemirror_mode": {
    "name": "ipython",
    "version": 3
   },
   "file_extension": ".py",
   "mimetype": "text/x-python",
   "name": "python",
   "nbconvert_exporter": "python",
   "pygments_lexer": "ipython3",
   "version": "3.7.9"
  }
 },
 "nbformat": 4,
 "nbformat_minor": 4
}
